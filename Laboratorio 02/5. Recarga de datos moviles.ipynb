{
 "nbformat": 4,
 "nbformat_minor": 0,
 "metadata": {
  "colab": {
   "provenance": [],
   "authorship_tag": "ABX9TyO7UxA+jw1Q54P5BF6Tx4VG"
  },
  "kernelspec": {
   "name": "python3",
   "display_name": "Python 3"
  },
  "language_info": {
   "name": "python"
  }
 },
 "cells": [
  {
   "cell_type": "markdown",
   "source": [
    "# RECARGA DE DATOS MOVILES\n",
    "\n",
    "**Alumno:** VASQUEZ RAMOS, Jose Manuel\n",
    "\n",
    "**Fecha:** 05/05/2025"
   ],
   "metadata": {
    "id": "cYfiZtOJvIwZ"
   }
  },
  {
   "cell_type": "markdown",
   "source": [
    "Importamos las librerías necesarias"
   ],
   "metadata": {
    "id": "edL2bMf2wZoY"
   }
  },
  {
   "cell_type": "code",
   "execution_count": 1,
   "metadata": {
    "id": "M6LL84W8vEmW",
    "executionInfo": {
     "status": "ok",
     "timestamp": 1746470461235,
     "user_tz": 300,
     "elapsed": 4,
     "user": {
      "displayName": "JOSE MANUEL VASQUEZ RAMOS",
      "userId": "07394047291269729047"
     }
    }
   },
   "outputs": [],
   "source": [
    "import numpy as np"
   ]
  },
  {
   "cell_type": "markdown",
   "source": [
    "## Planteamiento"
   ],
   "metadata": {
    "id": "QSyyPO2twbgv"
   }
  },
  {
   "cell_type": "markdown",
   "source": [
    "Definimos los planes de datos móviles"
   ],
   "metadata": {
    "id": "Mn9C7LmZwh__"
   }
  },
  {
   "cell_type": "code",
   "source": [
    "gb = np.array([1, 2, 5, 10])\n",
    "precios = np.array([5.00, 9.00, 20.00, 35.00])"
   ],
   "metadata": {
    "id": "4yWVibN5wD4U",
    "executionInfo": {
     "status": "ok",
     "timestamp": 1746470487161,
     "user_tz": 300,
     "elapsed": 12,
     "user": {
      "displayName": "JOSE MANUEL VASQUEZ RAMOS",
      "userId": "07394047291269729047"
     }
    }
   },
   "execution_count": 2,
   "outputs": []
  },
  {
   "cell_type": "markdown",
   "source": [
    "## Dedarrollo"
   ],
   "metadata": {
    "id": "YxK54_yswqzn"
   }
  },
  {
   "cell_type": "markdown",
   "source": [
    "Calculamos el costo por GB"
   ],
   "metadata": {
    "id": "9RUWqwpswwLX"
   }
  },
  {
   "cell_type": "code",
   "source": [
    "costo_por_gb = precios / gb\n",
    "print(costo_por_gb)"
   ],
   "metadata": {
    "colab": {
     "base_uri": "https://localhost:8080/"
    },
    "id": "gGO8oTYKwMNy",
    "executionInfo": {
     "status": "ok",
     "timestamp": 1746470610621,
     "user_tz": 300,
     "elapsed": 52,
     "user": {
      "displayName": "JOSE MANUEL VASQUEZ RAMOS",
      "userId": "07394047291269729047"
     }
    },
    "outputId": "ad2b7378-b710-4fde-c1a2-60c993cc2d09"
   },
   "execution_count": 4,
   "outputs": [
    {
     "output_type": "stream",
     "name": "stdout",
     "text": [
      "[5.  4.5 4.  3.5]\n"
     ]
    }
   ]
  },
  {
   "cell_type": "markdown",
   "source": [
    "Encontrar el paquete más económico por GB"
   ],
   "metadata": {
    "id": "bpu_wbkAw5Av"
   }
  },
  {
   "cell_type": "code",
   "source": [
    "indice_minimo = np.argmin(costo_por_gb)\n",
    "paquete_mas_economico = gb[indice_minimo]"
   ],
   "metadata": {
    "id": "p5H_YkPXwOYr",
    "executionInfo": {
     "status": "ok",
     "timestamp": 1746470720546,
     "user_tz": 300,
     "elapsed": 4,
     "user": {
      "displayName": "JOSE MANUEL VASQUEZ RAMOS",
      "userId": "07394047291269729047"
     }
    }
   },
   "execution_count": 5,
   "outputs": []
  },
  {
   "cell_type": "markdown",
   "source": [
    "## Solución"
   ],
   "metadata": {
    "id": "1oYVCaVAxF5n"
   }
  },
  {
   "cell_type": "markdown",
   "source": [
    "1. Calcular el costo por GB para cada paquete."
   ],
   "metadata": {
    "id": "zYVGylzVxsEn"
   }
  },
  {
   "cell_type": "code",
   "source": [
    "for i in range(len(gb)):\n",
    "    print(f'Paquete de {gb[i]} GB: precio S/ {precios[i]:.2f} -> costo por GB: S/ {costo_por_gb[i]:.2f}')"
   ],
   "metadata": {
    "colab": {
     "base_uri": "https://localhost:8080/"
    },
    "id": "PlyuV7qOxFMO",
    "executionInfo": {
     "status": "ok",
     "timestamp": 1746470794352,
     "user_tz": 300,
     "elapsed": 6,
     "user": {
      "displayName": "JOSE MANUEL VASQUEZ RAMOS",
      "userId": "07394047291269729047"
     }
    },
    "outputId": "52d9b175-b02d-4caa-d7fa-99e31844798d"
   },
   "execution_count": 6,
   "outputs": [
    {
     "output_type": "stream",
     "name": "stdout",
     "text": [
      "Paquete de 1 GB: precio S/ 5.00 -> costo por GB: S/ 5.00\n",
      "Paquete de 2 GB: precio S/ 9.00 -> costo por GB: S/ 4.50\n",
      "Paquete de 5 GB: precio S/ 20.00 -> costo por GB: S/ 4.00\n",
      "Paquete de 10 GB: precio S/ 35.00 -> costo por GB: S/ 3.50\n"
     ]
    }
   ]
  },
  {
   "cell_type": "markdown",
   "source": [
    "2. Encontrar e paquete más economico en precios por GB."
   ],
   "metadata": {
    "id": "aM7fopNwxyuH"
   }
  },
  {
   "cell_type": "code",
   "source": [
    "print(f'El paquete más económico por GB es el de {gb[indice_minimo]} GB.')\n",
    "print(f'Tiene un costo total de S/ {precios[indice_minimo]:.2f}.')\n",
    "print(f'Cada GB cuesta S/ {costo_por_gb[indice_minimo]:.2f}.')"
   ],
   "metadata": {
    "colab": {
     "base_uri": "https://localhost:8080/"
    },
    "id": "8dBndG_sxWjH",
    "executionInfo": {
     "status": "ok",
     "timestamp": 1746470873088,
     "user_tz": 300,
     "elapsed": 7,
     "user": {
      "displayName": "JOSE MANUEL VASQUEZ RAMOS",
      "userId": "07394047291269729047"
     }
    },
    "outputId": "3eaaaaf3-dfd3-4a18-c3e0-d471701b788e"
   },
   "execution_count": 10,
   "outputs": [
    {
     "output_type": "stream",
     "name": "stdout",
     "text": [
      "El paquete más económico por GB es el de 10 GB.\n",
      "Tiene un costo total de S/ 35.00.\n",
      "Cada GB cuesta S/ 3.50.\n"
     ]
    }
   ]
  }
 ]
}
