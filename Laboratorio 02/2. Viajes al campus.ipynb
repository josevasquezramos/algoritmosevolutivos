{
 "nbformat": 4,
 "nbformat_minor": 0,
 "metadata": {
  "colab": {
   "provenance": [],
   "authorship_tag": "ABX9TyMioid0sAk0g/yI1rYCMZJM"
  },
  "kernelspec": {
   "name": "python3",
   "display_name": "Python 3"
  },
  "language_info": {
   "name": "python"
  }
 },
 "cells": [
  {
   "cell_type": "markdown",
   "source": [
    "# VIAJES AL CAMPUS\n",
    "\n",
    "**Alumno:** VASQUEZ RAMOS, Jose Manuel\n",
    "\n",
    "**Fecha:** 05/05/2025"
   ],
   "metadata": {
    "id": "APrc2wQzekrC"
   }
  },
  {
   "cell_type": "markdown",
   "source": [
    "Importamos las librerías necesarias"
   ],
   "metadata": {
    "id": "Thb-MoehftUx"
   }
  },
  {
   "cell_type": "code",
   "source": [
    "import numpy as np"
   ],
   "metadata": {
    "id": "W2xyWk3IdhTB",
    "executionInfo": {
     "status": "ok",
     "timestamp": 1746465596072,
     "user_tz": 300,
     "elapsed": 1,
     "user": {
      "displayName": "JOSE MANUEL VASQUEZ RAMOS",
      "userId": "07394047291269729047"
     }
    }
   },
   "execution_count": 2,
   "outputs": []
  },
  {
   "cell_type": "markdown",
   "source": [
    "## PLANTEAMIENTO"
   ],
   "metadata": {
    "id": "xpUlQn-5eogx"
   }
  },
  {
   "cell_type": "markdown",
   "source": [
    "Definimos el presupuesto"
   ],
   "metadata": {
    "id": "srdnrXtnerf5"
   }
  },
  {
   "cell_type": "code",
   "execution_count": 1,
   "metadata": {
    "id": "rCtWByN4dJSj",
    "executionInfo": {
     "status": "ok",
     "timestamp": 1746465534072,
     "user_tz": 300,
     "elapsed": 29,
     "user": {
      "displayName": "JOSE MANUEL VASQUEZ RAMOS",
      "userId": "07394047291269729047"
     }
    }
   },
   "outputs": [],
   "source": [
    "presupuesto = 15"
   ]
  },
  {
   "cell_type": "markdown",
   "source": [
    "Definimos los costos de viaje por cada medio"
   ],
   "metadata": {
    "id": "omEgJaUce2dp"
   }
  },
  {
   "cell_type": "code",
   "source": [
    "precios = np.array([2.50, 3.00, 1.80])"
   ],
   "metadata": {
    "id": "ZRbuix3-dQ2a",
    "executionInfo": {
     "status": "ok",
     "timestamp": 1746465712038,
     "user_tz": 300,
     "elapsed": 27,
     "user": {
      "displayName": "JOSE MANUEL VASQUEZ RAMOS",
      "userId": "07394047291269729047"
     }
    }
   },
   "execution_count": 6,
   "outputs": []
  },
  {
   "cell_type": "markdown",
   "source": [
    "Mapeamos el nombre de los medios"
   ],
   "metadata": {
    "id": "v99MMqk6e6Jp"
   }
  },
  {
   "cell_type": "code",
   "source": [
    "medios = ['BUS', 'COMBI', 'TREN']"
   ],
   "metadata": {
    "id": "IXktEOHvdjBR",
    "executionInfo": {
     "status": "ok",
     "timestamp": 1746465752407,
     "user_tz": 300,
     "elapsed": 7,
     "user": {
      "displayName": "JOSE MANUEL VASQUEZ RAMOS",
      "userId": "07394047291269729047"
     }
    }
   },
   "execution_count": 9,
   "outputs": []
  },
  {
   "cell_type": "markdown",
   "source": [
    "## DESARROLLO"
   ],
   "metadata": {
    "id": "cxGBrBv0e88R"
   }
  },
  {
   "cell_type": "markdown",
   "source": [
    "Calculamos cuantos viajes puede hacer por cada medio con su presupuesto"
   ],
   "metadata": {
    "id": "iT_VnusBfANB"
   }
  },
  {
   "cell_type": "code",
   "source": [
    "max_viajes = np.floor(presupuesto / precios)\n",
    "\n",
    "print(max_viajes)"
   ],
   "metadata": {
    "colab": {
     "base_uri": "https://localhost:8080/"
    },
    "id": "NXeNrEqgduXp",
    "executionInfo": {
     "status": "ok",
     "timestamp": 1746465753601,
     "user_tz": 300,
     "elapsed": 23,
     "user": {
      "displayName": "JOSE MANUEL VASQUEZ RAMOS",
      "userId": "07394047291269729047"
     }
    },
    "outputId": "6aa68463-9239-48a7-f6a6-28b8656fe159"
   },
   "execution_count": 10,
   "outputs": [
    {
     "output_type": "stream",
     "name": "stdout",
     "text": [
      "[6. 5. 8.]\n"
     ]
    }
   ]
  },
  {
   "cell_type": "markdown",
   "source": [
    "Encontramos la mayor cantidad de viajes posibles y su posición en el arreglo"
   ],
   "metadata": {
    "id": "vFfxLsulfHQp"
   }
  },
  {
   "cell_type": "code",
   "source": [
    "cantidad_max = int(max_viajes.max())\n",
    "indice_max = int(max_viajes.argmax())\n",
    "\n",
    "print(cantidad_max)\n",
    "print(indice_max)"
   ],
   "metadata": {
    "colab": {
     "base_uri": "https://localhost:8080/"
    },
    "id": "npjAQX0kd2NB",
    "executionInfo": {
     "status": "ok",
     "timestamp": 1746465754367,
     "user_tz": 300,
     "elapsed": 19,
     "user": {
      "displayName": "JOSE MANUEL VASQUEZ RAMOS",
      "userId": "07394047291269729047"
     }
    },
    "outputId": "69a630ec-f092-4f8c-acfa-1c1595e8b87b"
   },
   "execution_count": 11,
   "outputs": [
    {
     "output_type": "stream",
     "name": "stdout",
     "text": [
      "8\n",
      "2\n"
     ]
    }
   ]
  },
  {
   "cell_type": "markdown",
   "source": [
    "## SOLUCIÓN"
   ],
   "metadata": {
    "id": "67sJMaqpfKKh"
   }
  },
  {
   "cell_type": "markdown",
   "source": [
    "1. Determinar cuantos viajes puede pagar en cada medio"
   ],
   "metadata": {
    "id": "_QD0GZvMfLhq"
   }
  },
  {
   "cell_type": "code",
   "source": [
    "for i, medio in enumerate(medios):\n",
    "    print(f'{medio}: precio S/ {precios[i]:.2f} -> puede viajar hasta {int(max_viajes[i])} veces.')"
   ],
   "metadata": {
    "colab": {
     "base_uri": "https://localhost:8080/"
    },
    "id": "86OWGFcjeCFZ",
    "executionInfo": {
     "status": "ok",
     "timestamp": 1746465791954,
     "user_tz": 300,
     "elapsed": 14,
     "user": {
      "displayName": "JOSE MANUEL VASQUEZ RAMOS",
      "userId": "07394047291269729047"
     }
    },
    "outputId": "48b7776b-7d08-4c43-a3c2-1b4045537ceb"
   },
   "execution_count": 13,
   "outputs": [
    {
     "output_type": "stream",
     "name": "stdout",
     "text": [
      "BUS: precio S/ 2.50 -> puede viajar hasta 6 veces.\n",
      "COMBI: precio S/ 3.00 -> puede viajar hasta 5 veces.\n",
      "TREN: precio S/ 1.80 -> puede viajar hasta 8 veces.\n"
     ]
    }
   ]
  },
  {
   "cell_type": "markdown",
   "source": [
    "2. Hallar el medio de transporte que le permite más viajes"
   ],
   "metadata": {
    "id": "72VS44pEfPeR"
   }
  },
  {
   "cell_type": "code",
   "source": [
    "print(f'Por el medio {medios[indice_max]} obtiene la mayor cantidad de viajes.')\n",
    "print(f'Con su presupuesto de S/ {presupuesto} a un costo de S/ {precios[indice_max]} por viaje.')\n",
    "print(f'Puede viajar hasta {cantidad_max} veces.')"
   ],
   "metadata": {
    "colab": {
     "base_uri": "https://localhost:8080/"
    },
    "id": "KoQD0dyZePtZ",
    "executionInfo": {
     "status": "ok",
     "timestamp": 1746465855161,
     "user_tz": 300,
     "elapsed": 14,
     "user": {
      "displayName": "JOSE MANUEL VASQUEZ RAMOS",
      "userId": "07394047291269729047"
     }
    },
    "outputId": "056dd00d-47a9-4966-d480-d4717df08b6c"
   },
   "execution_count": 14,
   "outputs": [
    {
     "output_type": "stream",
     "name": "stdout",
     "text": [
      "Por el medio TREN obtiene la mayor cantidad de viajes.\n",
      "Con su presupuesto de S/ 15 a un costo de S/ 1.8 por viaje.\n",
      "Puede viajar hasta 8 veces.\n"
     ]
    }
   ]
  }
 ]
}
