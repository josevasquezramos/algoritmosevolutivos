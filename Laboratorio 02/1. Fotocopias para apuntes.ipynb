{
 "nbformat": 4,
 "nbformat_minor": 0,
 "metadata": {
  "colab": {
   "provenance": [],
   "authorship_tag": "ABX9TyMkWZ7Wcu0QxGtzDN5tzmlZ"
  },
  "kernelspec": {
   "name": "python3",
   "display_name": "Python 3"
  },
  "language_info": {
   "name": "python"
  }
 },
 "cells": [
  {
   "cell_type": "markdown",
   "source": [
    "# FOTOCOPIAS PARA APUNTES\n",
    "\n",
    "**Alumno:** VASQUEZ RAMOS, Jose Manuel\n",
    "\n",
    "**Fecha:** 05/05/2025"
   ],
   "metadata": {
    "id": "B3AUxSImc1NC"
   }
  },
  {
   "cell_type": "markdown",
   "source": [
    "Importamos las librerías necesarias"
   ],
   "metadata": {
    "id": "LO01yjCDfoqB"
   }
  },
  {
   "cell_type": "code",
   "execution_count": 1,
   "metadata": {
    "id": "Dqeg_wFPYECD",
    "executionInfo": {
     "status": "ok",
     "timestamp": 1746464287909,
     "user_tz": 300,
     "elapsed": 25,
     "user": {
      "displayName": "JOSE MANUEL VASQUEZ RAMOS",
      "userId": "07394047291269729047"
     }
    }
   },
   "outputs": [],
   "source": [
    "import numpy as np"
   ]
  },
  {
   "cell_type": "markdown",
   "source": [
    "## Planteamiento"
   ],
   "metadata": {
    "id": "3Xzb7sq2cosh"
   }
  },
  {
   "cell_type": "markdown",
   "source": [
    "Definimos el presupuesto"
   ],
   "metadata": {
    "id": "FNQZKqJbb2Ch"
   }
  },
  {
   "cell_type": "code",
   "source": [
    "presupuesto = 8"
   ],
   "metadata": {
    "id": "DjazUalCYgIK",
    "executionInfo": {
     "status": "ok",
     "timestamp": 1746464307195,
     "user_tz": 300,
     "elapsed": 7,
     "user": {
      "displayName": "JOSE MANUEL VASQUEZ RAMOS",
      "userId": "07394047291269729047"
     }
    }
   },
   "execution_count": 2,
   "outputs": []
  },
  {
   "cell_type": "markdown",
   "source": [
    "Definimos los costos de fotocopia por copistería"
   ],
   "metadata": {
    "id": "dwgC5Kfob4nh"
   }
  },
  {
   "cell_type": "code",
   "source": [
    "precios = np.array([0.10, 0.12, 0.08])"
   ],
   "metadata": {
    "id": "cs7V8vaSYnYh",
    "executionInfo": {
     "status": "ok",
     "timestamp": 1746464350765,
     "user_tz": 300,
     "elapsed": 9,
     "user": {
      "displayName": "JOSE MANUEL VASQUEZ RAMOS",
      "userId": "07394047291269729047"
     }
    }
   },
   "execution_count": 3,
   "outputs": []
  },
  {
   "cell_type": "markdown",
   "source": [
    "Mapeamos el nombre de las copisterías"
   ],
   "metadata": {
    "id": "WXdnAakzcfQS"
   }
  },
  {
   "cell_type": "code",
   "source": [
    "copisterias = ['Copisteria 1', 'Copisteria 2', 'Copisteria 3']"
   ],
   "metadata": {
    "id": "LuzP_jiaZeLR",
    "executionInfo": {
     "status": "ok",
     "timestamp": 1746464623339,
     "user_tz": 300,
     "elapsed": 93,
     "user": {
      "displayName": "JOSE MANUEL VASQUEZ RAMOS",
      "userId": "07394047291269729047"
     }
    }
   },
   "execution_count": 8,
   "outputs": []
  },
  {
   "cell_type": "markdown",
   "source": [
    "## Desarrollo"
   ],
   "metadata": {
    "id": "bQaSyrjycrrp"
   }
  },
  {
   "cell_type": "markdown",
   "source": [
    "Calculamos cuantas fotocopias puede sacar en cada copistería con su presupuesto"
   ],
   "metadata": {
    "id": "sG7rFFJOb87Z"
   }
  },
  {
   "cell_type": "code",
   "source": [
    "max_copias = np.floor(presupuesto / precios)\n",
    "\n",
    "print(max_copias)"
   ],
   "metadata": {
    "colab": {
     "base_uri": "https://localhost:8080/"
    },
    "id": "c-q90byHYyCZ",
    "executionInfo": {
     "status": "ok",
     "timestamp": 1746464529989,
     "user_tz": 300,
     "elapsed": 20,
     "user": {
      "displayName": "JOSE MANUEL VASQUEZ RAMOS",
      "userId": "07394047291269729047"
     }
    },
    "outputId": "5a6815b4-fe15-42b4-852f-55a74504eea0"
   },
   "execution_count": 6,
   "outputs": [
    {
     "output_type": "stream",
     "name": "stdout",
     "text": [
      "[ 80.  66. 100.]\n"
     ]
    }
   ]
  },
  {
   "cell_type": "markdown",
   "source": [
    "Encontramos la mayor cantidad de fotocopias posibles y su posición en el arreglo"
   ],
   "metadata": {
    "id": "El_xyw2ecU2J"
   }
  },
  {
   "cell_type": "code",
   "source": [
    "cantidad_max = int(max_copias.max())\n",
    "indice_max = int(max_copias.argmax())\n",
    "\n",
    "print(cantidad_max)\n",
    "print(indice_max)"
   ],
   "metadata": {
    "colab": {
     "base_uri": "https://localhost:8080/"
    },
    "id": "CzdAU6-AY4vw",
    "executionInfo": {
     "status": "ok",
     "timestamp": 1746464531576,
     "user_tz": 300,
     "elapsed": 7,
     "user": {
      "displayName": "JOSE MANUEL VASQUEZ RAMOS",
      "userId": "07394047291269729047"
     }
    },
    "outputId": "58de158f-4c96-4768-9ef4-d98a9e9ce73b"
   },
   "execution_count": 7,
   "outputs": [
    {
     "output_type": "stream",
     "name": "stdout",
     "text": [
      "100\n",
      "2\n"
     ]
    }
   ]
  },
  {
   "cell_type": "markdown",
   "source": [
    "## Solución"
   ],
   "metadata": {
    "id": "sq5Kkqhlci7R"
   }
  },
  {
   "cell_type": "markdown",
   "source": [
    "1. Calcular cuantas páginas puede fotocopiar en cada copistería."
   ],
   "metadata": {
    "id": "d4Vbg42obSca"
   }
  },
  {
   "cell_type": "code",
   "source": [
    "for i, copisteria in enumerate(copisterias):\n",
    "    print(f'{copisteria}: precio S/ {precios[i]:.2f} -> puede fotocopiar {int(max_copias[i])} páginas.')"
   ],
   "metadata": {
    "colab": {
     "base_uri": "https://localhost:8080/"
    },
    "id": "hlfVpNPYZ0kJ",
    "executionInfo": {
     "status": "ok",
     "timestamp": 1746464826425,
     "user_tz": 300,
     "elapsed": 141,
     "user": {
      "displayName": "JOSE MANUEL VASQUEZ RAMOS",
      "userId": "07394047291269729047"
     }
    },
    "outputId": "a436b09e-7be7-4558-8a68-b93dfca73953"
   },
   "execution_count": 13,
   "outputs": [
    {
     "output_type": "stream",
     "name": "stdout",
     "text": [
      "Copisteria 1: precio S/ 0.10 -> puede fotocopiar 80 páginas.\n",
      "Copisteria 2: precio S/ 0.12 -> puede fotocopiar 66 páginas.\n",
      "Copisteria 3: precio S/ 0.08 -> puede fotocopiar 100 páginas.\n"
     ]
    }
   ]
  },
  {
   "cell_type": "markdown",
   "source": [
    "2. Identificar en cual obtiene más páginas con su presupuesto"
   ],
   "metadata": {
    "id": "UsylyAixbZPh"
   }
  },
  {
   "cell_type": "code",
   "source": [
    "print(f'En la {copisterias[indice_max]} obtiene la mayor cantidad de copias.')\n",
    "print(f'Con su presupuesto de S/ {presupuesto} a un costo de S/ {precios[indice_max]} por hoja.')\n",
    "print(f'Puede fotocopiar {cantidad_max} hojas.')"
   ],
   "metadata": {
    "colab": {
     "base_uri": "https://localhost:8080/"
    },
    "id": "Egq7dEB_Z-Mo",
    "executionInfo": {
     "status": "ok",
     "timestamp": 1746465131471,
     "user_tz": 300,
     "elapsed": 14,
     "user": {
      "displayName": "JOSE MANUEL VASQUEZ RAMOS",
      "userId": "07394047291269729047"
     }
    },
    "outputId": "6c1cb25b-696a-443b-d04a-fb838e2dcc74"
   },
   "execution_count": 20,
   "outputs": [
    {
     "output_type": "stream",
     "name": "stdout",
     "text": [
      "En la Copisteria 3 obtiene la mayor cantidad de copias.\n",
      "Con su presupuesto de S/ 8 a un costo de S/ 0.08 por hoja.\n",
      "Puede fotocopiar 100 hojas.\n"
     ]
    }
   ]
  }
 ]
}
