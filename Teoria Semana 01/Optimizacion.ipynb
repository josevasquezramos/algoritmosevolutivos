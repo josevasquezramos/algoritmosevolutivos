{
 "cells": [
  {
   "metadata": {},
   "cell_type": "markdown",
   "source": [
    "# PRÁCTICA: FORMULANDO UN PROBLEMA SIMPLE\n",
    "\n",
    "**Alumno:** VASQUEZ RAMOS, Jose Manuel\n",
    "\n",
    "**Fecha:** 21/04/2025\n",
    "\n",
    "___"
   ],
   "id": "70a45252dbebb53"
  },
  {
   "metadata": {},
   "cell_type": "markdown",
   "source": [
    "**Escenario:** Una pequeña empresa produce dos tipos de artesanías: A y B.\n",
    "\n",
    "- Artesanía A requiere 2 horas de trabajo y da S/ 50 de ganancia.\n",
    "- Artesanía B requiere 3 horas de trabajo y da S/ 80 de ganancia.\n",
    "- Se dispone de un máximo de 120 horas de trabajo por semana.\n",
    "- Se deben producir al menos 10 unidades de A y 5 de B.\n",
    "-\n",
    "**Objetivo:** Maximizar la ganancia semanal.\n",
    "\n",
    "**Tarea:**\n",
    "\n",
    "Identifiquen\n",
    "\n",
    "- Variables de Decisión (¿Qué decide la empresa?).\n",
    "- Función Objetivo (¿Qué quiere maximizar? Escriban la fórmula).\n",
    "- Restricciones (¿Qué limitaciones tiene? Escríbanlas)."
   ],
   "id": "e923b22d0ac2f096"
  },
  {
   "metadata": {},
   "cell_type": "markdown",
   "source": [
    "## 1. Importar las bibliotecas necesarias\n",
    "\n",
    "Comenzamos importando las bibliotecas necesarias. Usaremos `scipy.optimize.linprog` para resolver el problema de programación lineal y `matplotlib` para graficar las restricciones y la solución óptima."
   ],
   "id": "63075b16604afcae"
  },
  {
   "cell_type": "code",
   "id": "initial_id",
   "metadata": {
    "collapsed": true,
    "ExecuteTime": {
     "end_time": "2025-06-08T23:19:51.467329Z",
     "start_time": "2025-06-08T23:19:50.770075Z"
    }
   },
   "source": [
    "import numpy as np\n",
    "import matplotlib.pyplot as plt\n",
    "from scipy.optimize import linprog"
   ],
   "outputs": [],
   "execution_count": 1
  },
  {
   "metadata": {},
   "cell_type": "markdown",
   "source": [
    "## 2. Definir los coeficientes de la función objetivo\n",
    "\n",
    "La función objetivo que queremos maximizar es: $50x+80y$\n",
    "\n",
    "Sin embargo, linprog está diseñado para resolver problemas de minimización, por lo que en lugar de maximizar, debemos minimizar el valor negativo de la función objetivo: $−50x−80y$\n",
    "\n",
    "Por lo tanto, definimos los coeficientes de la siguiente manera:"
   ],
   "id": "61a4efa204b4a93f"
  },
  {
   "metadata": {
    "ExecuteTime": {
     "end_time": "2025-06-08T23:20:27.690995Z",
     "start_time": "2025-06-08T23:20:27.687004Z"
    }
   },
   "cell_type": "code",
   "source": [
    "# Coeficientes de la función objetivo\n",
    "# (negativos porque linprog minimiza)\n",
    "c = [-50, -80]"
   ],
   "id": "90b8c25f2c32b231",
   "outputs": [],
   "execution_count": 2
  },
  {
   "metadata": {},
   "cell_type": "markdown",
   "source": [
    "## 3. Definir las restricciones\n",
    "\n",
    "Las restricciones del problema son:\n",
    "\n",
    "- $2x+3y≤120$\n",
    "- $-x≤-10$\n",
    "- $-y≤-5$\n",
    "\n",
    "Para representarlo en el formato adecuado para linprog, definimos la matriz de coeficientes `A` y el vector `b`:"
   ],
   "id": "bb0c537c26c43bf2"
  },
  {
   "metadata": {
    "ExecuteTime": {
     "end_time": "2025-06-08T23:20:40.128354Z",
     "start_time": "2025-06-08T23:20:40.121929Z"
    }
   },
   "cell_type": "code",
   "source": [
    "# Matriz de coeficientes para las desigualdades (Ax <= b)\n",
    "A = [\n",
    "    [2, 3],  # Coeficientes para 2x + 3y <= 120\n",
    "    [-1, 0], # Coeficientes para -x <= -10 (equivalente a x >= 10)\n",
    "    [0, -1]  # Coeficientes para -y <= -5 (equivalente a y >= 5)\n",
    "]\n",
    "b = [120, -10, -5]"
   ],
   "id": "bde76ffb72ca04c0",
   "outputs": [],
   "execution_count": 3
  },
  {
   "metadata": {},
   "cell_type": "markdown",
   "source": [
    "## 4. Resolver el problema de optimización\n",
    "\n",
    "Ahora podemos llamar a `linprog` para resolver el problema. Especificamos el método `highs`."
   ],
   "id": "10d116d492a0a992"
  },
  {
   "metadata": {
    "ExecuteTime": {
     "end_time": "2025-06-08T23:20:46.663316Z",
     "start_time": "2025-06-08T23:20:46.647558Z"
    }
   },
   "cell_type": "code",
   "source": [
    "# Ejecutar el solver\n",
    "resultado = linprog(c, A_ub=A, b_ub=b, method='highs')"
   ],
   "id": "e022502db4209513",
   "outputs": [],
   "execution_count": 4
  },
  {
   "metadata": {},
   "cell_type": "markdown",
   "source": [
    "## 5. Verificar si la solución es exitosa y mostrar los resultados\n",
    "\n",
    "Si el solver encuentra una solución óptima, extraemos las variables _x_ y _y_ calculamos la ganancia máxima. Recordemos que como minimizamos el negativo de la función objetivo, necesitamos tomar el valor negativo de la función objetivo para obtener la ganancia real."
   ],
   "id": "756ace1473e36079"
  },
  {
   "metadata": {
    "ExecuteTime": {
     "end_time": "2025-06-08T23:21:04.751380Z",
     "start_time": "2025-06-08T23:21:04.745554Z"
    }
   },
   "cell_type": "code",
   "source": [
    "if resultado.success:\n",
    "    x_opt, y_opt = resultado.x\n",
    "    ganancia_max = -resultado.fun\n",
    "    print(f\"Producción óptima:\")\n",
    "    print(f\"Artesanía A (x) = {x_opt:.2f} unidades\")\n",
    "    print(f\"Artesanía B (y) = {y_opt:.2f} unidades\")\n",
    "    print(f\"Ganancia máxima = S/ {ganancia_max:.2f}\")\n",
    "else:\n",
    "    print(\"No se encontró solución óptima\")"
   ],
   "id": "b513a6449207dc35",
   "outputs": [
    {
     "name": "stdout",
     "output_type": "stream",
     "text": [
      "Producción óptima:\n",
      "Artesanía A (x) = 10.00 unidades\n",
      "Artesanía B (y) = 33.33 unidades\n",
      "Ganancia máxima = S/ 3166.67\n"
     ]
    }
   ],
   "execution_count": 5
  },
  {
   "metadata": {},
   "cell_type": "markdown",
   "source": [
    "## 6. Graficar las restricciones y la solución óptima\n",
    "\n",
    "Para visualizar las restricciones y la solución óptima, podemos graficar las líneas correspondientes a las restricciones y luego mostrar el punto óptimo."
   ],
   "id": "2e10a7f67a9b8802"
  },
  {
   "metadata": {
    "ExecuteTime": {
     "end_time": "2025-06-08T23:21:15.473728Z",
     "start_time": "2025-06-08T23:21:14.645691Z"
    }
   },
   "cell_type": "code",
   "source": [
    "# Graficar las restricciones\n",
    "x_vals = np.linspace(0, 60, 200)\n",
    "\n",
    "# Restricción 1: 2x + 3y <= 120 -> y = (120 - 2x) / 3\n",
    "y_vals_1 = (120 - 2 * x_vals) / 3\n",
    "\n",
    "# Restricción 2: x >= 10\n",
    "x_vals_2 = np.full_like(x_vals, 10)\n",
    "\n",
    "# Restricción 3: y >= 5\n",
    "y_vals_3 = np.full_like(x_vals, 5)\n",
    "\n",
    "# Graficar las líneas de las restricciones\n",
    "plt.figure(figsize=(8, 6))\n",
    "\n",
    "plt.plot(x_vals, y_vals_1, label=r'$2x + 3y \\leq 120$', color='blue')\n",
    "plt.axvline(x=10, color='red', linestyle='--', label=r'$x \\geq 10$')\n",
    "plt.axhline(y=5, color='green', linestyle='--', label=r'$y \\geq 5$')\n",
    "\n",
    "# Rellenar la zona factible (intersección de las restricciones)\n",
    "plt.fill_between(x_vals, 0, y_vals_1, where=(y_vals_1 >= 5) & (x_vals >= 10), color='gray', alpha=0.3)\n",
    "\n",
    "# Mostrar la solución óptima\n",
    "if resultado.success:\n",
    "    plt.plot(x_opt, y_opt, 'ro', label=f'Solución Óptima: x={x_opt:.2f}, y={y_opt:.2f}')\n",
    "\n",
    "plt.xlim(0, 60)\n",
    "plt.ylim(0, 60)\n",
    "plt.xlabel('Artesanía A (x)')\n",
    "plt.ylabel('Artesanía B (y)')\n",
    "plt.title('Restricciones y Solución Óptima')\n",
    "plt.legend(loc='upper right')\n",
    "plt.grid(True)\n",
    "plt.show()\n"
   ],
   "id": "8c55312fc623a8c6",
   "outputs": [
    {
     "data": {
      "text/plain": [
       "<Figure size 800x600 with 1 Axes>"
      ],
      "image/png": "[encoded data removed]"
     },
     "metadata": {},
     "output_type": "display_data"
    }
   ],
   "execution_count": 6
  }
 ],
 "metadata": {
  "kernelspec": {
   "display_name": "Python 3",
   "language": "python",
   "name": "python3"
  },
  "language_info": {
   "codemirror_mode": {
    "name": "ipython",
    "version": 2
   },
   "file_extension": ".py",
   "mimetype": "text/x-python",
   "name": "python",
   "nbconvert_exporter": "python",
   "pygments_lexer": "ipython2",
   "version": "2.7.6"
  }
 },
 "nbformat": 4,
 "nbformat_minor": 5
}
