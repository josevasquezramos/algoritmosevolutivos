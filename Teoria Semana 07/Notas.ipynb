{
 "cells": [
  {
   "metadata": {},
   "cell_type": "markdown",
   "source": [
    "# ANÁLISIS DE NOTAS DEL EXAMEN DE PRIMERA UNIDAD\n",
    "\n",
    "**Alumno:** VASQUEZ RAMOS, Jose Manuel\n",
    "\n",
    "**Fecha:** 02/04/2025\n",
    "\n",
    "___"
   ],
   "id": "3009a7031db3e536"
  },
  {
   "metadata": {},
   "cell_type": "markdown",
   "source": [
    "Se realizó un estudio estadístico completo de los resultados académicos, evaluando comparativamente el rendimiento en los diferentes tipos de evaluaciones (A, B y C) mediante los siguientes enfoques:\n",
    "\n",
    "1. **Estadística Descriptiva:** Se calcularon medidas de tendencia central (media, mediana) y dispersión (desviación estándar, rango intercuartílico) que permitieron caracterizar cuantitativamente la distribución de calificaciones para cada modalidad de examen.\n",
    "\n",
    "2. **Gráfico de Barras Agrupadas:** Esta visualización comparó las frecuencias absolutas de cada rango de calificación, revelando diferencias significativas en los patrones de distribución entre los tipos de evaluación.\n",
    "\n",
    "3. **Gráfico de Áreas Superpuestas:** El análisis mostró los rangos de calificación con mayor coincidencia entre evaluaciones, identificando dónde se concentraba el mayor número de estudiantes en cada modalidad.\n",
    "\n",
    "4. **Diagrama de Caja y Bigotes:** Permitió detectar diferencias en la dispersión de los resultados y valores atípicos, complementando el análisis con una perspectiva robusta de la variabilidad en el desempeño."
   ],
   "id": "86a94ac979403fb3"
  },
  {
   "cell_type": "code",
   "id": "initial_id",
   "metadata": {
    "collapsed": true,
    "ExecuteTime": {
     "end_time": "2025-06-09T00:55:42.815472Z",
     "start_time": "2025-06-09T00:55:42.174670Z"
    }
   },
   "source": [
    "import pandas as pd\n",
    "import matplotlib.pyplot as plt\n",
    "from ipywidgets import interact, Checkbox"
   ],
   "outputs": [],
   "execution_count": 1
  },
  {
   "metadata": {},
   "cell_type": "markdown",
   "source": "## Carga de datos",
   "id": "8f8d7c5ba0ff003d"
  },
  {
   "metadata": {
    "ExecuteTime": {
     "end_time": "2025-06-09T00:55:43.998030Z",
     "start_time": "2025-06-09T00:55:43.980001Z"
    }
   },
   "cell_type": "code",
   "source": [
    "df = pd.read_csv('notas_1u.csv')\n",
    "df.head()"
   ],
   "id": "8f1ac866c5f55ad",
   "outputs": [
    {
     "data": {
      "text/plain": [
       "    Alumno  Nota Tipo_Examen\n",
       "0  Alumno1  15.0           C\n",
       "1  Alumno2  13.0           C\n",
       "2  Alumno3  14.0           C\n",
       "3  Alumno4  10.0           A\n",
       "4  Alumno5  15.0           C"
      ],
      "text/html": [
       "<div>\n",
       "<style scoped>\n",
       "    .dataframe tbody tr th:only-of-type {\n",
       "        vertical-align: middle;\n",
       "    }\n",
       "\n",
       "    .dataframe tbody tr th {\n",
       "        vertical-align: top;\n",
       "    }\n",
       "\n",
       "    .dataframe thead th {\n",
       "        text-align: right;\n",
       "    }\n",
       "</style>\n",
       "<table border=\"1\" class=\"dataframe\">\n",
       "  <thead>\n",
       "    <tr style=\"text-align: right;\">\n",
       "      <th></th>\n",
       "      <th>Alumno</th>\n",
       "      <th>Nota</th>\n",
       "      <th>Tipo_Examen</th>\n",
       "    </tr>\n",
       "  </thead>\n",
       "  <tbody>\n",
       "    <tr>\n",
       "      <th>0</th>\n",
       "      <td>Alumno1</td>\n",
       "      <td>15.0</td>\n",
       "      <td>C</td>\n",
       "    </tr>\n",
       "    <tr>\n",
       "      <th>1</th>\n",
       "      <td>Alumno2</td>\n",
       "      <td>13.0</td>\n",
       "      <td>C</td>\n",
       "    </tr>\n",
       "    <tr>\n",
       "      <th>2</th>\n",
       "      <td>Alumno3</td>\n",
       "      <td>14.0</td>\n",
       "      <td>C</td>\n",
       "    </tr>\n",
       "    <tr>\n",
       "      <th>3</th>\n",
       "      <td>Alumno4</td>\n",
       "      <td>10.0</td>\n",
       "      <td>A</td>\n",
       "    </tr>\n",
       "    <tr>\n",
       "      <th>4</th>\n",
       "      <td>Alumno5</td>\n",
       "      <td>15.0</td>\n",
       "      <td>C</td>\n",
       "    </tr>\n",
       "  </tbody>\n",
       "</table>\n",
       "</div>"
      ]
     },
     "execution_count": 2,
     "metadata": {},
     "output_type": "execute_result"
    }
   ],
   "execution_count": 2
  },
  {
   "metadata": {},
   "cell_type": "markdown",
   "source": "## Estadísticas descriptivas",
   "id": "c975447fb63cb2f7"
  },
  {
   "metadata": {
    "ExecuteTime": {
     "end_time": "2025-06-09T00:55:45.158808Z",
     "start_time": "2025-06-09T00:55:45.143211Z"
    }
   },
   "cell_type": "code",
   "source": [
    "estadisticas = df.groupby('Tipo_Examen')['Nota'].describe()\n",
    "estadisticas"
   ],
   "id": "763dbcdeff58740f",
   "outputs": [
    {
     "data": {
      "text/plain": [
       "             count       mean       std   min   25%   50%   75%   max\n",
       "Tipo_Examen                                                          \n",
       "A             13.0  14.384615  2.433737  10.0  13.0  14.0  16.0  19.0\n",
       "B             13.0  17.384615  3.452981   9.0  18.0  19.0  19.0  20.0\n",
       "C             13.0  14.461538  3.178453   9.0  13.0  14.0  17.0  20.0"
      ],
      "text/html": [
       "<div>\n",
       "<style scoped>\n",
       "    .dataframe tbody tr th:only-of-type {\n",
       "        vertical-align: middle;\n",
       "    }\n",
       "\n",
       "    .dataframe tbody tr th {\n",
       "        vertical-align: top;\n",
       "    }\n",
       "\n",
       "    .dataframe thead th {\n",
       "        text-align: right;\n",
       "    }\n",
       "</style>\n",
       "<table border=\"1\" class=\"dataframe\">\n",
       "  <thead>\n",
       "    <tr style=\"text-align: right;\">\n",
       "      <th></th>\n",
       "      <th>count</th>\n",
       "      <th>mean</th>\n",
       "      <th>std</th>\n",
       "      <th>min</th>\n",
       "      <th>25%</th>\n",
       "      <th>50%</th>\n",
       "      <th>75%</th>\n",
       "      <th>max</th>\n",
       "    </tr>\n",
       "    <tr>\n",
       "      <th>Tipo_Examen</th>\n",
       "      <th></th>\n",
       "      <th></th>\n",
       "      <th></th>\n",
       "      <th></th>\n",
       "      <th></th>\n",
       "      <th></th>\n",
       "      <th></th>\n",
       "      <th></th>\n",
       "    </tr>\n",
       "  </thead>\n",
       "  <tbody>\n",
       "    <tr>\n",
       "      <th>A</th>\n",
       "      <td>13.0</td>\n",
       "      <td>14.384615</td>\n",
       "      <td>2.433737</td>\n",
       "      <td>10.0</td>\n",
       "      <td>13.0</td>\n",
       "      <td>14.0</td>\n",
       "      <td>16.0</td>\n",
       "      <td>19.0</td>\n",
       "    </tr>\n",
       "    <tr>\n",
       "      <th>B</th>\n",
       "      <td>13.0</td>\n",
       "      <td>17.384615</td>\n",
       "      <td>3.452981</td>\n",
       "      <td>9.0</td>\n",
       "      <td>18.0</td>\n",
       "      <td>19.0</td>\n",
       "      <td>19.0</td>\n",
       "      <td>20.0</td>\n",
       "    </tr>\n",
       "    <tr>\n",
       "      <th>C</th>\n",
       "      <td>13.0</td>\n",
       "      <td>14.461538</td>\n",
       "      <td>3.178453</td>\n",
       "      <td>9.0</td>\n",
       "      <td>13.0</td>\n",
       "      <td>14.0</td>\n",
       "      <td>17.0</td>\n",
       "      <td>20.0</td>\n",
       "    </tr>\n",
       "  </tbody>\n",
       "</table>\n",
       "</div>"
      ]
     },
     "execution_count": 3,
     "metadata": {},
     "output_type": "execute_result"
    }
   ],
   "execution_count": 3
  },
  {
   "metadata": {},
   "cell_type": "markdown",
   "source": "## Análisis gráfico",
   "id": "39c0e4b8b708db41"
  },
  {
   "metadata": {
    "ExecuteTime": {
     "end_time": "2025-06-09T00:55:49.097661Z",
     "start_time": "2025-06-09T00:55:49.087611Z"
    }
   },
   "cell_type": "code",
   "source": [
    "# Configuración global fija\n",
    "plt.style.use('default')\n",
    "FIG_SIZE = (12, 6)\n",
    "COLORES = {'A': '#1f77b4', 'B': '#ff7f0e', 'C': '#2ca02c'}\n",
    "Y_MARGIN = 1\n",
    "\n",
    "frecuencias = df.groupby(['Nota', 'Tipo_Examen']).size().unstack(fill_value=0).sort_index()\n",
    "tipos_disponibles = sorted(frecuencias.columns.tolist())\n",
    "max_freq = frecuencias.max().max()\n",
    "y_limit = (0, max_freq + Y_MARGIN)\n",
    "\n",
    "# Posiciones fijas para evitar movimiento\n",
    "posiciones = {'A': -0.3, 'B': 0, 'C': 0.3}\n",
    "ancho_barra = 0.25"
   ],
   "id": "5c2ba8d55781462b",
   "outputs": [],
   "execution_count": 4
  },
  {
   "metadata": {},
   "cell_type": "markdown",
   "source": "### 1. Gráfico de Barras Agrupadas",
   "id": "cb7321c9711dd66a"
  },
  {
   "metadata": {
    "ExecuteTime": {
     "end_time": "2025-06-09T00:55:51.282773Z",
     "start_time": "2025-06-09T00:55:51.129969Z"
    }
   },
   "cell_type": "code",
   "source": [
    "# Crear controles\n",
    "controles_barras = {}\n",
    "if 'A' in tipos_disponibles:\n",
    "    controles_barras['mostrar_A'] = Checkbox(value=True, description='Tipo A')\n",
    "if 'B' in tipos_disponibles:\n",
    "    controles_barras['mostrar_B'] = Checkbox(value=True, description='Tipo B')\n",
    "if 'C' in tipos_disponibles:\n",
    "    controles_barras['mostrar_C'] = Checkbox(value=True, description='Tipo C')\n",
    "\n",
    "@interact(**controles_barras)\n",
    "def actualizar_barras(mostrar_A=True, mostrar_B=True, mostrar_C=True):\n",
    "    plt.figure(figsize=FIG_SIZE)\n",
    "    ax = plt.gca()\n",
    "\n",
    "    # Determinar tipos activos\n",
    "    tipos_activos = []\n",
    "    if 'A' in tipos_disponibles and mostrar_A:\n",
    "        tipos_activos.append('A')\n",
    "    if 'B' in tipos_disponibles and mostrar_B:\n",
    "        tipos_activos.append('B')\n",
    "    if 'C' in tipos_disponibles and mostrar_C:\n",
    "        tipos_activos.append('C')\n",
    "\n",
    "    # Dibujar barras con posiciones fijas\n",
    "    for tipo in tipos_activos:\n",
    "        pos = posiciones[tipo] if len(tipos_activos) > 1 else 0\n",
    "        plt.bar(frecuencias.index + pos,\n",
    "               frecuencias[tipo],\n",
    "               width=ancho_barra,\n",
    "               color=COLORES[tipo],\n",
    "               label=tipo)\n",
    "\n",
    "    # Configuración fija del gráfico\n",
    "    ax.set_ylim(y_limit)\n",
    "    ax.set_xlim(frecuencias.index[0]-1, frecuencias.index[-1]+1)\n",
    "    ax.set_title('Distribución de Notas por Tipo de Examen', pad=20)\n",
    "    ax.set_xlabel('Nota', labelpad=10)\n",
    "    ax.set_ylabel('Frecuencia', labelpad=10)\n",
    "    ax.grid(axis='y', linestyle='--', alpha=0.3)\n",
    "\n",
    "    if tipos_activos:\n",
    "        ax.legend(title='Tipo de Examen')\n",
    "    else:\n",
    "        ax.text(0.5, 0.5, 'Selecciona al menos un tipo de examen',\n",
    "               ha='center', va='center', transform=ax.transAxes, fontsize=12)\n",
    "\n",
    "    plt.tight_layout()\n",
    "    plt.show()"
   ],
   "id": "403f8fc580e68d63",
   "outputs": [
    {
     "data": {
      "text/plain": [
       "interactive(children=(Checkbox(value=True, description='Tipo A'), Checkbox(value=True, description='Tipo B'), …"
      ],
      "application/vnd.jupyter.widget-view+json": {
       "version_major": 2,
       "version_minor": 0,
       "model_id": "3fe55e2e1b8a461897c1117ac74ebf84"
      }
     },
     "metadata": {},
     "output_type": "display_data"
    }
   ],
   "execution_count": 5
  },
  {
   "metadata": {},
   "cell_type": "markdown",
   "source": "### 2. Gráfico de Área",
   "id": "90cb459595d790e1"
  },
  {
   "metadata": {
    "ExecuteTime": {
     "end_time": "2025-06-09T00:55:54.035090Z",
     "start_time": "2025-06-09T00:55:53.890Z"
    }
   },
   "cell_type": "code",
   "source": [
    "# Usamos los mismos controles\n",
    "controles_areas = controles_barras.copy()\n",
    "\n",
    "@interact(**controles_areas)\n",
    "def actualizar_areas(mostrar_A=True, mostrar_B=True, mostrar_C=True):\n",
    "    plt.figure(figsize=FIG_SIZE)\n",
    "    ax = plt.gca()\n",
    "\n",
    "    tipos_activos = []\n",
    "    if 'A' in tipos_disponibles and mostrar_A:\n",
    "        tipos_activos.append('A')\n",
    "    if 'B' in tipos_disponibles and mostrar_B:\n",
    "        tipos_activos.append('B')\n",
    "    if 'C' in tipos_disponibles and mostrar_C:\n",
    "        tipos_activos.append('C')\n",
    "\n",
    "    if tipos_activos:\n",
    "        frecuencias[tipos_activos].plot(\n",
    "            kind='area',\n",
    "            stacked=False,\n",
    "            alpha=0.4,\n",
    "            color=[COLORES[t] for t in tipos_activos],\n",
    "            ax=ax\n",
    "        )\n",
    "        ax.set_xticks(frecuencias.index)\n",
    "    else:\n",
    "        ax.text(0.5, 0.5, 'Selecciona al menos un tipo de examen',\n",
    "               ha='center', va='center', transform=ax.transAxes, fontsize=12)\n",
    "\n",
    "    ax.set_title('Distribución Acumulada de Notas')\n",
    "    ax.set_xlabel('Nota')\n",
    "    ax.set_ylabel('Frecuencia Acumulada')\n",
    "    ax.grid(axis='y', linestyle='--', alpha=0.6)\n",
    "\n",
    "    if tipos_activos:\n",
    "        ax.legend(title='Tipo de Examen')\n",
    "\n",
    "    plt.tight_layout()\n",
    "    plt.show()"
   ],
   "id": "a53b2a51fd5a406c",
   "outputs": [
    {
     "data": {
      "text/plain": [
       "interactive(children=(Checkbox(value=True, description='Tipo A'), Checkbox(value=True, description='Tipo B'), …"
      ],
      "application/vnd.jupyter.widget-view+json": {
       "version_major": 2,
       "version_minor": 0,
       "model_id": "e667219a8c72415aa64a96c0b14a23ad"
      }
     },
     "metadata": {},
     "output_type": "display_data"
    }
   ],
   "execution_count": 6
  },
  {
   "metadata": {},
   "cell_type": "markdown",
   "source": "### 3. Diagrama de Caja y Bigotes",
   "id": "7697cdb655f3dfc6"
  },
  {
   "metadata": {
    "ExecuteTime": {
     "end_time": "2025-06-09T00:55:56.485600Z",
     "start_time": "2025-06-09T00:55:56.414409Z"
    }
   },
   "cell_type": "code",
   "source": [
    "plt.figure(figsize=FIG_SIZE)\n",
    "df.boxplot(column='Nota', by='Tipo_Examen', grid=False,\n",
    "           patch_artist=True,\n",
    "           boxprops={'facecolor': 'lightblue'},\n",
    "           medianprops={'color': 'red'},\n",
    "           whiskerprops={'color': 'darkorange'})\n",
    "plt.title('Distribución por Tipo de Examen')\n",
    "plt.suptitle('')\n",
    "plt.xlabel('Tipo de Examen')\n",
    "plt.ylabel('Nota')\n",
    "plt.show()"
   ],
   "id": "b1dd25a570305e35",
   "outputs": [
    {
     "data": {
      "text/plain": [
       "<Figure size 1200x600 with 0 Axes>"
      ]
     },
     "metadata": {},
     "output_type": "display_data"
    },
    {
     "data": {
      "text/plain": [
       "<Figure size 640x480 with 1 Axes>"
      ],
      "image/png": "[encoded data removed]"
     },
     "metadata": {},
     "output_type": "display_data"
    }
   ],
   "execution_count": 7
  },
  {
   "metadata": {},
   "cell_type": "markdown",
   "source": [
    "## Conclusiones finales\n",
    "\n",
    "**Examen A**\n",
    "\n",
    "Es el más difícil, ya que tiene la calificación promedio más baja.\n",
    "\n",
    "- Media más baja (14.38): Indica que fue más difícil que el examen B.\n",
    "- Mediana (14) y rango más estrecho (10 a 19): Los puntajes están más agrupados, con menos dispersión.\n",
    "\n",
    "**Examen B**\n",
    "\n",
    "Es el más fácil de los tres exámenes, ya que los estudiantes obtuvieron mejores resultados en promedio.\n",
    "\n",
    "- Media más alta (17.38): En promedio, los estudiantes obtuvieron mejores calificaciones en este examen.\n",
    "- Mediana alta (19): La mitad de los estudiantes sacaron 19 o más, lo que indica un buen rendimiento general.\n",
    "- Rango de valores altos (9 a 20): Aunque el mínimo es bajo, la mayoría de los resultados están cerca del máximo.\n",
    "\n",
    "**Examen C**\n",
    "\n",
    "Dificultad intermedia, aunque más impredecible; algunos estudiantes lo hicieron muy bien, otros muy mal.\n",
    "\n",
    "- Media similar a A (14.46): Apenas un poco más alta que la de A.\n",
    "- Mayor desviación estándar (3.18 vs. 2.43): Más variabilidad en los resultados.\n",
    "- Rango completo (9 a 20): Hay tanto calificaciones bajas como perfectas."
   ],
   "id": "5587e2e9771de0a2"
  }
 ],
 "metadata": {
  "kernelspec": {
   "display_name": "Python 3",
   "language": "python",
   "name": "python3"
  },
  "language_info": {
   "codemirror_mode": {
    "name": "ipython",
    "version": 2
   },
   "file_extension": ".py",
   "mimetype": "text/x-python",
   "name": "python",
   "nbconvert_exporter": "python",
   "pygments_lexer": "ipython2",
   "version": "2.7.6"
  }
 },
 "nbformat": 4,
 "nbformat_minor": 5
}
