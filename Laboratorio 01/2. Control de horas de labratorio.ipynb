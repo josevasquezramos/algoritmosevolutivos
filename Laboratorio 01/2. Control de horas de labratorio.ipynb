{
 "cells": [
  {
   "metadata": {},
   "cell_type": "markdown",
   "source": [
    "# Control de horas de laboratorio\n",
    "\n",
    "**Alumno:** VASQUEZ RAMOS, Jose Manuel\n",
    "\n",
    "**Fecha:** 30/04/2025"
   ],
   "id": "921ee34729247047"
  },
  {
   "metadata": {},
   "cell_type": "markdown",
   "source": "## Problema",
   "id": "5adae6ac346e078a"
  },
  {
   "metadata": {},
   "cell_type": "markdown",
   "source": [
    "**Contexto real:**\n",
    "\n",
    "En el laboratorio de computación, cada estudiante paga **S/ 2.00** por hora de uso de las\n",
    "computadoras. Se ha registrado el uso semanal de cinco compañeros:\n",
    "\n",
    "| ESTUDIANTE | HORAS_USADAS |\n",
    "|------------|--------------|\n",
    "| ANA        | 3            |\n",
    "| LUIS       | 5            |\n",
    "| MARÍA      | 2            |\n",
    "| JUAN       | 4            |\n",
    "| CARLA      | 1            |\n",
    "\n",
    "**Objetivo del ejercicio:**\n",
    "\n",
    "Con Pandas, crea un DataFrame para gestionar estos datos y responde:\n",
    "\n",
    "1. ¿Cuál es el costo total que paga cada estudiante?\n",
    "2. ¿Cuál es el gasto promedio por estudiante?\n",
    "3. ¿Qué estudiantes han gastado más de S/ 6.00 en la semana?"
   ],
   "id": "22c22a5ec0bedcfd"
  },
  {
   "metadata": {},
   "cell_type": "markdown",
   "source": "## Librerías",
   "id": "821c9246a162bb82"
  },
  {
   "cell_type": "code",
   "id": "initial_id",
   "metadata": {
    "collapsed": true,
    "ExecuteTime": {
     "end_time": "2025-05-06T04:00:32.125444Z",
     "start_time": "2025-05-06T04:00:31.621871Z"
    }
   },
   "source": "import pandas as pd",
   "outputs": [],
   "execution_count": 1
  },
  {
   "metadata": {},
   "cell_type": "markdown",
   "source": "## Planteamiento",
   "id": "625593aff5612205"
  },
  {
   "metadata": {
    "ExecuteTime": {
     "end_time": "2025-05-06T04:00:46.621603Z",
     "start_time": "2025-05-06T04:00:46.553846Z"
    }
   },
   "cell_type": "code",
   "source": [
    "datos = {\n",
    "    'Estudiantes': ['Ana', 'Luis', 'Maria', 'Juan', 'Carla'],\n",
    "    'Horas_usadas': [3, 5, 2, 4, 1]\n",
    "}"
   ],
   "id": "dece80f979e39c18",
   "outputs": [],
   "execution_count": 2
  },
  {
   "metadata": {},
   "cell_type": "markdown",
   "source": "## Solución",
   "id": "3a6128bdefa91476"
  },
  {
   "metadata": {},
   "cell_type": "markdown",
   "source": "Usamos pandas para construir el DataFrame",
   "id": "6878abe60e0634e5"
  },
  {
   "metadata": {
    "ExecuteTime": {
     "end_time": "2025-05-06T04:00:49.142902Z",
     "start_time": "2025-05-06T04:00:48.981187Z"
    }
   },
   "cell_type": "code",
   "source": [
    "df = pd.DataFrame(datos)\n",
    "df.head()"
   ],
   "id": "ee8d4033c74dc6dd",
   "outputs": [
    {
     "data": {
      "text/plain": [
       "  Estudiantes  Horas_usadas\n",
       "0         Ana             3\n",
       "1        Luis             5\n",
       "2       Maria             2\n",
       "3        Juan             4\n",
       "4       Carla             1"
      ],
      "text/html": [
       "<div>\n",
       "<style scoped>\n",
       "    .dataframe tbody tr th:only-of-type {\n",
       "        vertical-align: middle;\n",
       "    }\n",
       "\n",
       "    .dataframe tbody tr th {\n",
       "        vertical-align: top;\n",
       "    }\n",
       "\n",
       "    .dataframe thead th {\n",
       "        text-align: right;\n",
       "    }\n",
       "</style>\n",
       "<table border=\"1\" class=\"dataframe\">\n",
       "  <thead>\n",
       "    <tr style=\"text-align: right;\">\n",
       "      <th></th>\n",
       "      <th>Estudiantes</th>\n",
       "      <th>Horas_usadas</th>\n",
       "    </tr>\n",
       "  </thead>\n",
       "  <tbody>\n",
       "    <tr>\n",
       "      <th>0</th>\n",
       "      <td>Ana</td>\n",
       "      <td>3</td>\n",
       "    </tr>\n",
       "    <tr>\n",
       "      <th>1</th>\n",
       "      <td>Luis</td>\n",
       "      <td>5</td>\n",
       "    </tr>\n",
       "    <tr>\n",
       "      <th>2</th>\n",
       "      <td>Maria</td>\n",
       "      <td>2</td>\n",
       "    </tr>\n",
       "    <tr>\n",
       "      <th>3</th>\n",
       "      <td>Juan</td>\n",
       "      <td>4</td>\n",
       "    </tr>\n",
       "    <tr>\n",
       "      <th>4</th>\n",
       "      <td>Carla</td>\n",
       "      <td>1</td>\n",
       "    </tr>\n",
       "  </tbody>\n",
       "</table>\n",
       "</div>"
      ]
     },
     "execution_count": 3,
     "metadata": {},
     "output_type": "execute_result"
    }
   ],
   "execution_count": 3
  },
  {
   "metadata": {},
   "cell_type": "markdown",
   "source": "Añadimos la columna costo total",
   "id": "c3497c4cd717a970"
  },
  {
   "metadata": {
    "ExecuteTime": {
     "end_time": "2025-05-06T04:00:58.101315Z",
     "start_time": "2025-05-06T04:00:57.701443Z"
    }
   },
   "cell_type": "code",
   "source": [
    "df['Costo_total'] = df['Horas_usadas'] * 2\n",
    "df.head()"
   ],
   "id": "2027ccacdaed92ef",
   "outputs": [
    {
     "data": {
      "text/plain": [
       "  Estudiantes  Horas_usadas  Costo_total\n",
       "0         Ana             3            6\n",
       "1        Luis             5           10\n",
       "2       Maria             2            4\n",
       "3        Juan             4            8\n",
       "4       Carla             1            2"
      ],
      "text/html": [
       "<div>\n",
       "<style scoped>\n",
       "    .dataframe tbody tr th:only-of-type {\n",
       "        vertical-align: middle;\n",
       "    }\n",
       "\n",
       "    .dataframe tbody tr th {\n",
       "        vertical-align: top;\n",
       "    }\n",
       "\n",
       "    .dataframe thead th {\n",
       "        text-align: right;\n",
       "    }\n",
       "</style>\n",
       "<table border=\"1\" class=\"dataframe\">\n",
       "  <thead>\n",
       "    <tr style=\"text-align: right;\">\n",
       "      <th></th>\n",
       "      <th>Estudiantes</th>\n",
       "      <th>Horas_usadas</th>\n",
       "      <th>Costo_total</th>\n",
       "    </tr>\n",
       "  </thead>\n",
       "  <tbody>\n",
       "    <tr>\n",
       "      <th>0</th>\n",
       "      <td>Ana</td>\n",
       "      <td>3</td>\n",
       "      <td>6</td>\n",
       "    </tr>\n",
       "    <tr>\n",
       "      <th>1</th>\n",
       "      <td>Luis</td>\n",
       "      <td>5</td>\n",
       "      <td>10</td>\n",
       "    </tr>\n",
       "    <tr>\n",
       "      <th>2</th>\n",
       "      <td>Maria</td>\n",
       "      <td>2</td>\n",
       "      <td>4</td>\n",
       "    </tr>\n",
       "    <tr>\n",
       "      <th>3</th>\n",
       "      <td>Juan</td>\n",
       "      <td>4</td>\n",
       "      <td>8</td>\n",
       "    </tr>\n",
       "    <tr>\n",
       "      <th>4</th>\n",
       "      <td>Carla</td>\n",
       "      <td>1</td>\n",
       "      <td>2</td>\n",
       "    </tr>\n",
       "  </tbody>\n",
       "</table>\n",
       "</div>"
      ]
     },
     "execution_count": 4,
     "metadata": {},
     "output_type": "execute_result"
    }
   ],
   "execution_count": 4
  },
  {
   "metadata": {},
   "cell_type": "markdown",
   "source": "Calculamos estadisticas descriptivas",
   "id": "256d88c7dfaa42f7"
  },
  {
   "metadata": {
    "ExecuteTime": {
     "end_time": "2025-05-06T04:01:23.495316Z",
     "start_time": "2025-05-06T04:01:23.210910Z"
    }
   },
   "cell_type": "code",
   "source": [
    "estadisticas = df['Costo_total'].describe()\n",
    "estadisticas"
   ],
   "id": "a269ea265e07d3b8",
   "outputs": [
    {
     "data": {
      "text/plain": [
       "count     5.000000\n",
       "mean      6.000000\n",
       "std       3.162278\n",
       "min       2.000000\n",
       "25%       4.000000\n",
       "50%       6.000000\n",
       "75%       8.000000\n",
       "max      10.000000\n",
       "Name: Costo_total, dtype: float64"
      ]
     },
     "execution_count": 5,
     "metadata": {},
     "output_type": "execute_result"
    }
   ],
   "execution_count": 5
  },
  {
   "metadata": {},
   "cell_type": "markdown",
   "source": "Obtenemos el promedio",
   "id": "39704cfb858551f8"
  },
  {
   "metadata": {
    "ExecuteTime": {
     "end_time": "2025-05-06T04:10:36.795266Z",
     "start_time": "2025-05-06T04:10:36.775438Z"
    }
   },
   "cell_type": "code",
   "source": "promedio = df['Costo_total'].mean()",
   "id": "e62c9ab7cd4aa592",
   "outputs": [],
   "execution_count": 12
  },
  {
   "metadata": {},
   "cell_type": "markdown",
   "source": "Filtramos registros donde costo total sea mayor a 6",
   "id": "a89e1a84f150cd0"
  },
  {
   "metadata": {
    "ExecuteTime": {
     "end_time": "2025-05-06T04:10:39.271571Z",
     "start_time": "2025-05-06T04:10:39.255711Z"
    }
   },
   "cell_type": "code",
   "source": [
    "costo_mayor_6 = df[df['Costo_total'] > 6.0]\n",
    "costo_mayor_6.head()"
   ],
   "id": "9dfda05bbfe4005c",
   "outputs": [
    {
     "data": {
      "text/plain": [
       "  Estudiantes  Horas_usadas  Costo_total\n",
       "1        Luis             5           10\n",
       "3        Juan             4            8"
      ],
      "text/html": [
       "<div>\n",
       "<style scoped>\n",
       "    .dataframe tbody tr th:only-of-type {\n",
       "        vertical-align: middle;\n",
       "    }\n",
       "\n",
       "    .dataframe tbody tr th {\n",
       "        vertical-align: top;\n",
       "    }\n",
       "\n",
       "    .dataframe thead th {\n",
       "        text-align: right;\n",
       "    }\n",
       "</style>\n",
       "<table border=\"1\" class=\"dataframe\">\n",
       "  <thead>\n",
       "    <tr style=\"text-align: right;\">\n",
       "      <th></th>\n",
       "      <th>Estudiantes</th>\n",
       "      <th>Horas_usadas</th>\n",
       "      <th>Costo_total</th>\n",
       "    </tr>\n",
       "  </thead>\n",
       "  <tbody>\n",
       "    <tr>\n",
       "      <th>1</th>\n",
       "      <td>Luis</td>\n",
       "      <td>5</td>\n",
       "      <td>10</td>\n",
       "    </tr>\n",
       "    <tr>\n",
       "      <th>3</th>\n",
       "      <td>Juan</td>\n",
       "      <td>4</td>\n",
       "      <td>8</td>\n",
       "    </tr>\n",
       "  </tbody>\n",
       "</table>\n",
       "</div>"
      ]
     },
     "execution_count": 13,
     "metadata": {},
     "output_type": "execute_result"
    }
   ],
   "execution_count": 13
  },
  {
   "metadata": {},
   "cell_type": "markdown",
   "source": "## Respuestas",
   "id": "5a0c738d8f5e3f4"
  },
  {
   "metadata": {},
   "cell_type": "markdown",
   "source": "1. ¿Cuál es el costo total que paga cada estudiante?",
   "id": "dedd2a5e76c4e7e4"
  },
  {
   "metadata": {
    "ExecuteTime": {
     "end_time": "2025-05-06T04:11:12.819191Z",
     "start_time": "2025-05-06T04:11:12.801266Z"
    }
   },
   "cell_type": "code",
   "source": [
    "print('El costo total que paga cada estudiante es:')\n",
    "for i, row in df.iterrows():\n",
    "    print(f\"- {row['Estudiantes']}: S/ {row['Costo_total']:.2f}\")"
   ],
   "id": "3b2065ee8e77ee91",
   "outputs": [
    {
     "name": "stdout",
     "output_type": "stream",
     "text": [
      "El costo total que paga cada estudiante es:\n",
      "- Ana: S/ 6.00\n",
      "- Luis: S/ 10.00\n",
      "- Maria: S/ 4.00\n",
      "- Juan: S/ 8.00\n",
      "- Carla: S/ 2.00\n"
     ]
    }
   ],
   "execution_count": 15
  },
  {
   "metadata": {},
   "cell_type": "markdown",
   "source": "2. ¿Cuál es el gasto promedio por estudiante?",
   "id": "dee8182b3605cd8d"
  },
  {
   "metadata": {
    "ExecuteTime": {
     "end_time": "2025-05-06T04:11:18.854127Z",
     "start_time": "2025-05-06T04:11:18.842962Z"
    }
   },
   "cell_type": "code",
   "source": "print(f\"El gasto promedio por estudiante es: S/ {promedio:.2f}\")",
   "id": "4fa3d55aa9f239d",
   "outputs": [
    {
     "name": "stdout",
     "output_type": "stream",
     "text": [
      "El gasto promedio por estudiante es: S/ 6.00\n"
     ]
    }
   ],
   "execution_count": 16
  },
  {
   "metadata": {},
   "cell_type": "markdown",
   "source": "3. ¿Qué estudiantes han gastado más de S/ 6.00 en la semana?",
   "id": "3cfa45efd79b7ed2"
  },
  {
   "metadata": {
    "ExecuteTime": {
     "end_time": "2025-05-06T04:11:23.838748Z",
     "start_time": "2025-05-06T04:11:23.824382Z"
    }
   },
   "cell_type": "code",
   "source": [
    "print(\"Estudiantes que gastaron más de S/ 6.00:\")\n",
    "if not costo_mayor_6.empty:\n",
    "    for estudiante in costo_mayor_6['Estudiantes']:\n",
    "        print(f'- {estudiante}')\n",
    "else:\n",
    "    print(\"Ningún estudiante gastó más de S/ 6.00\")"
   ],
   "id": "76e269e8f77d2feb",
   "outputs": [
    {
     "name": "stdout",
     "output_type": "stream",
     "text": [
      "Estudiantes que gastaron más de S/ 6.00:\n",
      "- Luis\n",
      "- Juan\n"
     ]
    }
   ],
   "execution_count": 17
  },
  {
   "metadata": {},
   "cell_type": "code",
   "outputs": [],
   "execution_count": null,
   "source": "",
   "id": "c1a403381e64d286"
  }
 ],
 "metadata": {
  "kernelspec": {
   "display_name": "Python 3",
   "language": "python",
   "name": "python3"
  },
  "language_info": {
   "codemirror_mode": {
    "name": "ipython",
    "version": 2
   },
   "file_extension": ".py",
   "mimetype": "text/x-python",
   "name": "python",
   "nbconvert_exporter": "python",
   "pygments_lexer": "ipython2",
   "version": "2.7.6"
  }
 },
 "nbformat": 4,
 "nbformat_minor": 5
}
