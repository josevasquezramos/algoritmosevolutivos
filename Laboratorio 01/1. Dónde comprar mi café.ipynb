{
 "cells": [
  {
   "metadata": {},
   "cell_type": "markdown",
   "source": [
    "# ¿Dónde comprar mi café?\n",
    "\n",
    "**Alumno:** VASQUEZ RAMOS, Jose Manuel\n",
    "\n",
    "**Fecha:** 30/04/2025"
   ],
   "id": "3c540e756337179d"
  },
  {
   "metadata": {},
   "cell_type": "markdown",
   "source": "## Problema",
   "id": "dbebb454692bccb3"
  },
  {
   "metadata": {},
   "cell_type": "markdown",
   "source": [
    "**Contexto real:**\n",
    "\n",
    "Jorge es un estudiante universitario que cuenta con **S/ 10** de presupuesto para comprar café antes de sus clases. Ha visto los precios en cuatro cafeterías cercanas:\n",
    "\n",
    "| CAFETERÍA | PRECIO POR CAFÉ (S/ ) |\n",
    "|-----------|-----------------------|\n",
    "| A         | 2.50                  |\n",
    "| B         | 3.00                  |\n",
    "| C         | 1.75                  |\n",
    "| D         | 2.20                  |\n",
    "\n",
    "**Objetivo del ejercicio:**\n",
    "\n",
    "Usando NumPy, determina:\n",
    "\n",
    "1. Cuántos cafés puede comprar en cada una de las cuatro cafeterías con sus S/ 10.\n",
    "2. En cuál cafetería obtiene la mayor cantidad de cafés sin pasarse del presupuesto.\n",
    "3. El precio mínimo entre las cuatro cafeterías y el índice (o nombre) de esa cafetería."
   ],
   "id": "183cb9bbe5e498c0"
  },
  {
   "metadata": {},
   "cell_type": "markdown",
   "source": "## Librerías",
   "id": "31678f09b2eaea95"
  },
  {
   "cell_type": "code",
   "id": "initial_id",
   "metadata": {
    "collapsed": true,
    "ExecuteTime": {
     "end_time": "2025-05-06T04:12:42.969864Z",
     "start_time": "2025-05-06T04:12:42.803260Z"
    }
   },
   "source": "import numpy as np",
   "outputs": [],
   "execution_count": 18
  },
  {
   "metadata": {},
   "cell_type": "markdown",
   "source": "## Planteamiento",
   "id": "a218aa4f1214ef53"
  },
  {
   "metadata": {},
   "cell_type": "markdown",
   "source": "Definimos nuestro presupuesto",
   "id": "94d8d7d0adaa9e80"
  },
  {
   "metadata": {
    "ExecuteTime": {
     "end_time": "2025-05-06T04:12:45.490855Z",
     "start_time": "2025-05-06T04:12:45.434529Z"
    }
   },
   "cell_type": "code",
   "source": [
    "presupuesto = 10.00\n",
    "print(f'Presupuesto: S/: {presupuesto:.2f}')"
   ],
   "id": "5f8709c7447a81c4",
   "outputs": [
    {
     "name": "stdout",
     "output_type": "stream",
     "text": [
      "Presupuesto: S/: 10.00\n"
     ]
    }
   ],
   "execution_count": 19
  },
  {
   "metadata": {},
   "cell_type": "markdown",
   "source": "Declaramos el array de precios y acfeterias",
   "id": "cfb97956491a64af"
  },
  {
   "metadata": {
    "ExecuteTime": {
     "end_time": "2025-05-06T04:12:48.719703Z",
     "start_time": "2025-05-06T04:12:48.688631Z"
    }
   },
   "cell_type": "code",
   "source": [
    "precios = np.array([2.50, 3.00, 1.75, 2.20])\n",
    "cafeterias = [\"A\", \"B\", \"C\", \"D\"]\n",
    "\n",
    "print(\"Lista de precios:\", precios)\n",
    "print(\"Cafeterias:\", cafeterias)"
   ],
   "id": "d1dea43472f9d283",
   "outputs": [
    {
     "name": "stdout",
     "output_type": "stream",
     "text": [
      "Lista de precios: [2.5  3.   1.75 2.2 ]\n",
      "Cafeterias: ['A', 'B', 'C', 'D']\n"
     ]
    }
   ],
   "execution_count": 20
  },
  {
   "metadata": {},
   "cell_type": "markdown",
   "source": "## Solución",
   "id": "3f2a39f8e2d50c5c"
  },
  {
   "metadata": {},
   "cell_type": "markdown",
   "source": "Obtenemos el máximo de cafés que podemos comprar en cada cafetería",
   "id": "f02dc41b6b7294b0"
  },
  {
   "metadata": {
    "ExecuteTime": {
     "end_time": "2025-05-06T04:12:51.116254Z",
     "start_time": "2025-05-06T04:12:50.959360Z"
    }
   },
   "cell_type": "code",
   "source": [
    "max_cafes = np.floor(10/precios)\n",
    "max_cafes"
   ],
   "id": "708f9a5c6ed2f2a4",
   "outputs": [
    {
     "data": {
      "text/plain": [
       "array([4., 3., 5., 4.])"
      ]
     },
     "execution_count": 21,
     "metadata": {},
     "output_type": "execute_result"
    }
   ],
   "execution_count": 21
  },
  {
   "metadata": {},
   "cell_type": "markdown",
   "source": "Obtenemos el mayor de la lista y su posición",
   "id": "360552ea39da848d"
  },
  {
   "metadata": {
    "ExecuteTime": {
     "end_time": "2025-05-06T04:12:52.795852Z",
     "start_time": "2025-05-06T04:12:52.784844Z"
    }
   },
   "cell_type": "code",
   "source": [
    "mayor = max_cafes.max()\n",
    "mayor_pos = max_cafes.argmax()\n",
    "\n",
    "print(mayor)\n",
    "print(mayor_pos)"
   ],
   "id": "acc3a8927112e178",
   "outputs": [
    {
     "name": "stdout",
     "output_type": "stream",
     "text": [
      "5.0\n",
      "2\n"
     ]
    }
   ],
   "execution_count": 22
  },
  {
   "metadata": {},
   "cell_type": "markdown",
   "source": "Obtenemos el valor mínimo",
   "id": "32af74fbdb310e77"
  },
  {
   "metadata": {
    "ExecuteTime": {
     "end_time": "2025-05-06T04:12:56.792083Z",
     "start_time": "2025-05-06T04:12:56.739520Z"
    }
   },
   "cell_type": "code",
   "source": [
    "menor = max_cafes.min()\n",
    "menor_pos = max_cafes.argmin()\n",
    "\n",
    "print(menor)\n",
    "print(menor_pos)"
   ],
   "id": "1f381466be817494",
   "outputs": [
    {
     "name": "stdout",
     "output_type": "stream",
     "text": [
      "3.0\n",
      "1\n"
     ]
    }
   ],
   "execution_count": 23
  },
  {
   "metadata": {},
   "cell_type": "markdown",
   "source": "## Respuestas",
   "id": "f46156736c553f60"
  },
  {
   "metadata": {},
   "cell_type": "markdown",
   "source": "1. Cuántos cafés puede comprar en cada una de las cuatro cafeterías con sus S/ 10.",
   "id": "d240715d2327bd11"
  },
  {
   "metadata": {
    "ExecuteTime": {
     "end_time": "2025-05-06T04:12:59.630315Z",
     "start_time": "2025-05-06T04:12:59.614105Z"
    }
   },
   "cell_type": "code",
   "source": [
    "for i, cafeteria in enumerate(cafeterias):\n",
    "    print(f'Cafetería {cafeteria}: precio S/ {precios[i]:.2f}, '\n",
    "          f'puedo comprar {int(max_cafes[i])} cafés.')"
   ],
   "id": "28f4d8ec0248d3b9",
   "outputs": [
    {
     "name": "stdout",
     "output_type": "stream",
     "text": [
      "Cafetería A: precio S/ 2.50, puedo comprar 4 cafés.\n",
      "Cafetería B: precio S/ 3.00, puedo comprar 3 cafés.\n",
      "Cafetería C: precio S/ 1.75, puedo comprar 5 cafés.\n",
      "Cafetería D: precio S/ 2.20, puedo comprar 4 cafés.\n"
     ]
    }
   ],
   "execution_count": 24
  },
  {
   "metadata": {},
   "cell_type": "markdown",
   "source": "2. En cuál cafetería obtiene la mayor cantidad de cafés sin pasarse del presupuesto.",
   "id": "c235fea88392f3da"
  },
  {
   "metadata": {
    "ExecuteTime": {
     "end_time": "2025-05-06T04:13:02.635494Z",
     "start_time": "2025-05-06T04:13:02.588862Z"
    }
   },
   "cell_type": "code",
   "source": [
    "print(f'En la cafetería {cafeterias[mayor_pos]} obtiene la mayor cantidad de cafés.')\n",
    "print(f'Con su presupuesto de S/ {presupuesto:.2f} a un costo de S/ {precios[mayor_pos]:.2f} por café.')\n",
    "print(f'Puede comprar {int(mayor)} cafés.')"
   ],
   "id": "c6a5649679be1249",
   "outputs": [
    {
     "name": "stdout",
     "output_type": "stream",
     "text": [
      "En la cafetería C obtiene la mayor cantidad de cafés.\n",
      "Con su presupuesto de S/ 10.00 a un costo de S/ 1.75 por café.\n",
      "Puede comprar 5 cafés.\n"
     ]
    }
   ],
   "execution_count": 25
  },
  {
   "metadata": {},
   "cell_type": "markdown",
   "source": "3. El precio mínimo entre las cuatro cafeterías y el índice (o nombre) de esa cafetería.",
   "id": "71838d67bfe62190"
  },
  {
   "metadata": {
    "ExecuteTime": {
     "end_time": "2025-05-06T04:13:04.963969Z",
     "start_time": "2025-05-06T04:13:04.907310Z"
    }
   },
   "cell_type": "code",
   "source": [
    "print(f'El precio mínimo entre cafeterías es de S/ {precios[mayor_pos]:.2f}.')\n",
    "print(f'La cafetería es: {cafeterias[mayor_pos]}.')"
   ],
   "id": "1d5f3cb86c75a90d",
   "outputs": [
    {
     "name": "stdout",
     "output_type": "stream",
     "text": [
      "El precio mínimo entre cafeterías es de S/ 1.75.\n",
      "La cafetería es: C.\n"
     ]
    }
   ],
   "execution_count": 26
  },
  {
   "metadata": {},
   "cell_type": "code",
   "outputs": [],
   "execution_count": null,
   "source": "",
   "id": "c72f16059ecd8c37"
  }
 ],
 "metadata": {
  "kernelspec": {
   "display_name": "Python 3",
   "language": "python",
   "name": "python3"
  },
  "language_info": {
   "codemirror_mode": {
    "name": "ipython",
    "version": 2
   },
   "file_extension": ".py",
   "mimetype": "text/x-python",
   "name": "python",
   "nbconvert_exporter": "python",
   "pygments_lexer": "ipython2",
   "version": "2.7.6"
  }
 },
 "nbformat": 4,
 "nbformat_minor": 5
}
