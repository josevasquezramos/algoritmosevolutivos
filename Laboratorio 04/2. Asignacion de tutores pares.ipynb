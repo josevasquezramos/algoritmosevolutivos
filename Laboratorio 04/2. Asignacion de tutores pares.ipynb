{
 "cells": [
  {
   "cell_type": "code",
   "id": "initial_id",
   "metadata": {
    "collapsed": true,
    "ExecuteTime": {
     "end_time": "2025-05-19T17:44:49.898003Z",
     "start_time": "2025-05-19T17:44:49.888993Z"
    }
   },
   "source": [
    "import pandas as pd\n",
    "from collections import defaultdict\n",
    "import random\n"
   ],
   "outputs": [],
   "execution_count": 6
  },
  {
   "metadata": {
    "ExecuteTime": {
     "end_time": "2025-05-19T17:44:01.271162Z",
     "start_time": "2025-05-19T17:44:01.241333Z"
    }
   },
   "cell_type": "code",
   "source": [
    "# Cargar el CSV (puedes ajustar el nombre del archivo si es necesario)\n",
    "df = pd.read_csv(\"dataset/mentorAvailability.csv\")\n",
    "\n",
    "# Mostrar las primeras filas\n",
    "df.head()"
   ],
   "id": "ce55b5da176ca31f",
   "outputs": [
    {
     "data": {
      "text/plain": [
       "  MentorID  Slot1  Slot2  Slot3  Slot4  Slot5  Slot6  Slot7  Slot8  Slot9  \\\n",
       "0      M01      1      1      1      1      0      0      0      1      1   \n",
       "1      M02      1      1      0      1      0      0      1      0      0   \n",
       "2      M03      0      1      0      1      1      0      1      0      0   \n",
       "3      M04      0      1      0      0      0      0      1      1      0   \n",
       "4      M05      1      1      0      1      1      1      0      0      0   \n",
       "\n",
       "   Slot10  \n",
       "0       1  \n",
       "1       1  \n",
       "2       1  \n",
       "3       1  \n",
       "4       1  "
      ],
      "text/html": [
       "<div>\n",
       "<style scoped>\n",
       "    .dataframe tbody tr th:only-of-type {\n",
       "        vertical-align: middle;\n",
       "    }\n",
       "\n",
       "    .dataframe tbody tr th {\n",
       "        vertical-align: top;\n",
       "    }\n",
       "\n",
       "    .dataframe thead th {\n",
       "        text-align: right;\n",
       "    }\n",
       "</style>\n",
       "<table border=\"1\" class=\"dataframe\">\n",
       "  <thead>\n",
       "    <tr style=\"text-align: right;\">\n",
       "      <th></th>\n",
       "      <th>MentorID</th>\n",
       "      <th>Slot1</th>\n",
       "      <th>Slot2</th>\n",
       "      <th>Slot3</th>\n",
       "      <th>Slot4</th>\n",
       "      <th>Slot5</th>\n",
       "      <th>Slot6</th>\n",
       "      <th>Slot7</th>\n",
       "      <th>Slot8</th>\n",
       "      <th>Slot9</th>\n",
       "      <th>Slot10</th>\n",
       "    </tr>\n",
       "  </thead>\n",
       "  <tbody>\n",
       "    <tr>\n",
       "      <th>0</th>\n",
       "      <td>M01</td>\n",
       "      <td>1</td>\n",
       "      <td>1</td>\n",
       "      <td>1</td>\n",
       "      <td>1</td>\n",
       "      <td>0</td>\n",
       "      <td>0</td>\n",
       "      <td>0</td>\n",
       "      <td>1</td>\n",
       "      <td>1</td>\n",
       "      <td>1</td>\n",
       "    </tr>\n",
       "    <tr>\n",
       "      <th>1</th>\n",
       "      <td>M02</td>\n",
       "      <td>1</td>\n",
       "      <td>1</td>\n",
       "      <td>0</td>\n",
       "      <td>1</td>\n",
       "      <td>0</td>\n",
       "      <td>0</td>\n",
       "      <td>1</td>\n",
       "      <td>0</td>\n",
       "      <td>0</td>\n",
       "      <td>1</td>\n",
       "    </tr>\n",
       "    <tr>\n",
       "      <th>2</th>\n",
       "      <td>M03</td>\n",
       "      <td>0</td>\n",
       "      <td>1</td>\n",
       "      <td>0</td>\n",
       "      <td>1</td>\n",
       "      <td>1</td>\n",
       "      <td>0</td>\n",
       "      <td>1</td>\n",
       "      <td>0</td>\n",
       "      <td>0</td>\n",
       "      <td>1</td>\n",
       "    </tr>\n",
       "    <tr>\n",
       "      <th>3</th>\n",
       "      <td>M04</td>\n",
       "      <td>0</td>\n",
       "      <td>1</td>\n",
       "      <td>0</td>\n",
       "      <td>0</td>\n",
       "      <td>0</td>\n",
       "      <td>0</td>\n",
       "      <td>1</td>\n",
       "      <td>1</td>\n",
       "      <td>0</td>\n",
       "      <td>1</td>\n",
       "    </tr>\n",
       "    <tr>\n",
       "      <th>4</th>\n",
       "      <td>M05</td>\n",
       "      <td>1</td>\n",
       "      <td>1</td>\n",
       "      <td>0</td>\n",
       "      <td>1</td>\n",
       "      <td>1</td>\n",
       "      <td>1</td>\n",
       "      <td>0</td>\n",
       "      <td>0</td>\n",
       "      <td>0</td>\n",
       "      <td>1</td>\n",
       "    </tr>\n",
       "  </tbody>\n",
       "</table>\n",
       "</div>"
      ]
     },
     "execution_count": 2,
     "metadata": {},
     "output_type": "execute_result"
    }
   ],
   "execution_count": 2
  },
  {
   "metadata": {
    "ExecuteTime": {
     "end_time": "2025-05-19T17:44:16.907276Z",
     "start_time": "2025-05-19T17:44:16.892190Z"
    }
   },
   "cell_type": "code",
   "source": [
    "# Extraer los IDs de mentores\n",
    "mentores = df['MentorID'].tolist()\n",
    "\n",
    "# Extraer los horarios disponibles como listas por mentor\n",
    "disponibilidades = df.drop(columns='MentorID').values.tolist()\n",
    "\n",
    "# Crear diccionario mentor -> slots disponibles\n",
    "mentor_slots = {\n",
    "    mentor: [i for i, disponible in enumerate(slots) if disponible == 1]\n",
    "    for mentor, slots in zip(mentores, disponibilidades)\n",
    "}\n",
    "\n",
    "mentor_slots\n"
   ],
   "id": "fa525e72f4adef8a",
   "outputs": [
    {
     "data": {
      "text/plain": [
       "{'M01': [0, 1, 2, 3, 7, 8, 9],\n",
       " 'M02': [0, 1, 3, 6, 9],\n",
       " 'M03': [1, 3, 4, 6, 9],\n",
       " 'M04': [1, 6, 7, 9],\n",
       " 'M05': [0, 1, 3, 4, 5, 9],\n",
       " 'M06': [0, 4, 5, 7, 9],\n",
       " 'M07': [1, 5, 6, 8, 9],\n",
       " 'M08': [0, 1, 2, 3, 4, 5, 7, 8, 9],\n",
       " 'M09': [0, 1, 2, 4, 5, 9],\n",
       " 'M10': [0, 2, 3, 4, 6],\n",
       " 'M11': [0, 5],\n",
       " 'M12': [0, 1, 9],\n",
       " 'M13': [0, 1, 2, 3, 4, 5, 7, 8, 9],\n",
       " 'M14': [2, 4, 6, 7, 8, 9],\n",
       " 'M15': [1, 2, 4, 5, 9],\n",
       " 'M16': [0, 1, 4, 6, 7],\n",
       " 'M17': [1, 2, 5, 8],\n",
       " 'M18': [0, 4, 5, 6, 7, 9],\n",
       " 'M19': [2, 7, 8],\n",
       " 'M20': [4, 6, 8]}"
      ]
     },
     "execution_count": 3,
     "metadata": {},
     "output_type": "execute_result"
    }
   ],
   "execution_count": 3
  },
  {
   "metadata": {
    "ExecuteTime": {
     "end_time": "2025-05-19T17:44:36.731467Z",
     "start_time": "2025-05-19T17:44:36.722452Z"
    }
   },
   "cell_type": "code",
   "source": [
    "def calcular_choques(asignacion):\n",
    "    horario_ocupado = defaultdict(int)\n",
    "    for slot_dupla in asignacion.values():\n",
    "        for slot in slot_dupla:\n",
    "            horario_ocupado[slot] += 1\n",
    "    return sum(v - 1 for v in horario_ocupado.values() if v > 1)\n"
   ],
   "id": "bb6190a66dfa941b",
   "outputs": [],
   "execution_count": 5
  },
  {
   "metadata": {
    "ExecuteTime": {
     "end_time": "2025-05-19T17:44:54.564860Z",
     "start_time": "2025-05-19T17:44:54.554983Z"
    }
   },
   "cell_type": "code",
   "source": [
    "def generar_vecino(asignacion_actual, mentor_slots):\n",
    "    nuevo = asignacion_actual.copy()\n",
    "    mentor = random.choice(list(mentor_slots.keys()))\n",
    "    opciones = [\n",
    "        (i, j) for i in mentor_slots[mentor]\n",
    "                for j in mentor_slots[mentor]\n",
    "                if i < j and j - i == 1\n",
    "    ]\n",
    "    if not opciones:\n",
    "        return nuevo\n",
    "    nuevo[mentor] = random.choice(opciones)\n",
    "    return nuevo\n"
   ],
   "id": "e5588a6ce4251e2e",
   "outputs": [],
   "execution_count": 7
  },
  {
   "metadata": {
    "ExecuteTime": {
     "end_time": "2025-05-19T17:45:04.329355Z",
     "start_time": "2025-05-19T17:45:04.317744Z"
    }
   },
   "cell_type": "code",
   "source": [
    "def busqueda_local(mentor_slots, max_iter=1000):\n",
    "    # Inicialización: elegir una franja de 2h contigua por mentor\n",
    "    asignacion = {}\n",
    "    for mentor, slots in mentor_slots.items():\n",
    "        candidatos = [(i, j) for i in slots for j in slots if i < j and j - i == 1]\n",
    "        if candidatos:\n",
    "            asignacion[mentor] = random.choice(candidatos)\n",
    "        else:\n",
    "            asignacion[mentor] = random.sample(slots, 2) if len(slots) >= 2 else slots\n",
    "\n",
    "    mejor = asignacion\n",
    "    mejor_costo = calcular_choques(mejor)\n",
    "\n",
    "    for _ in range(max_iter):\n",
    "        vecino = generar_vecino(mejor, mentor_slots)\n",
    "        costo = calcular_choques(vecino)\n",
    "\n",
    "        if costo < mejor_costo:\n",
    "            mejor = vecino\n",
    "            mejor_costo = costo\n",
    "\n",
    "        if mejor_costo == 0:\n",
    "            break\n",
    "\n",
    "    return mejor, mejor_costo\n"
   ],
   "id": "64ca7d936c54b01d",
   "outputs": [],
   "execution_count": 8
  },
  {
   "metadata": {
    "ExecuteTime": {
     "end_time": "2025-05-19T17:45:16.416019Z",
     "start_time": "2025-05-19T17:45:16.392070Z"
    }
   },
   "cell_type": "code",
   "source": [
    "solucion, choques = busqueda_local(mentor_slots)\n",
    "\n",
    "print(\"Asignación final:\")\n",
    "for mentor, slots in solucion.items():\n",
    "    print(f\"{mentor}: {slots}\")\n",
    "\n",
    "print(f\"Choques: {choques}\")\n"
   ],
   "id": "184e2c399f0ab92a",
   "outputs": [
    {
     "name": "stdout",
     "output_type": "stream",
     "text": [
      "Asignación final:\n",
      "M01: (8, 9)\n",
      "M02: (0, 1)\n",
      "M03: (3, 4)\n",
      "M04: (6, 7)\n",
      "M05: (4, 5)\n",
      "M06: (4, 5)\n",
      "M07: (5, 6)\n",
      "M08: (3, 4)\n",
      "M09: (4, 5)\n",
      "M10: (2, 3)\n",
      "M11: [5, 0]\n",
      "M12: (0, 1)\n",
      "M13: (0, 1)\n",
      "M14: (8, 9)\n",
      "M15: (4, 5)\n",
      "M16: (6, 7)\n",
      "M17: (1, 2)\n",
      "M18: (4, 5)\n",
      "M19: (7, 8)\n",
      "M20: [4, 8]\n",
      "Choques: 30\n"
     ]
    }
   ],
   "execution_count": 9
  },
  {
   "metadata": {},
   "cell_type": "code",
   "outputs": [],
   "execution_count": null,
   "source": "",
   "id": "bf47ce77d65b729f"
  }
 ],
 "metadata": {
  "kernelspec": {
   "display_name": "Python 3",
   "language": "python",
   "name": "python3"
  },
  "language_info": {
   "codemirror_mode": {
    "name": "ipython",
    "version": 2
   },
   "file_extension": ".py",
   "mimetype": "text/x-python",
   "name": "python",
   "nbconvert_exporter": "python",
   "pygments_lexer": "ipython2",
   "version": "2.7.6"
  }
 },
 "nbformat": 4,
 "nbformat_minor": 5
}
