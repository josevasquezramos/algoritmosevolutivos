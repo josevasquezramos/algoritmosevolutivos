{
 "cells": [
  {
   "metadata": {},
   "cell_type": "markdown",
   "source": [
    "# Asignación de tutores pares\n",
    "\n",
    "**Alumno:** VASQUEZ RAMOS, Jose Manuel\n",
    "\n",
    "**Fecha:** 20/05/2025\n",
    "\n",
    "___"
   ],
   "id": "bac92f8eeba50738"
  },
  {
   "metadata": {},
   "cell_type": "markdown",
   "source": [
    "## Contexto académico & objetivo\n",
    "\n",
    "Dispones de una tabla “disponibilidad” (filas = estudiantes mentores, columnas = horarios). Minimiza el número de choques de horario asignando a cada mentor un bloque de 2 h.\n",
    "\n",
    "## Indicaciones clave\n",
    "\n",
    "Representa cada solución como lista de horarios. Función de costo = choques. Vecindad: cambiar 1 horario. Devuelve horario final y choques = 0 si posible."
   ],
   "id": "f62f58c5878e66d2"
  },
  {
   "metadata": {},
   "cell_type": "markdown",
   "source": "## Librerías",
   "id": "c04b9c3f094deb4a"
  },
  {
   "cell_type": "code",
   "id": "initial_id",
   "metadata": {
    "collapsed": true,
    "ExecuteTime": {
     "end_time": "2025-05-20T13:28:09.952070Z",
     "start_time": "2025-05-20T13:28:09.621016Z"
    }
   },
   "source": [
    "import pandas as pd\n",
    "import numpy as np\n",
    "import random"
   ],
   "outputs": [],
   "execution_count": 1
  },
  {
   "metadata": {},
   "cell_type": "markdown",
   "source": "## Control de aleatoriedad",
   "id": "3db83a2dbb2c6334"
  },
  {
   "metadata": {
    "ExecuteTime": {
     "end_time": "2025-05-20T13:28:17.882503Z",
     "start_time": "2025-05-20T13:28:17.874759Z"
    }
   },
   "cell_type": "code",
   "source": [
    "random.seed(42)\n",
    "np.random.seed(42)"
   ],
   "id": "49707894c590ed9d",
   "outputs": [],
   "execution_count": 2
  },
  {
   "metadata": {},
   "cell_type": "markdown",
   "source": "## Leer disponibilidad",
   "id": "1daf6a2b7bf25a63"
  },
  {
   "metadata": {
    "ExecuteTime": {
     "end_time": "2025-05-20T13:29:36.176951Z",
     "start_time": "2025-05-20T13:29:36.167957Z"
    }
   },
   "cell_type": "code",
   "source": [
    "df = pd.read_csv(\"dataset/mentorAvailability.csv\")\n",
    "mentores = df['MentorID'].tolist()\n",
    "slots = df.columns[1:]  # Slot1 a Slot10\n",
    "num_slots = len(slots)"
   ],
   "id": "46bab93c8453c892",
   "outputs": [],
   "execution_count": 9
  },
  {
   "metadata": {},
   "cell_type": "markdown",
   "source": "## Funciones auxiliares",
   "id": "c2f0fbb96f3cde4f"
  },
  {
   "metadata": {
    "ExecuteTime": {
     "end_time": "2025-05-20T13:29:44.966668Z",
     "start_time": "2025-05-20T13:29:44.960145Z"
    }
   },
   "cell_type": "code",
   "source": [
    "def get_valid_blocks(mentor_row):\n",
    "    \"\"\"Devuelve los bloques de 2h continuos disponibles para un mentor.\"\"\"\n",
    "    disponibilidad = mentor_row.values\n",
    "    bloques = []\n",
    "    for i in range(num_slots - 1):\n",
    "        if disponibilidad[i] == 1 and disponibilidad[i + 1] == 1:\n",
    "            bloques.append(i)\n",
    "    return bloques  # índice del primer slot"
   ],
   "id": "244c37e0d7620fcd",
   "outputs": [],
   "execution_count": 10
  },
  {
   "metadata": {
    "ExecuteTime": {
     "end_time": "2025-05-20T13:29:52.675653Z",
     "start_time": "2025-05-20T13:29:52.667617Z"
    }
   },
   "cell_type": "code",
   "source": [
    "def initial_solution(df):\n",
    "    \"\"\"Genera una solución inicial aleatoria válida (un bloque por mentor).\"\"\"\n",
    "    asignacion = {}\n",
    "    for idx, row in df.iterrows():\n",
    "        posibles = get_valid_blocks(row[1:])\n",
    "        if posibles:\n",
    "            asignacion[row['MentorID']] = random.choice(posibles)\n",
    "        else:\n",
    "            asignacion[row['MentorID']] = None  # No tiene bloque válido\n",
    "    return asignacion"
   ],
   "id": "48d75146a7677ddf",
   "outputs": [],
   "execution_count": 11
  },
  {
   "metadata": {
    "ExecuteTime": {
     "end_time": "2025-05-20T13:29:59.777394Z",
     "start_time": "2025-05-20T13:29:59.768016Z"
    }
   },
   "cell_type": "code",
   "source": [
    "def costo(asignacion):\n",
    "    \"\"\"Cuenta cuántos choques hay entre mentores en cada slot.\"\"\"\n",
    "    ocupacion = [0] * num_slots\n",
    "    choques = 0\n",
    "    for bloque in asignacion.values():\n",
    "        if bloque is not None:\n",
    "            ocupacion[bloque] += 1\n",
    "            ocupacion[bloque + 1] += 1\n",
    "    for o in ocupacion:\n",
    "        if o > 1:\n",
    "            choques += o - 1  # solo se cuenta el exceso\n",
    "    return choques"
   ],
   "id": "bb7e17ebf6e5ad4e",
   "outputs": [],
   "execution_count": 12
  },
  {
   "metadata": {
    "ExecuteTime": {
     "end_time": "2025-05-20T13:30:06.103419Z",
     "start_time": "2025-05-20T13:30:06.098280Z"
    }
   },
   "cell_type": "code",
   "source": [
    "def get_neighbors(asignacion, df):\n",
    "    \"\"\"Genera vecinos cambiando el bloque de un solo mentor.\"\"\"\n",
    "    vecinos = []\n",
    "    for mentor in asignacion:\n",
    "        actuales = asignacion.copy()\n",
    "        disponibles = get_valid_blocks(df[df['MentorID'] == mentor].iloc[0, 1:])\n",
    "        for nuevo_bloque in disponibles:\n",
    "            if nuevo_bloque != asignacion[mentor]:\n",
    "                vecino = actuales.copy()\n",
    "                vecino[mentor] = nuevo_bloque\n",
    "                vecinos.append(vecino)\n",
    "    return vecinos"
   ],
   "id": "48f194ffc22113d4",
   "outputs": [],
   "execution_count": 13
  },
  {
   "metadata": {},
   "cell_type": "markdown",
   "source": "## Hill Climbing",
   "id": "3f5fc105a6d7073c"
  },
  {
   "metadata": {
    "ExecuteTime": {
     "end_time": "2025-05-20T13:30:14.551303Z",
     "start_time": "2025-05-20T13:30:14.544665Z"
    }
   },
   "cell_type": "code",
   "source": [
    "def hill_climb(df, max_iters=1000):\n",
    "    current = initial_solution(df)\n",
    "    current_cost = costo(current)\n",
    "\n",
    "    for i in range(max_iters):\n",
    "        vecinos = get_neighbors(current, df)\n",
    "        if not vecinos:\n",
    "            break\n",
    "        mejor_vecino = min(vecinos, key=costo)\n",
    "        mejor_costo = costo(mejor_vecino)\n",
    "\n",
    "        if mejor_costo < current_cost:\n",
    "            current, current_cost = mejor_vecino, mejor_costo\n",
    "        else:\n",
    "            break  # Óptimo local\n",
    "\n",
    "        if current_cost == 0:\n",
    "            break  # Solución perfecta\n",
    "\n",
    "    return current, current_cost"
   ],
   "id": "c22bc2d6fd563c37",
   "outputs": [],
   "execution_count": 14
  },
  {
   "metadata": {},
   "cell_type": "markdown",
   "source": "## Ejecución",
   "id": "d1fc46833d6dfa4d"
  },
  {
   "metadata": {
    "ExecuteTime": {
     "end_time": "2025-05-20T13:30:22.058541Z",
     "start_time": "2025-05-20T13:30:22.038778Z"
    }
   },
   "cell_type": "code",
   "source": "asignacion_final, choques_finales = hill_climb(df)",
   "id": "1d669f499f1e2b7",
   "outputs": [],
   "execution_count": 15
  },
  {
   "metadata": {},
   "cell_type": "markdown",
   "source": "## Reporte",
   "id": "a9c1e1ec37d3c63e"
  },
  {
   "metadata": {
    "ExecuteTime": {
     "end_time": "2025-05-20T13:30:28.480588Z",
     "start_time": "2025-05-20T13:30:28.474547Z"
    }
   },
   "cell_type": "code",
   "source": [
    "print(f\"Choques finales: {choques_finales}\")\n",
    "print(\"Asignación de bloques (slot inicial):\")\n",
    "for mentor, bloque in asignacion_final.items():\n",
    "    if bloque is not None:\n",
    "        print(f\"{mentor}: Slot{bloque + 1} y Slot{bloque + 2}\")\n",
    "    else:\n",
    "        print(f\"{mentor}: ❌ Sin bloque válido\")"
   ],
   "id": "266575dcbfa33e60",
   "outputs": [
    {
     "name": "stdout",
     "output_type": "stream",
     "text": [
      "Choques finales: 26\n",
      "Asignación de bloques (slot inicial):\n",
      "M01: Slot9 y Slot10\n",
      "M02: Slot1 y Slot2\n",
      "M03: Slot4 y Slot5\n",
      "M04: Slot7 y Slot8\n",
      "M05: Slot1 y Slot2\n",
      "M06: Slot5 y Slot6\n",
      "M07: Slot6 y Slot7\n",
      "M08: Slot8 y Slot9\n",
      "M09: Slot5 y Slot6\n",
      "M10: Slot3 y Slot4\n",
      "M11: ❌ Sin bloque válido\n",
      "M12: Slot1 y Slot2\n",
      "M13: Slot1 y Slot2\n",
      "M14: Slot7 y Slot8\n",
      "M15: Slot2 y Slot3\n",
      "M16: Slot1 y Slot2\n",
      "M17: Slot2 y Slot3\n",
      "M18: Slot7 y Slot8\n",
      "M19: Slot8 y Slot9\n",
      "M20: ❌ Sin bloque válido\n"
     ]
    }
   ],
   "execution_count": 16
  }
 ],
 "metadata": {
  "kernelspec": {
   "display_name": "Python 3",
   "language": "python",
   "name": "python3"
  },
  "language_info": {
   "codemirror_mode": {
    "name": "ipython",
    "version": 2
   },
   "file_extension": ".py",
   "mimetype": "text/x-python",
   "name": "python",
   "nbconvert_exporter": "python",
   "pygments_lexer": "ipython2",
   "version": "2.7.6"
  }
 },
 "nbformat": 4,
 "nbformat_minor": 5
}
