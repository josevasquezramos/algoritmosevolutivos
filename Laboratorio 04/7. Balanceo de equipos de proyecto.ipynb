{
 "cells": [
  {
   "metadata": {},
   "cell_type": "markdown",
   "source": [
    "# Balanceo de equipos de proyecto\n",
    "\n",
    "**Alumno:** VASQUEZ RAMOS, Jose Manuel\n",
    "\n",
    "**Fecha:** 20/05/2025\n",
    "\n",
    "___"
   ],
   "id": "9bea2a3aae559ed6"
  },
  {
   "metadata": {},
   "cell_type": "markdown",
   "source": [
    "## Contexto académico & objetivo\n",
    "\n",
    "Se requiere formar 5 equipos de 4 alumnos equilibrando promedio ponderado de GPA y habilidades (categorías).\n",
    "\n",
    "## Indicaciones clave\n",
    "\n",
    "Representa solución como listas de índices. Función de aptitud = suma de varianzas de GPA + penalización por desequilibrio de habilidades. Vecino: swap de dos alumnos de equipos distintos. Resultados: composición de equipos y métricas."
   ],
   "id": "69a1558cfe1e5dd9"
  },
  {
   "metadata": {},
   "cell_type": "markdown",
   "source": "## Librerías",
   "id": "c5cc4410c40d9978"
  },
  {
   "cell_type": "code",
   "id": "initial_id",
   "metadata": {
    "collapsed": true,
    "ExecuteTime": {
     "end_time": "2025-05-20T20:16:33.141169Z",
     "start_time": "2025-05-20T20:16:32.418726Z"
    }
   },
   "source": [
    "import pandas as pd\n",
    "import numpy as np\n",
    "import random\n",
    "import matplotlib.pyplot as plt\n",
    "from collections import Counter\n",
    "from copy import deepcopy"
   ],
   "outputs": [],
   "execution_count": 1
  },
  {
   "metadata": {},
   "cell_type": "markdown",
   "source": "## Control de aleatoriedad",
   "id": "80fe9a4eaa7162fa"
  },
  {
   "metadata": {
    "ExecuteTime": {
     "end_time": "2025-05-20T20:16:33.295564Z",
     "start_time": "2025-05-20T20:16:33.291255Z"
    }
   },
   "cell_type": "code",
   "source": [
    "np.random.seed(42)\n",
    "random.seed(42)"
   ],
   "id": "aeded3a863c9fc6d",
   "outputs": [],
   "execution_count": 2
  },
  {
   "metadata": {},
   "cell_type": "markdown",
   "source": "## Dataset",
   "id": "ac63fdde27b7ce0b"
  },
  {
   "metadata": {
    "ExecuteTime": {
     "end_time": "2025-05-20T20:16:33.371233Z",
     "start_time": "2025-05-20T20:16:33.346818Z"
    }
   },
   "cell_type": "code",
   "source": [
    "df = pd.read_csv('dataset/students.csv')\n",
    "students = df.to_dict('records')\n",
    "\n",
    "df.head()"
   ],
   "id": "d0457f21be30970c",
   "outputs": [
    {
     "data": {
      "text/plain": [
       "  StudentID    GPA    Skill\n",
       "0       S01  14.24  Backend\n",
       "1       S02  15.55     Data\n",
       "2       S03  12.87     Data\n",
       "3       S04  17.07     Data\n",
       "4       S05  14.15  Backend"
      ],
      "text/html": [
       "<div>\n",
       "<style scoped>\n",
       "    .dataframe tbody tr th:only-of-type {\n",
       "        vertical-align: middle;\n",
       "    }\n",
       "\n",
       "    .dataframe tbody tr th {\n",
       "        vertical-align: top;\n",
       "    }\n",
       "\n",
       "    .dataframe thead th {\n",
       "        text-align: right;\n",
       "    }\n",
       "</style>\n",
       "<table border=\"1\" class=\"dataframe\">\n",
       "  <thead>\n",
       "    <tr style=\"text-align: right;\">\n",
       "      <th></th>\n",
       "      <th>StudentID</th>\n",
       "      <th>GPA</th>\n",
       "      <th>Skill</th>\n",
       "    </tr>\n",
       "  </thead>\n",
       "  <tbody>\n",
       "    <tr>\n",
       "      <th>0</th>\n",
       "      <td>S01</td>\n",
       "      <td>14.24</td>\n",
       "      <td>Backend</td>\n",
       "    </tr>\n",
       "    <tr>\n",
       "      <th>1</th>\n",
       "      <td>S02</td>\n",
       "      <td>15.55</td>\n",
       "      <td>Data</td>\n",
       "    </tr>\n",
       "    <tr>\n",
       "      <th>2</th>\n",
       "      <td>S03</td>\n",
       "      <td>12.87</td>\n",
       "      <td>Data</td>\n",
       "    </tr>\n",
       "    <tr>\n",
       "      <th>3</th>\n",
       "      <td>S04</td>\n",
       "      <td>17.07</td>\n",
       "      <td>Data</td>\n",
       "    </tr>\n",
       "    <tr>\n",
       "      <th>4</th>\n",
       "      <td>S05</td>\n",
       "      <td>14.15</td>\n",
       "      <td>Backend</td>\n",
       "    </tr>\n",
       "  </tbody>\n",
       "</table>\n",
       "</div>"
      ]
     },
     "execution_count": 3,
     "metadata": {},
     "output_type": "execute_result"
    }
   ],
   "execution_count": 3
  },
  {
   "metadata": {},
   "cell_type": "markdown",
   "source": "## Funciones",
   "id": "f2eb414635d5fdef"
  },
  {
   "metadata": {
    "ExecuteTime": {
     "end_time": "2025-05-20T20:16:55.600563Z",
     "start_time": "2025-05-20T20:16:55.590001Z"
    }
   },
   "cell_type": "code",
   "source": [
    "# Inicializar solución aleatoria\n",
    "def initial_solution(n_teams=5, team_size=4):\n",
    "    indices = list(range(len(students)))\n",
    "    random.shuffle(indices)\n",
    "    return [indices[i*team_size:(i+1)*team_size] for i in range(n_teams)]\n",
    "\n",
    "# Función de aptitud\n",
    "def fitness(solution):\n",
    "    total_variance = 0\n",
    "    skill_penalty = 0\n",
    "\n",
    "    for team in solution:\n",
    "        gpas = [students[i]['GPA'] for i in team]\n",
    "        skills = [students[i]['Skill'] for i in team]\n",
    "\n",
    "        # Varianza GPA\n",
    "        total_variance += np.var(gpas)\n",
    "\n",
    "        # Penalización por skills desbalanceadas\n",
    "        skill_counts = Counter(skills)\n",
    "        penalty = max(skill_counts.values()) - min(skill_counts.values())\n",
    "        skill_penalty += penalty\n",
    "\n",
    "    return total_variance + skill_penalty  # menor es mejor\n",
    "\n",
    "# Generar vecinos (swap entre estudiantes de equipos distintos)\n",
    "def get_neighbors(solution):\n",
    "    neighbors = []\n",
    "    for i in range(len(solution)):\n",
    "        for j in range(i+1, len(solution)):\n",
    "            for a in range(len(solution[i])):\n",
    "                for b in range(len(solution[j])):\n",
    "                    new_sol = deepcopy(solution)\n",
    "                    new_sol[i][a], new_sol[j][b] = new_sol[j][b], new_sol[i][a]\n",
    "                    neighbors.append(new_sol)\n",
    "    return neighbors\n",
    "\n",
    "# 5. Hill Climbing\n",
    "def hill_climb(iterations=100):\n",
    "    current = initial_solution()\n",
    "    current_score = fitness(current)\n",
    "    scores = [current_score]\n",
    "\n",
    "    for it in range(iterations):\n",
    "        neighbors = get_neighbors(current)\n",
    "        best_neighbor = min(neighbors, key=fitness)\n",
    "        best_score = fitness(best_neighbor)\n",
    "\n",
    "        if best_score < current_score:\n",
    "            current, current_score = best_neighbor, best_score\n",
    "\n",
    "        scores.append(current_score)\n",
    "\n",
    "    return current, scores"
   ],
   "id": "e7c3f10c26c23145",
   "outputs": [],
   "execution_count": 4
  },
  {
   "metadata": {},
   "cell_type": "markdown",
   "source": "## Ejecución y resultados",
   "id": "570e379336332bf4"
  },
  {
   "metadata": {
    "ExecuteTime": {
     "end_time": "2025-05-20T20:17:13.690880Z",
     "start_time": "2025-05-20T20:17:13.038888Z"
    }
   },
   "cell_type": "code",
   "source": [
    "# Ejecutar\n",
    "solution, score_history = hill_climb(50)\n",
    "\n",
    "# Graficar convergencia\n",
    "plt.plot(score_history)\n",
    "plt.xlabel('Iteración')\n",
    "plt.ylabel('Fitness')\n",
    "plt.title('Convergencia Hill Climbing')\n",
    "plt.grid(True)\n",
    "plt.show()"
   ],
   "id": "be2ab6e548ed22ea",
   "outputs": [
    {
     "data": {
      "text/plain": [
       "<Figure size 640x480 with 1 Axes>"
      ],
      "image/png": "[encoded data removed]"
     },
     "metadata": {},
     "output_type": "display_data"
    }
   ],
   "execution_count": 5
  },
  {
   "metadata": {
    "ExecuteTime": {
     "end_time": "2025-05-20T20:17:22.113484Z",
     "start_time": "2025-05-20T20:17:22.106971Z"
    }
   },
   "cell_type": "code",
   "source": [
    "for i, team in enumerate(solution):\n",
    "    print(f\"Equipo {i+1}:\")\n",
    "    for idx in team:\n",
    "        s = students[idx]\n",
    "        print(f\"  {s['StudentID']} | GPA: {s['GPA']} | Skill: {s['Skill']}\")\n",
    "    print()\n",
    "\n",
    "print(f\"Aptitud final: {fitness(solution):.4f}\")"
   ],
   "id": "98d64de872ebd493",
   "outputs": [
    {
     "name": "stdout",
     "output_type": "stream",
     "text": [
      "Equipo 1:\n",
      "  S02 | GPA: 15.55 | Skill: Data\n",
      "  S01 | GPA: 14.24 | Skill: Backend\n",
      "  S04 | GPA: 17.07 | Skill: Data\n",
      "  S05 | GPA: 14.15 | Skill: Backend\n",
      "\n",
      "Equipo 2:\n",
      "  S10 | GPA: 12.33 | Skill: Frontend\n",
      "  S09 | GPA: 10.46 | Skill: Backend\n",
      "  S18 | GPA: 12.49 | Skill: Backend\n",
      "  S19 | GPA: 11.06 | Skill: Data\n",
      "\n",
      "Equipo 3:\n",
      "  S06 | GPA: 13.61 | Skill: Data\n",
      "  S03 | GPA: 12.87 | Skill: Data\n",
      "  S16 | GPA: 12.97 | Skill: Data\n",
      "  S11 | GPA: 13.49 | Skill: Data\n",
      "\n",
      "Equipo 4:\n",
      "  S14 | GPA: 19.69 | Skill: Backend\n",
      "  S08 | GPA: 19.25 | Skill: DevOps\n",
      "  S13 | GPA: 19.85 | Skill: DevOps\n",
      "  S17 | GPA: 19.92 | Skill: Backend\n",
      "\n",
      "Equipo 5:\n",
      "  S12 | GPA: 18.15 | Skill: Data\n",
      "  S20 | GPA: 19.51 | Skill: Frontend\n",
      "  S07 | GPA: 18.29 | Skill: DevOps\n",
      "  S15 | GPA: 19.05 | Skill: Frontend\n",
      "\n",
      "Aptitud final: 4.6169\n"
     ]
    }
   ],
   "execution_count": 6
  }
 ],
 "metadata": {
  "kernelspec": {
   "display_name": "Python 3",
   "language": "python",
   "name": "python3"
  },
  "language_info": {
   "codemirror_mode": {
    "name": "ipython",
    "version": 2
   },
   "file_extension": ".py",
   "mimetype": "text/x-python",
   "name": "python",
   "nbconvert_exporter": "python",
   "pygments_lexer": "ipython2",
   "version": "2.7.6"
  }
 },
 "nbformat": 4,
 "nbformat_minor": 5
}
