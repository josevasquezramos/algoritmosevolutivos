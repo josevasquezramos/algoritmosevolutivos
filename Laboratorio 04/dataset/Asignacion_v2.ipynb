{
 "cells": [
  {
   "cell_type": "code",
   "id": "initial_id",
   "metadata": {
    "collapsed": true,
    "ExecuteTime": {
     "end_time": "2025-05-19T17:56:06.106986Z",
     "start_time": "2025-05-19T17:56:05.607185Z"
    }
   },
   "source": [
    "import pandas as pd\n",
    "import random\n",
    "from copy import deepcopy\n",
    "\n",
    "# Cargar datos\n",
    "def cargar_disponibilidad(csv_path):\n",
    "    return pd.read_csv(csv_path, index_col=\"MentorID\")\n",
    "\n",
    "# Generar bloques de 2h disponibles para cada mentor\n",
    "def obtener_bloques_validos(df):\n",
    "    bloques = {}\n",
    "    for mentor, row in df.iterrows():\n",
    "        bloques[mentor] = []\n",
    "        for i in range(len(row) - 1):\n",
    "            if row.iloc[i] == 1 and row.iloc[i+1] == 1:\n",
    "                bloques[mentor].append((i, i+1))\n",
    "    return bloques\n",
    "\n",
    "# Generar una solución inicial aleatoria\n",
    "def solucion_inicial(bloques_validos):\n",
    "    return {mentor: random.choice(bloques) for mentor, bloques in bloques_validos.items() if bloques}\n",
    "\n",
    "# Calcular choques (costo)\n",
    "def calcular_choques(solucion):\n",
    "    contador = {}\n",
    "    for bloque in solucion.values():\n",
    "        for slot in bloque:\n",
    "            contador[slot] = contador.get(slot, 0) + 1\n",
    "    return sum(v - 1 for v in contador.values() if v > 1)\n",
    "\n",
    "# Vecindad: cambiar un bloque de un mentor\n",
    "def generar_vecindad(solucion, bloques_validos):\n",
    "    vecinos = []\n",
    "    for mentor in solucion:\n",
    "        for nuevo_bloque in bloques_validos[mentor]:\n",
    "            if nuevo_bloque != solucion[mentor]:\n",
    "                nuevo = deepcopy(solucion)\n",
    "                nuevo[mentor] = nuevo_bloque\n",
    "                vecinos.append(nuevo)\n",
    "    return vecinos\n",
    "\n",
    "# Búsqueda local\n",
    "def busqueda_local(df):\n",
    "    bloques_validos = obtener_bloques_validos(df)\n",
    "    solucion = solucion_inicial(bloques_validos)\n",
    "    mejor_costo = calcular_choques(solucion)\n",
    "\n",
    "    while True:\n",
    "        vecinos = generar_vecindad(solucion, bloques_validos)\n",
    "        mejor_vecino = solucion\n",
    "        for vecino in vecinos:\n",
    "            costo = calcular_choques(vecino)\n",
    "            if costo < mejor_costo:\n",
    "                mejor_costo = costo\n",
    "                mejor_vecino = vecino\n",
    "        if mejor_vecino == solucion:  # sin mejora\n",
    "            break\n",
    "        solucion = mejor_vecino\n",
    "        if mejor_costo == 0:\n",
    "            break\n",
    "\n",
    "    return solucion, mejor_costo\n"
   ],
   "outputs": [],
   "execution_count": 1
  },
  {
   "metadata": {
    "ExecuteTime": {
     "end_time": "2025-05-19T17:56:07.050243Z",
     "start_time": "2025-05-19T17:56:07.026498Z"
    }
   },
   "cell_type": "code",
   "source": [
    "df = cargar_disponibilidad(\"mentorAvailability.csv\")\n",
    "solucion_final, choques = busqueda_local(df)\n",
    "\n",
    "print(\"Asignación final:\")\n",
    "for mentor, bloque in solucion_final.items():\n",
    "    print(f\"{mentor}: Slots {bloque[0]} y {bloque[1]}\")\n",
    "print(f\"Choques: {choques}\")\n"
   ],
   "id": "56db81c201b5dc12",
   "outputs": [
    {
     "name": "stdout",
     "output_type": "stream",
     "text": [
      "Asignación final:\n",
      "M01: Slots 1 y 2\n",
      "M02: Slots 0 y 1\n",
      "M03: Slots 3 y 4\n",
      "M04: Slots 6 y 7\n",
      "M05: Slots 4 y 5\n",
      "M06: Slots 4 y 5\n",
      "M07: Slots 8 y 9\n",
      "M08: Slots 7 y 8\n",
      "M09: Slots 0 y 1\n",
      "M10: Slots 2 y 3\n",
      "M12: Slots 0 y 1\n",
      "M13: Slots 8 y 9\n",
      "M14: Slots 7 y 8\n",
      "M15: Slots 4 y 5\n",
      "M16: Slots 0 y 1\n",
      "M17: Slots 1 y 2\n",
      "M18: Slots 4 y 5\n",
      "M19: Slots 7 y 8\n",
      "Choques: 26\n"
     ]
    }
   ],
   "execution_count": 2
  },
  {
   "metadata": {},
   "cell_type": "code",
   "outputs": [],
   "execution_count": null,
   "source": "",
   "id": "7ee5a1168434b89f"
  }
 ],
 "metadata": {
  "kernelspec": {
   "display_name": "Python 3",
   "language": "python",
   "name": "python3"
  },
  "language_info": {
   "codemirror_mode": {
    "name": "ipython",
    "version": 2
   },
   "file_extension": ".py",
   "mimetype": "text/x-python",
   "name": "python",
   "nbconvert_exporter": "python",
   "pygments_lexer": "ipython2",
   "version": "2.7.6"
  }
 },
 "nbformat": 4,
 "nbformat_minor": 5
}
