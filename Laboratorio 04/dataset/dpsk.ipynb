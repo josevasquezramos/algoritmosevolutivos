{
 "cells": [
  {
   "cell_type": "code",
   "id": "initial_id",
   "metadata": {
    "collapsed": true,
    "ExecuteTime": {
     "end_time": "2025-05-19T17:58:40.937271Z",
     "start_time": "2025-05-19T17:58:40.352726Z"
    }
   },
   "source": [
    "import pandas as pd\n",
    "import random\n",
    "\n",
    "def asignar_tutores(disponibilidad):\n",
    "    \"\"\"\n",
    "    Asigna tutores a bloques de 2 horas consecutivas minimizando choques de horario.\n",
    "\n",
    "    Args:\n",
    "        disponibilidad: DataFrame de pandas con la disponibilidad de los mentores\n",
    "\n",
    "    Returns:\n",
    "        tuple: (asignacion_final, choques) donde asignacion_final es un diccionario\n",
    "               {mentor: [horarios]} y choques es el número total de choques\n",
    "    \"\"\"\n",
    "    # Convertir el DataFrame a un diccionario para mejor manejo\n",
    "    mentores = disponibilidad.set_index('MentorID').to_dict('index')\n",
    "\n",
    "    # Paso 1: Generar solución inicial aleatoria\n",
    "    asignacion_actual = {}\n",
    "    for mentor in mentores:\n",
    "        slots_disponibles = [s for s, disp in mentores[mentor].items() if disp == 1]\n",
    "        # Buscar bloques de 2 horas consecutivas disponibles\n",
    "        bloques = []\n",
    "        for i in range(len(slots_disponibles)-1):\n",
    "            if int(slots_disponibles[i+1][4:]) == int(slots_disponibles[i][4:]) + 1:\n",
    "                bloques.append((slots_disponibles[i], slots_disponibles[i+1]))\n",
    "        if bloques:\n",
    "            bloque_elegido = random.choice(bloques)\n",
    "            asignacion_actual[mentor] = list(bloque_elegido)\n",
    "        else:\n",
    "            # Si no hay bloques de 2 horas, asignar cualquier horario disponible (aunque no sea consecutivo)\n",
    "            if slots_disponibles:\n",
    "                asignacion_actual[mentor] = [random.choice(slots_disponibles)]\n",
    "            else:\n",
    "                asignacion_actual[mentor] = []\n",
    "\n",
    "    # Función para calcular choques\n",
    "    def calcular_choques(asignacion):\n",
    "        contador = {}\n",
    "        for mentor, slots in asignacion.items():\n",
    "            for slot in slots:\n",
    "                contador[slot] = contador.get(slot, 0) + 1\n",
    "        return sum(max(0, count-1) for count in contador.values())\n",
    "\n",
    "    # Paso 2: Búsqueda local\n",
    "    max_iter = 1000\n",
    "    for _ in range(max_iter):\n",
    "        choques_actual = calcular_choques(asignacion_actual)\n",
    "        if choques_actual == 0:\n",
    "            break  # Solución óptima encontrada\n",
    "\n",
    "        # Generar vecino: cambiar horario de un mentor aleatorio\n",
    "        mentor_cambiar = random.choice(list(asignacion_actual.keys()))\n",
    "        slots_disponibles = [s for s, disp in mentores[mentor_cambiar].items() if disp == 1]\n",
    "\n",
    "        # Buscar bloques de 2 horas consecutivas disponibles para este mentor\n",
    "        bloques = []\n",
    "        for i in range(len(slots_disponibles)-1):\n",
    "            if int(slots_disponibles[i+1][4:]) == int(slots_disponibles[i][4:]) + 1:\n",
    "                bloques.append((slots_disponibles[i], slots_disponibles[i+1]))\n",
    "\n",
    "        # Crear nueva asignación de prueba\n",
    "        nueva_asignacion = asignacion_actual.copy()\n",
    "        if bloques:\n",
    "            nuevo_bloque = random.choice(bloques)\n",
    "            nueva_asignacion[mentor_cambiar] = list(nuevo_bloque)\n",
    "        elif slots_disponibles:\n",
    "            nueva_asignacion[mentor_cambiar] = [random.choice(slots_disponibles)]\n",
    "        else:\n",
    "            nueva_asignacion[mentor_cambiar] = []\n",
    "\n",
    "        # Evaluar si el vecino es mejor\n",
    "        nuevos_choques = calcular_choques(nueva_asignacion)\n",
    "        if nuevos_choques <= choques_actual:\n",
    "            asignacion_actual = nueva_asignacion\n",
    "\n",
    "    return asignacion_actual, calcular_choques(asignacion_actual)\n",
    "\n",
    "# Ejemplo de uso:\n",
    "# Cargar datos desde CSV\n",
    "disponibilidad = pd.read_csv('mentorAvailability.csv')\n",
    "asignacion, choques = asignar_tutores(disponibilidad)\n",
    "print(\"Asignación final:\", asignacion)\n",
    "print(\"Número de choques:\", choques)"
   ],
   "outputs": [
    {
     "name": "stdout",
     "output_type": "stream",
     "text": [
      "Asignación final: {'M01': ['Slot9', 'Slot10'], 'M02': ['Slot1', 'Slot2'], 'M03': ['Slot4', 'Slot5'], 'M04': ['Slot7', 'Slot8'], 'M05': ['Slot1', 'Slot2'], 'M06': ['Slot5', 'Slot6'], 'M07': ['Slot6', 'Slot7'], 'M08': ['Slot1', 'Slot2'], 'M09': ['Slot5', 'Slot6'], 'M10': ['Slot3', 'Slot4'], 'M11': ['Slot1'], 'M12': ['Slot1', 'Slot2'], 'M13': ['Slot4', 'Slot5'], 'M14': ['Slot7', 'Slot8'], 'M15': ['Slot5', 'Slot6'], 'M16': ['Slot1', 'Slot2'], 'M17': ['Slot2', 'Slot3'], 'M18': ['Slot6', 'Slot7'], 'M19': ['Slot8', 'Slot9'], 'M20': ['Slot7']}\n",
      "Número de choques: 28\n"
     ]
    }
   ],
   "execution_count": 1
  },
  {
   "metadata": {},
   "cell_type": "code",
   "outputs": [],
   "execution_count": null,
   "source": "",
   "id": "ae8e8353f5d8dd89"
  }
 ],
 "metadata": {
  "kernelspec": {
   "display_name": "Python 3",
   "language": "python",
   "name": "python3"
  },
  "language_info": {
   "codemirror_mode": {
    "name": "ipython",
    "version": 2
   },
   "file_extension": ".py",
   "mimetype": "text/x-python",
   "name": "python",
   "nbconvert_exporter": "python",
   "pygments_lexer": "ipython2",
   "version": "2.7.6"
  }
 },
 "nbformat": 4,
 "nbformat_minor": 5
}
