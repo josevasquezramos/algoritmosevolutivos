{
 "cells": [
  {
   "metadata": {},
   "cell_type": "markdown",
   "source": [
    "# Sintonización de reglas en un spam filter\n",
    "\n",
    "**Alumno:** VASQUEZ RAMOS, Jose Manuel\n",
    "\n",
    "**Fecha:** 20/05/2025\n",
    "\n",
    "___"
   ],
   "id": "79e3e456d85c3a87"
  },
  {
   "metadata": {},
   "cell_type": "markdown",
   "source": [
    "## Contexto académico & objetivo\n",
    "\n",
    "Sintonización de reglas en un spam filter para correos institucionales (dataset tokenizado). Evoluciona umbrales de puntaje y pesos de 5 características con DEAP y operador de hill climbing por individuo.\n",
    "\n",
    "## Indicaciones clave\n",
    "\n",
    "1) Genotipo: 6 floats.\n",
    "2) Cada individuo aplica hill climbing local tras mutar.\n",
    "3) Fitness = F1-score sobre conjunto validación.\n",
    "4) Entrega mejores pesos y gráfica de F1 vs generación."
   ],
   "id": "42ca7d3a6ec07b9f"
  },
  {
   "metadata": {},
   "cell_type": "markdown",
   "source": "## Librerías",
   "id": "a70d0713b5294af1"
  },
  {
   "cell_type": "code",
   "id": "initial_id",
   "metadata": {
    "collapsed": true,
    "ExecuteTime": {
     "end_time": "2025-05-20T20:46:19.077204Z",
     "start_time": "2025-05-20T20:46:17.690989Z"
    }
   },
   "source": [
    "import numpy as np\n",
    "import random\n",
    "import matplotlib.pyplot as plt\n",
    "from deap import base, creator, tools, algorithms\n",
    "from sklearn.metrics import f1_score\n",
    "import pandas as pd"
   ],
   "outputs": [],
   "execution_count": 1
  },
  {
   "metadata": {},
   "cell_type": "markdown",
   "source": "## Aleatoriedad",
   "id": "9c40c5a2ed36bee9"
  },
  {
   "metadata": {
    "ExecuteTime": {
     "end_time": "2025-05-20T20:46:19.526691Z",
     "start_time": "2025-05-20T20:46:19.519967Z"
    }
   },
   "cell_type": "code",
   "source": [
    "random.seed(42)\n",
    "np.random.seed(42)"
   ],
   "id": "c5ca288dbcfe1ea8",
   "outputs": [],
   "execution_count": 2
  },
  {
   "metadata": {},
   "cell_type": "markdown",
   "source": "## Dataset",
   "id": "9605f7c315a5bd01"
  },
  {
   "metadata": {
    "ExecuteTime": {
     "end_time": "2025-05-20T20:46:20.174665Z",
     "start_time": "2025-05-20T20:46:20.169239Z"
    }
   },
   "cell_type": "code",
   "source": [
    "def load_dataset(filename):\n",
    "    data = pd.read_csv(filename)\n",
    "    features = data[['Feature1', 'Feature2', 'Feature3', 'Feature4', 'Feature5']].values\n",
    "    labels = data['Spam'].values\n",
    "    return features, labels"
   ],
   "id": "7b9932f7524bae2d",
   "outputs": [],
   "execution_count": 3
  },
  {
   "metadata": {},
   "cell_type": "markdown",
   "source": "## Dividir en entrenamiento y validación (80-20)",
   "id": "941f6185c749210c"
  },
  {
   "metadata": {
    "ExecuteTime": {
     "end_time": "2025-05-20T20:46:20.806318Z",
     "start_time": "2025-05-20T20:46:20.796183Z"
    }
   },
   "cell_type": "code",
   "source": [
    "features, labels = load_dataset('dataset/emails.csv')\n",
    "split_idx = int(0.8 * len(features))\n",
    "train_features, val_features = features[:split_idx], features[split_idx:]\n",
    "train_labels, val_labels = labels[:split_idx], labels[split_idx:]"
   ],
   "id": "ea1c1feca2bff268",
   "outputs": [],
   "execution_count": 4
  },
  {
   "metadata": {},
   "cell_type": "markdown",
   "source": "## Definición del problema en DEAP",
   "id": "c73303a9c9fe806a"
  },
  {
   "metadata": {
    "ExecuteTime": {
     "end_time": "2025-05-20T20:46:21.350277Z",
     "start_time": "2025-05-20T20:46:21.342201Z"
    }
   },
   "cell_type": "code",
   "source": [
    "creator.create(\"FitnessMax\", base.Fitness, weights=(1.0,))\n",
    "creator.create(\"Individual\", list, fitness=creator.FitnessMax)\n",
    "\n",
    "toolbox = base.Toolbox()"
   ],
   "id": "23984c258053d6a5",
   "outputs": [],
   "execution_count": 5
  },
  {
   "metadata": {},
   "cell_type": "markdown",
   "source": "## Genotipo: 6 floats (umbral + 5 pesos de características)",
   "id": "6e6c44522496e53f"
  },
  {
   "metadata": {
    "ExecuteTime": {
     "end_time": "2025-05-20T20:46:21.889717Z",
     "start_time": "2025-05-20T20:46:21.882728Z"
    }
   },
   "cell_type": "code",
   "source": [
    "toolbox.register(\"attr_float\", random.uniform, 0, 1)\n",
    "toolbox.register(\"individual\", tools.initRepeat, creator.Individual, toolbox.attr_float, n=6)\n",
    "toolbox.register(\"population\", tools.initRepeat, list, toolbox.individual)"
   ],
   "id": "cd4aa4986d8084f3",
   "outputs": [],
   "execution_count": 6
  },
  {
   "metadata": {},
   "cell_type": "markdown",
   "source": "## Función de evaluación (F1-score)",
   "id": "73b8de6c167448ea"
  },
  {
   "metadata": {
    "ExecuteTime": {
     "end_time": "2025-05-20T20:46:22.554664Z",
     "start_time": "2025-05-20T20:46:22.546388Z"
    }
   },
   "cell_type": "code",
   "source": [
    "def evaluate(individual):\n",
    "    threshold = individual[0]\n",
    "    weights = individual[1:]\n",
    "\n",
    "    # Calcular puntaje ponderado para cada email\n",
    "    weighted_scores = np.dot(train_features, weights)\n",
    "\n",
    "    # Predecir spam (1) o no spam (0) basado en el umbral\n",
    "    predictions = (weighted_scores > threshold).astype(int)\n",
    "\n",
    "    # Calcular F1-score\n",
    "    f1 = f1_score(train_labels, predictions)\n",
    "\n",
    "    return (f1,)\n",
    "\n",
    "toolbox.register(\"evaluate\", evaluate)"
   ],
   "id": "10d624ebcdfd74ec",
   "outputs": [],
   "execution_count": 7
  },
  {
   "metadata": {},
   "cell_type": "markdown",
   "source": "## Operadores genéticos con mutación personalizada + hill climbing",
   "id": "e9ba0184b496df13"
  },
  {
   "metadata": {
    "ExecuteTime": {
     "end_time": "2025-05-20T20:46:23.188682Z",
     "start_time": "2025-05-20T20:46:23.180144Z"
    }
   },
   "cell_type": "code",
   "source": [
    "def mut_with_hillclimbing(individual, indpb=0.1):\n",
    "    # Mutación estándar\n",
    "    for i in range(len(individual)):\n",
    "        if random.random() < indpb:\n",
    "            individual[i] = random.uniform(0, 1)\n",
    "\n",
    "    # Hill climbing local: probar pequeñas variaciones alrededor\n",
    "    best_fitness = evaluate(individual)[0]\n",
    "    best_individual = list(individual)\n",
    "\n",
    "    for _ in range(5):  # Número de vecinos a explorar\n",
    "        neighbor = list(individual)\n",
    "        for i in range(len(neighbor)):\n",
    "            neighbor[i] += random.gauss(0, 0.05)\n",
    "            neighbor[i] = np.clip(neighbor[i], 0, 1)  # Mantener en [0,1]\n",
    "\n",
    "        neighbor_fitness = evaluate(neighbor)[0]\n",
    "        if neighbor_fitness > best_fitness:\n",
    "            best_fitness = neighbor_fitness\n",
    "            best_individual = neighbor\n",
    "\n",
    "    # DEVOLVER como tupla (el operador mutate de DEAP espera una tupla)\n",
    "    return (creator.Individual(best_individual),)\n",
    "\n",
    "# Registrar la función de mutación corregida\n",
    "toolbox.register(\"mutate\", mut_with_hillclimbing, indpb=0.2)\n",
    "\n",
    "toolbox.register(\"mate\", tools.cxBlend, alpha=0.5)\n",
    "toolbox.register(\"select\", tools.selTournament, tournsize=3)"
   ],
   "id": "a06be4ebbb4e8cb2",
   "outputs": [],
   "execution_count": 8
  },
  {
   "metadata": {},
   "cell_type": "markdown",
   "source": "## Algoritmo evolutivo",
   "id": "727f36770984b3e4"
  },
  {
   "metadata": {
    "ExecuteTime": {
     "end_time": "2025-05-20T20:46:23.689257Z",
     "start_time": "2025-05-20T20:46:23.676655Z"
    }
   },
   "cell_type": "code",
   "source": [
    "def run_evolution():\n",
    "    pop = toolbox.population(n=50)\n",
    "    hof = tools.HallOfFame(1)\n",
    "    stats = tools.Statistics(lambda ind: ind.fitness.values)\n",
    "    stats.register(\"avg\", np.mean)\n",
    "    stats.register(\"min\", np.min)\n",
    "    stats.register(\"max\", np.max)\n",
    "\n",
    "    # Registrar F1 en validación para el mejor individuo\n",
    "    logbook = tools.Logbook()\n",
    "    logbook.header = [\"gen\", \"nevals\"] + stats.fields + [\"val_f1\"]\n",
    "\n",
    "    # Función para evaluar en validación\n",
    "    def eval_validation(individual):\n",
    "        threshold = individual[0]\n",
    "        weights = individual[1:]\n",
    "        weighted_scores = np.dot(val_features, weights)\n",
    "        predictions = (weighted_scores > threshold).astype(int)\n",
    "        return f1_score(val_labels, predictions)\n",
    "\n",
    "    for gen in range(30):  # Número de generaciones\n",
    "        offspring = algorithms.varAnd(pop, toolbox, cxpb=0.7, mutpb=0.3)\n",
    "\n",
    "        # Evaluar fitness en entrenamiento\n",
    "        fits = toolbox.map(toolbox.evaluate, offspring)\n",
    "        for fit, ind in zip(fits, offspring):\n",
    "            ind.fitness.values = fit\n",
    "\n",
    "        # Seleccionar nueva población\n",
    "        pop = toolbox.select(offspring, k=len(pop))\n",
    "\n",
    "        # Actualizar hall of fame y estadísticas\n",
    "        hof.update(pop)\n",
    "        record = stats.compile(pop)\n",
    "\n",
    "        # Calcular F1 en validación para el mejor\n",
    "        val_f1 = eval_validation(hof[0])\n",
    "        logbook.record(gen=gen, nevals=len(offspring), val_f1=val_f1, **record)\n",
    "\n",
    "        print(logbook.stream)\n",
    "\n",
    "    return pop, hof, logbook"
   ],
   "id": "8d330339242c2fe2",
   "outputs": [],
   "execution_count": 9
  },
  {
   "metadata": {},
   "cell_type": "markdown",
   "source": "## Ejecución",
   "id": "458bd184777f3778"
  },
  {
   "metadata": {
    "ExecuteTime": {
     "end_time": "2025-05-20T20:46:52.948281Z",
     "start_time": "2025-05-20T20:46:49.713477Z"
    }
   },
   "cell_type": "code",
   "source": [
    "pop, hof, logbook = run_evolution()\n",
    "\n",
    "# Mostrar mejores pesos encontrados\n",
    "best_individual = hof[0]\n",
    "print(\"\\nMejores pesos encontrados:\")\n",
    "print(f\"Umbral: {best_individual[0]:.4f}\")\n",
    "for i, weight in enumerate(best_individual[1:], 1):\n",
    "    print(f\"Peso Feature{i}: {weight:.4f}\")"
   ],
   "id": "164e3167def35afe",
   "outputs": [
    {
     "name": "stdout",
     "output_type": "stream",
     "text": [
      "gen\tnevals\tavg     \tmin     \tmax     \tval_f1  \n",
      "0  \t50    \t0.709041\t0.678571\t0.720721\t0.666667\n",
      "1  \t50    \t0.713125\t0.694215\t0.725664\t0.631579\n",
      "2  \t50    \t0.713401\t0.699187\t0.720721\t0.631579\n",
      "3  \t50    \t0.71379 \t0.699187\t0.721311\t0.631579\n",
      "4  \t50    \t0.716187\t0.709677\t0.727273\t0.48    \n",
      "5  \t50    \t0.717053\t0.709677\t0.727273\t0.48    \n",
      "6  \t50    \t0.716199\t0.709677\t0.727273\t0.48    \n",
      "7  \t50    \t0.71763 \t0.709677\t0.727273\t0.48    \n",
      "8  \t50    \t0.719354\t0.704918\t0.725664\t0.48    \n",
      "9  \t50    \t0.720686\t0.715447\t0.728814\t0.5     \n",
      "10 \t50    \t0.720923\t0.709677\t0.727273\t0.5     \n",
      "11 \t50    \t0.721557\t0.709677\t0.727273\t0.5     \n",
      "12 \t50    \t0.725008\t0.717949\t0.733333\t0.521739\n",
      "13 \t50    \t0.727334\t0.721311\t0.733333\t0.521739\n",
      "14 \t50    \t0.726585\t0.716667\t0.733333\t0.521739\n",
      "15 \t50    \t0.727319\t0.715447\t0.735043\t0.545455\n",
      "16 \t50    \t0.727991\t0.706897\t0.733333\t0.545455\n",
      "17 \t50    \t0.730081\t0.716667\t0.733333\t0.545455\n",
      "18 \t50    \t0.729876\t0.672566\t0.733333\t0.545455\n",
      "19 \t50    \t0.730227\t0.701754\t0.733333\t0.545455\n",
      "20 \t50    \t0.732043\t0.711864\t0.735043\t0.545455\n",
      "21 \t50    \t0.732001\t0.716667\t0.733333\t0.545455\n",
      "22 \t50    \t0.733212\t0.727273\t0.733333\t0.545455\n",
      "23 \t50    \t0.732185\t0.711864\t0.733333\t0.545455\n",
      "24 \t50    \t0.732612\t0.715447\t0.733333\t0.545455\n",
      "25 \t50    \t0.733333\t0.733333\t0.733333\t0.545455\n",
      "26 \t50    \t0.733333\t0.733333\t0.733333\t0.545455\n",
      "27 \t50    \t0.733333\t0.733333\t0.733333\t0.545455\n",
      "28 \t50    \t0.733333\t0.733333\t0.733333\t0.545455\n",
      "29 \t50    \t0.733333\t0.733333\t0.733333\t0.545455\n",
      "\n",
      "Mejores pesos encontrados:\n",
      "Umbral: 0.3227\n",
      "Peso Feature1: -0.6236\n",
      "Peso Feature2: 0.1991\n",
      "Peso Feature3: 0.8990\n",
      "Peso Feature4: 0.8922\n",
      "Peso Feature5: 0.4013\n"
     ]
    }
   ],
   "execution_count": 11
  },
  {
   "metadata": {
    "ExecuteTime": {
     "end_time": "2025-05-20T20:46:55.056220Z",
     "start_time": "2025-05-20T20:46:54.961338Z"
    }
   },
   "cell_type": "code",
   "source": [
    "gen = logbook.select(\"gen\")\n",
    "val_f1 = logbook.select(\"val_f1\")\n",
    "max_f1 = logbook.select(\"max\")\n",
    "\n",
    "plt.figure(figsize=(10, 6))\n",
    "plt.plot(gen, val_f1, 'b-', label=\"F1 Validación\")\n",
    "plt.plot(gen, max_f1, 'r--', label=\"F1 Máximo Entrenamiento\")\n",
    "plt.xlabel(\"Generación\")\n",
    "plt.ylabel(\"F1-Score\")\n",
    "plt.title(\"Evolución del F1-Score durante la optimización\")\n",
    "plt.legend()\n",
    "plt.grid()\n",
    "plt.show()"
   ],
   "id": "ac14c1dc16089025",
   "outputs": [
    {
     "data": {
      "text/plain": [
       "<Figure size 1000x600 with 1 Axes>"
      ],
      "image/png": "[encoded data removed]"
     },
     "metadata": {},
     "output_type": "display_data"
    }
   ],
   "execution_count": 12
  }
 ],
 "metadata": {
  "kernelspec": {
   "display_name": "Python 3",
   "language": "python",
   "name": "python3"
  },
  "language_info": {
   "codemirror_mode": {
    "name": "ipython",
    "version": 2
   },
   "file_extension": ".py",
   "mimetype": "text/x-python",
   "name": "python",
   "nbconvert_exporter": "python",
   "pygments_lexer": "ipython2",
   "version": "2.7.6"
  }
 },
 "nbformat": 4,
 "nbformat_minor": 5
}
