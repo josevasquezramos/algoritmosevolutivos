{
 "cells": [
  {
   "metadata": {},
   "cell_type": "markdown",
   "source": [
    "# Curva de notas de parciales\n",
    "\n",
    "**Alumno:** VASQUEZ RAMOS, Jose Manuel\n",
    "\n",
    "**Fecha:** 20/05/2025\n",
    "\n",
    "___"
   ],
   "id": "d7960644e786d1b9"
  },
  {
   "metadata": {},
   "cell_type": "markdown",
   "source": [
    "## Contexto académico & objetivo\n",
    "\n",
    "Dado un CSV con las calificaciones de 120 alumnos en tres parciales, usa hill climbing para encontrar el offset (entre –5 y +5 puntos) que maximiza el porcentaje de aprobados manteniendo el promedio de la clase ≤ 14.\n",
    "\n",
    "## Indicaciones clave\n",
    "\n",
    "1) Lee el archivo.\n",
    "1) Define función de aptitud (porcentaje de aprobados penalizando si promedio > 14).\n",
    "2) Itera intentando offsets aleatorios de 0.5 ptos y conserva el mejor. 4) Reporta offset óptimo y nueva distribución."
   ],
   "id": "aee48933cd209db6"
  },
  {
   "metadata": {},
   "cell_type": "markdown",
   "source": "## Librerías",
   "id": "8e837c111438fa73"
  },
  {
   "metadata": {
    "ExecuteTime": {
     "end_time": "2025-05-20T13:13:41.053241Z",
     "start_time": "2025-05-20T13:13:40.444152Z"
    }
   },
   "cell_type": "code",
   "source": [
    "import pandas as pd\n",
    "import numpy as np\n",
    "import random\n",
    "import matplotlib.pyplot as plt"
   ],
   "id": "43a40f4115158478",
   "outputs": [],
   "execution_count": 1
  },
  {
   "metadata": {},
   "cell_type": "markdown",
   "source": "## Control de aleatoriedad",
   "id": "fe44b32c3413f224"
  },
  {
   "metadata": {
    "ExecuteTime": {
     "end_time": "2025-05-20T13:13:42.144618Z",
     "start_time": "2025-05-20T13:13:42.139221Z"
    }
   },
   "cell_type": "code",
   "source": [
    "np.random.seed(42)\n",
    "random.seed(42)"
   ],
   "id": "718d04fda96225e6",
   "outputs": [],
   "execution_count": 2
  },
  {
   "metadata": {},
   "cell_type": "markdown",
   "source": "## Dataset",
   "id": "51f420c06863f0d5"
  },
  {
   "metadata": {
    "ExecuteTime": {
     "end_time": "2025-05-20T13:13:43.107138Z",
     "start_time": "2025-05-20T13:13:43.084033Z"
    }
   },
   "cell_type": "code",
   "source": [
    "df = pd.read_csv(\"dataset/grades.csv\")\n",
    "df.head()"
   ],
   "id": "7aa71d8cc42fd4cb",
   "outputs": [
    {
     "data": {
      "text/plain": [
       "  StudentID  Parcial1  Parcial2  Parcial3\n",
       "0      A001        17        10        18\n",
       "1      A002        10        19        12\n",
       "2      A003         5         5        13\n",
       "3      A004         8         6        13\n",
       "4      A005        16         7        14"
      ],
      "text/html": [
       "<div>\n",
       "<style scoped>\n",
       "    .dataframe tbody tr th:only-of-type {\n",
       "        vertical-align: middle;\n",
       "    }\n",
       "\n",
       "    .dataframe tbody tr th {\n",
       "        vertical-align: top;\n",
       "    }\n",
       "\n",
       "    .dataframe thead th {\n",
       "        text-align: right;\n",
       "    }\n",
       "</style>\n",
       "<table border=\"1\" class=\"dataframe\">\n",
       "  <thead>\n",
       "    <tr style=\"text-align: right;\">\n",
       "      <th></th>\n",
       "      <th>StudentID</th>\n",
       "      <th>Parcial1</th>\n",
       "      <th>Parcial2</th>\n",
       "      <th>Parcial3</th>\n",
       "    </tr>\n",
       "  </thead>\n",
       "  <tbody>\n",
       "    <tr>\n",
       "      <th>0</th>\n",
       "      <td>A001</td>\n",
       "      <td>17</td>\n",
       "      <td>10</td>\n",
       "      <td>18</td>\n",
       "    </tr>\n",
       "    <tr>\n",
       "      <th>1</th>\n",
       "      <td>A002</td>\n",
       "      <td>10</td>\n",
       "      <td>19</td>\n",
       "      <td>12</td>\n",
       "    </tr>\n",
       "    <tr>\n",
       "      <th>2</th>\n",
       "      <td>A003</td>\n",
       "      <td>5</td>\n",
       "      <td>5</td>\n",
       "      <td>13</td>\n",
       "    </tr>\n",
       "    <tr>\n",
       "      <th>3</th>\n",
       "      <td>A004</td>\n",
       "      <td>8</td>\n",
       "      <td>6</td>\n",
       "      <td>13</td>\n",
       "    </tr>\n",
       "    <tr>\n",
       "      <th>4</th>\n",
       "      <td>A005</td>\n",
       "      <td>16</td>\n",
       "      <td>7</td>\n",
       "      <td>14</td>\n",
       "    </tr>\n",
       "  </tbody>\n",
       "</table>\n",
       "</div>"
      ]
     },
     "execution_count": 3,
     "metadata": {},
     "output_type": "execute_result"
    }
   ],
   "execution_count": 3
  },
  {
   "metadata": {},
   "cell_type": "markdown",
   "source": "## Función de aptitud",
   "id": "8687297eab12c5fb"
  },
  {
   "metadata": {
    "ExecuteTime": {
     "end_time": "2025-05-20T13:13:45.457181Z",
     "start_time": "2025-05-20T13:13:45.445955Z"
    }
   },
   "cell_type": "code",
   "source": [
    "def fitness(offset, df):\n",
    "    # Aplicar offset\n",
    "    df_offset = df.copy()\n",
    "    for col in ['Parcial1', 'Parcial2', 'Parcial3']:\n",
    "        df_offset[col] = np.clip(df_offset[col] + offset, 0, 20)  # Mantener notas entre 0 y 20\n",
    "\n",
    "    # Promedio por alumno\n",
    "    df_offset['Promedio'] = df_offset[['Parcial1', 'Parcial2', 'Parcial3']].mean(axis=1)\n",
    "\n",
    "    # Aprobados: promedio >= 11\n",
    "    aprobados = (df_offset['Promedio'] >= 11).sum()\n",
    "    porcentaje_aprobados = aprobados / len(df_offset) * 100\n",
    "\n",
    "    # Promedio general de la clase\n",
    "    promedio_clase = df_offset['Promedio'].mean()\n",
    "\n",
    "    # Penalización si se excede 14\n",
    "    if promedio_clase > 14:\n",
    "        return 0  # penalización total\n",
    "    return porcentaje_aprobados"
   ],
   "id": "38da9b00c0cbbab5",
   "outputs": [],
   "execution_count": 4
  },
  {
   "metadata": {},
   "cell_type": "markdown",
   "source": "## Vecindario",
   "id": "fe8f7eaa6e928ec8"
  },
  {
   "metadata": {
    "ExecuteTime": {
     "end_time": "2025-05-20T13:13:47.702320Z",
     "start_time": "2025-05-20T13:13:47.693618Z"
    }
   },
   "cell_type": "code",
   "source": [
    "def get_neighbors(current_offset):\n",
    "    step = 0.5\n",
    "    neighbors = []\n",
    "    if current_offset + step <= 5:\n",
    "        neighbors.append(round(current_offset + step, 2))\n",
    "    if current_offset - step >= -5:\n",
    "        neighbors.append(round(current_offset - step, 2))\n",
    "    return neighbors"
   ],
   "id": "555d5e5e1a41e9b8",
   "outputs": [],
   "execution_count": 5
  },
  {
   "metadata": {},
   "cell_type": "markdown",
   "source": "## Hill Climbing",
   "id": "11d867485eb5fdd9"
  },
  {
   "metadata": {
    "ExecuteTime": {
     "end_time": "2025-05-20T13:13:49.171643Z",
     "start_time": "2025-05-20T13:13:49.165376Z"
    }
   },
   "cell_type": "code",
   "source": [
    "def hill_climb(df, max_iters=100):\n",
    "    current = 0.0\n",
    "    current_score = fitness(current, df)\n",
    "    history = [(current, current_score)]\n",
    "\n",
    "    for i in range(max_iters):\n",
    "        neighbors = get_neighbors(current)\n",
    "        next_candidate = max(neighbors, key=lambda o: fitness(o, df))\n",
    "        next_score = fitness(next_candidate, df)\n",
    "\n",
    "        if next_score > current_score:\n",
    "            current, current_score = next_candidate, next_score\n",
    "            history.append((current, current_score))\n",
    "        else:\n",
    "            break  # óptimo local alcanzado\n",
    "\n",
    "    return current, current_score, history"
   ],
   "id": "6612d5df792eaf90",
   "outputs": [],
   "execution_count": 6
  },
  {
   "metadata": {},
   "cell_type": "markdown",
   "source": "## Ejecución",
   "id": "5731ab3adfd3632c"
  },
  {
   "metadata": {
    "ExecuteTime": {
     "end_time": "2025-05-20T13:13:51.297216Z",
     "start_time": "2025-05-20T13:13:51.244005Z"
    }
   },
   "cell_type": "code",
   "source": [
    "# Ejecutar\n",
    "offset_optimo, score_optimo, historia = hill_climb(df)\n",
    "\n",
    "# Aplicar offset óptimo\n",
    "df_final = df.copy()\n",
    "for col in ['Parcial1', 'Parcial2', 'Parcial3']:\n",
    "    df_final[col] = np.clip(df_final[col] + offset_optimo, 0, 20)\n",
    "df_final['Promedio'] = df_final[['Parcial1', 'Parcial2', 'Parcial3']].mean(axis=1)"
   ],
   "id": "319b1dee8f8d158d",
   "outputs": [],
   "execution_count": 7
  },
  {
   "metadata": {},
   "cell_type": "markdown",
   "source": "## Reporte",
   "id": "d988145d77e807a7"
  },
  {
   "metadata": {
    "ExecuteTime": {
     "end_time": "2025-05-20T13:13:53.371698Z",
     "start_time": "2025-05-20T13:13:53.363876Z"
    }
   },
   "cell_type": "code",
   "source": [
    "print(f\"Offset óptimo encontrado: {offset_optimo}\")\n",
    "print(f\"Porcentaje de aprobados: {score_optimo:.2f}%\")\n",
    "print(f\"Promedio general final: {df_final['Promedio'].mean():.2f}\")"
   ],
   "id": "cf6263f365af67f9",
   "outputs": [
    {
     "name": "stdout",
     "output_type": "stream",
     "text": [
      "Offset óptimo encontrado: 2.0\n",
      "Porcentaje de aprobados: 85.83%\n",
      "Promedio general final: 13.62\n"
     ]
    }
   ],
   "execution_count": 8
  },
  {
   "metadata": {},
   "cell_type": "markdown",
   "source": "## Histograma de notas",
   "id": "cd471e31f4851428"
  },
  {
   "metadata": {
    "ExecuteTime": {
     "end_time": "2025-05-20T13:13:57.358306Z",
     "start_time": "2025-05-20T13:13:57.215817Z"
    }
   },
   "cell_type": "code",
   "source": [
    "plt.hist(df_final['Promedio'], bins=10, edgecolor='black')\n",
    "plt.title(\"Distribución de Promedios con Offset Óptimo\")\n",
    "plt.xlabel(\"Promedio\")\n",
    "plt.ylabel(\"Número de estudiantes\")\n",
    "plt.grid(True)\n",
    "plt.show()"
   ],
   "id": "3c2f10e54fa53b96",
   "outputs": [
    {
     "data": {
      "text/plain": [
       "<Figure size 640x480 with 1 Axes>"
      ],
      "image/png": "[encoded data removed]"
     },
     "metadata": {},
     "output_type": "display_data"
    }
   ],
   "execution_count": 9
  },
  {
   "metadata": {},
   "cell_type": "markdown",
   "source": "## Convergencia",
   "id": "10da9241a0e27178"
  },
  {
   "metadata": {
    "ExecuteTime": {
     "end_time": "2025-05-20T13:14:01.771398Z",
     "start_time": "2025-05-20T13:14:01.693943Z"
    }
   },
   "cell_type": "code",
   "source": [
    "offsets, scores = zip(*historia)\n",
    "plt.plot(offsets, scores, marker='o')\n",
    "plt.title(\"Evolución del fitness (porcentaje de aprobados)\")\n",
    "plt.xlabel(\"Offset\")\n",
    "plt.ylabel(\"Fitness\")\n",
    "plt.grid(True)\n",
    "plt.show()"
   ],
   "id": "2a0a5e74de2bdd7e",
   "outputs": [
    {
     "data": {
      "text/plain": [
       "<Figure size 640x480 with 1 Axes>"
      ],
      "image/png": "[encoded data removed]"
     },
     "metadata": {},
     "output_type": "display_data"
    }
   ],
   "execution_count": 10
  }
 ],
 "metadata": {
  "kernelspec": {
   "display_name": "Python 3",
   "language": "python",
   "name": "python3"
  },
  "language_info": {
   "codemirror_mode": {
    "name": "ipython",
    "version": 2
   },
   "file_extension": ".py",
   "mimetype": "text/x-python",
   "name": "python",
   "nbconvert_exporter": "python",
   "pygments_lexer": "ipython2",
   "version": "2.7.6"
  }
 },
 "nbformat": 4,
 "nbformat_minor": 5
}
