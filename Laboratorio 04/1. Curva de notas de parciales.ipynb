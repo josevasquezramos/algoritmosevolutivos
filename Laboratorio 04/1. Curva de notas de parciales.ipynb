{
 "cells": [
  {
   "metadata": {
    "ExecuteTime": {
     "end_time": "2025-05-19T17:34:51.556868Z",
     "start_time": "2025-05-19T17:34:51.046687Z"
    }
   },
   "cell_type": "code",
   "source": [
    "import pandas as pd\n",
    "import random\n"
   ],
   "id": "4e153490676a1c7a",
   "outputs": [],
   "execution_count": 1
  },
  {
   "metadata": {
    "ExecuteTime": {
     "end_time": "2025-05-19T17:35:05.421981Z",
     "start_time": "2025-05-19T17:35:05.394409Z"
    }
   },
   "cell_type": "code",
   "source": [
    "# Cargar el dataset (ajusta la ruta si es necesario)\n",
    "df = pd.read_csv(\"dataset/grades.csv\")\n",
    "\n",
    "# Mostrar las primeras filas\n",
    "df.head()"
   ],
   "id": "34a5192d88d5cc7b",
   "outputs": [
    {
     "data": {
      "text/plain": [
       "  StudentID  Parcial1  Parcial2  Parcial3\n",
       "0      A001        17        10        18\n",
       "1      A002        10        19        12\n",
       "2      A003         5         5        13\n",
       "3      A004         8         6        13\n",
       "4      A005        16         7        14"
      ],
      "text/html": [
       "<div>\n",
       "<style scoped>\n",
       "    .dataframe tbody tr th:only-of-type {\n",
       "        vertical-align: middle;\n",
       "    }\n",
       "\n",
       "    .dataframe tbody tr th {\n",
       "        vertical-align: top;\n",
       "    }\n",
       "\n",
       "    .dataframe thead th {\n",
       "        text-align: right;\n",
       "    }\n",
       "</style>\n",
       "<table border=\"1\" class=\"dataframe\">\n",
       "  <thead>\n",
       "    <tr style=\"text-align: right;\">\n",
       "      <th></th>\n",
       "      <th>StudentID</th>\n",
       "      <th>Parcial1</th>\n",
       "      <th>Parcial2</th>\n",
       "      <th>Parcial3</th>\n",
       "    </tr>\n",
       "  </thead>\n",
       "  <tbody>\n",
       "    <tr>\n",
       "      <th>0</th>\n",
       "      <td>A001</td>\n",
       "      <td>17</td>\n",
       "      <td>10</td>\n",
       "      <td>18</td>\n",
       "    </tr>\n",
       "    <tr>\n",
       "      <th>1</th>\n",
       "      <td>A002</td>\n",
       "      <td>10</td>\n",
       "      <td>19</td>\n",
       "      <td>12</td>\n",
       "    </tr>\n",
       "    <tr>\n",
       "      <th>2</th>\n",
       "      <td>A003</td>\n",
       "      <td>5</td>\n",
       "      <td>5</td>\n",
       "      <td>13</td>\n",
       "    </tr>\n",
       "    <tr>\n",
       "      <th>3</th>\n",
       "      <td>A004</td>\n",
       "      <td>8</td>\n",
       "      <td>6</td>\n",
       "      <td>13</td>\n",
       "    </tr>\n",
       "    <tr>\n",
       "      <th>4</th>\n",
       "      <td>A005</td>\n",
       "      <td>16</td>\n",
       "      <td>7</td>\n",
       "      <td>14</td>\n",
       "    </tr>\n",
       "  </tbody>\n",
       "</table>\n",
       "</div>"
      ]
     },
     "execution_count": 2,
     "metadata": {},
     "output_type": "execute_result"
    }
   ],
   "execution_count": 2
  },
  {
   "metadata": {
    "ExecuteTime": {
     "end_time": "2025-05-19T17:35:13.808936Z",
     "start_time": "2025-05-19T17:35:13.799117Z"
    }
   },
   "cell_type": "code",
   "source": [
    "def evaluar_offset(df, offset):\n",
    "    # Aplicar el offset\n",
    "    df_offset = df.copy()\n",
    "    parciales = ['Parcial1', 'Parcial2', 'Parcial3']\n",
    "\n",
    "    # Calcular el promedio con offset\n",
    "    df_offset['Final'] = df_offset[parciales].mean(axis=1) + offset\n",
    "\n",
    "    # Porcentaje de aprobados\n",
    "    aprobados = (df_offset['Final'] >= 11).sum()\n",
    "    porcentaje_aprobados = aprobados / len(df_offset)\n",
    "\n",
    "    # Promedio general\n",
    "    promedio_clase = df_offset['Final'].mean()\n",
    "\n",
    "    # Penalización: si el promedio general es mayor a 14, fitness es 0\n",
    "    if promedio_clase > 14:\n",
    "        return 0\n",
    "    else:\n",
    "        return porcentaje_aprobados"
   ],
   "id": "5074a808a9b07a41",
   "outputs": [],
   "execution_count": 3
  },
  {
   "metadata": {
    "ExecuteTime": {
     "end_time": "2025-05-19T17:35:24.789699Z",
     "start_time": "2025-05-19T17:35:24.778828Z"
    }
   },
   "cell_type": "code",
   "source": [
    "def hill_climbing(df, step=0.5, max_iter=100):\n",
    "    current_offset = 0.0\n",
    "    best_score = evaluar_offset(df, current_offset)\n",
    "\n",
    "    for _ in range(max_iter):\n",
    "        # Generar nuevo offset candidato dentro del rango permitido\n",
    "        delta = random.choice([-step, step])\n",
    "        new_offset = current_offset + delta\n",
    "\n",
    "        # Asegurarse de que esté en [-5, 5]\n",
    "        if new_offset < -5 or new_offset > 5:\n",
    "            continue\n",
    "\n",
    "        new_score = evaluar_offset(df, new_offset)\n",
    "\n",
    "        # Si mejora, actualizamos\n",
    "        if new_score > best_score:\n",
    "            current_offset = new_offset\n",
    "            best_score = new_score\n",
    "\n",
    "    return current_offset, best_score\n"
   ],
   "id": "14e2e97c23fae392",
   "outputs": [],
   "execution_count": 4
  },
  {
   "metadata": {
    "ExecuteTime": {
     "end_time": "2025-05-19T17:35:32.530837Z",
     "start_time": "2025-05-19T17:35:32.277914Z"
    }
   },
   "cell_type": "code",
   "source": [
    "offset_optimo, porcentaje = hill_climbing(df)\n",
    "print(f\"Offset óptimo: {offset_optimo:.2f}\")\n",
    "print(f\"Porcentaje de aprobados: {porcentaje * 100:.2f}%\")\n",
    "\n",
    "# Mostrar la nueva distribución de notas\n",
    "df['Final Ajustado'] = df[['Parcial1', 'Parcial2', 'Parcial3']].mean(axis=1) + offset_optimo\n",
    "df['Aprobado'] = df['Final Ajustado'] >= 11\n",
    "df[['StudentID', 'Final Ajustado', 'Aprobado']].head()\n"
   ],
   "id": "3b937ad37628453b",
   "outputs": [
    {
     "name": "stdout",
     "output_type": "stream",
     "text": [
      "Offset óptimo: 2.00\n",
      "Porcentaje de aprobados: 85.83%\n"
     ]
    },
    {
     "data": {
      "text/plain": [
       "  StudentID  Final Ajustado  Aprobado\n",
       "0      A001       17.000000      True\n",
       "1      A002       15.666667      True\n",
       "2      A003        9.666667     False\n",
       "3      A004       11.000000      True\n",
       "4      A005       14.333333      True"
      ],
      "text/html": [
       "<div>\n",
       "<style scoped>\n",
       "    .dataframe tbody tr th:only-of-type {\n",
       "        vertical-align: middle;\n",
       "    }\n",
       "\n",
       "    .dataframe tbody tr th {\n",
       "        vertical-align: top;\n",
       "    }\n",
       "\n",
       "    .dataframe thead th {\n",
       "        text-align: right;\n",
       "    }\n",
       "</style>\n",
       "<table border=\"1\" class=\"dataframe\">\n",
       "  <thead>\n",
       "    <tr style=\"text-align: right;\">\n",
       "      <th></th>\n",
       "      <th>StudentID</th>\n",
       "      <th>Final Ajustado</th>\n",
       "      <th>Aprobado</th>\n",
       "    </tr>\n",
       "  </thead>\n",
       "  <tbody>\n",
       "    <tr>\n",
       "      <th>0</th>\n",
       "      <td>A001</td>\n",
       "      <td>17.000000</td>\n",
       "      <td>True</td>\n",
       "    </tr>\n",
       "    <tr>\n",
       "      <th>1</th>\n",
       "      <td>A002</td>\n",
       "      <td>15.666667</td>\n",
       "      <td>True</td>\n",
       "    </tr>\n",
       "    <tr>\n",
       "      <th>2</th>\n",
       "      <td>A003</td>\n",
       "      <td>9.666667</td>\n",
       "      <td>False</td>\n",
       "    </tr>\n",
       "    <tr>\n",
       "      <th>3</th>\n",
       "      <td>A004</td>\n",
       "      <td>11.000000</td>\n",
       "      <td>True</td>\n",
       "    </tr>\n",
       "    <tr>\n",
       "      <th>4</th>\n",
       "      <td>A005</td>\n",
       "      <td>14.333333</td>\n",
       "      <td>True</td>\n",
       "    </tr>\n",
       "  </tbody>\n",
       "</table>\n",
       "</div>"
      ]
     },
     "execution_count": 5,
     "metadata": {},
     "output_type": "execute_result"
    }
   ],
   "execution_count": 5
  },
  {
   "metadata": {},
   "cell_type": "code",
   "outputs": [],
   "execution_count": null,
   "source": "",
   "id": "70bb01ac5c17a412"
  }
 ],
 "metadata": {
  "kernelspec": {
   "display_name": "Python 3",
   "language": "python",
   "name": "python3"
  },
  "language_info": {
   "codemirror_mode": {
    "name": "ipython",
    "version": 2
   },
   "file_extension": ".py",
   "mimetype": "text/x-python",
   "name": "python",
   "nbconvert_exporter": "python",
   "pygments_lexer": "ipython2",
   "version": "2.7.6"
  }
 },
 "nbformat": 4,
 "nbformat_minor": 5
}
