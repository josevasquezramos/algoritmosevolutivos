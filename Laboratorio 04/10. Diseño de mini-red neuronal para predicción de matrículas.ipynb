{
 "cells": [
  {
   "metadata": {},
   "cell_type": "markdown",
   "source": [
    "# Diseño de mini-red neuronal para predicción de matrículas\n",
    "\n",
    "**Alumno:** VASQUEZ RAMOS, Jose Manuel\n",
    "\n",
    "**Fecha:** 20/05/2025\n",
    "\n",
    "___"
   ],
   "id": "ffe48acfc657649e"
  },
  {
   "metadata": {},
   "cell_type": "markdown",
   "source": [
    "## Contexto académico & objetivo\n",
    "\n",
    "Maximiza exactitud en clasificación (Alta-Media-Baja) evolutivamente variando nº capas (1-3), neuronas y tasa de aprendizaje.\n",
    "\n",
    "## Indicaciones clave\n",
    "\n",
    "1) Genotipo mixto (enteros + float).\n",
    "2) Usa mutación e hill climbing local (pequeños ajustes).\n",
    "3) Limita epochs = 20.\n",
    "4) Muestra arquitectura final y accuracy.\n"
   ],
   "id": "c2ff3378e1bf75e"
  },
  {
   "metadata": {},
   "cell_type": "markdown",
   "source": "## Librerías",
   "id": "4d0d4d0987e0a0ac"
  },
  {
   "metadata": {
    "ExecuteTime": {
     "end_time": "2025-05-20T21:20:28.707191Z",
     "start_time": "2025-05-20T21:20:27.863611Z"
    }
   },
   "cell_type": "code",
   "source": [
    "import numpy as np\n",
    "import pandas as pd\n",
    "import random\n",
    "from deap import base, creator, tools, algorithms\n",
    "from sklearn.neural_network import MLPClassifier\n",
    "from sklearn.preprocessing import StandardScaler\n",
    "from sklearn.model_selection import train_test_split\n",
    "from sklearn.metrics import accuracy_score"
   ],
   "id": "19623fae460a85db",
   "outputs": [],
   "execution_count": 1
  },
  {
   "metadata": {},
   "cell_type": "markdown",
   "source": "## Semilla para reproducibilidad",
   "id": "7613882ce140c31e"
  },
  {
   "metadata": {
    "ExecuteTime": {
     "end_time": "2025-05-20T21:20:29.984230Z",
     "start_time": "2025-05-20T21:20:29.976907Z"
    }
   },
   "cell_type": "code",
   "source": [
    "random.seed(42)\n",
    "np.random.seed(42)"
   ],
   "id": "948298c1f0ec8ffc",
   "outputs": [],
   "execution_count": 2
  },
  {
   "metadata": {},
   "cell_type": "markdown",
   "source": "## Dataset",
   "id": "46f4e3e4061d41ae"
  },
  {
   "metadata": {
    "ExecuteTime": {
     "end_time": "2025-05-20T21:20:30.946660Z",
     "start_time": "2025-05-20T21:20:30.922748Z"
    }
   },
   "cell_type": "code",
   "source": [
    "# Cargar el dataset\n",
    "data = pd.read_csv('dataset/enrollments.csv')\n",
    "X = data[['Credits', 'Prev_GPA', 'Extracurricular_hours']].values\n",
    "y = data['Category'].apply(lambda x: 0 if x == 'Baja' else (1 if x == 'Media' else 2)).values\n",
    "\n",
    "# Normalizar los datos\n",
    "scaler = StandardScaler()\n",
    "X = scaler.fit_transform(X)\n",
    "\n",
    "# Dividir en entrenamiento y prueba\n",
    "X_train, X_test, y_train, y_test = train_test_split(X, y, test_size=0.2, random_state=42)"
   ],
   "id": "1d34eeddf3421e16",
   "outputs": [],
   "execution_count": 3
  },
  {
   "metadata": {},
   "cell_type": "markdown",
   "source": "## Definición del Problema y Representación",
   "id": "f7f9fc97fe03b3aa"
  },
  {
   "metadata": {
    "ExecuteTime": {
     "end_time": "2025-05-20T21:20:32.303853Z",
     "start_time": "2025-05-20T21:20:32.292810Z"
    }
   },
   "cell_type": "code",
   "source": [
    "# Definir los tipos de individuos en DEAP\n",
    "creator.create(\"FitnessMax\", base.Fitness, weights=(1.0,))\n",
    "creator.create(\"Individual\", list, fitness=creator.FitnessMax)\n",
    "\n",
    "# Parámetros del problema\n",
    "MIN_LAYERS = 1\n",
    "MAX_LAYERS = 3\n",
    "MIN_NEURONS = 1\n",
    "MAX_NEURONS = 100\n",
    "MIN_LR = 0.0001\n",
    "MAX_LR = 0.1\n",
    "\n",
    "toolbox = base.Toolbox()\n",
    "\n",
    "# Registro de componentes genéticos\n",
    "# Capas ocultas (entero)\n",
    "toolbox.register(\"attr_layers\", random.randint, MIN_LAYERS, MAX_LAYERS)\n",
    "# Neuronas por capa (lista de enteros)\n",
    "toolbox.register(\"attr_neurons\", random.randint, MIN_NEURONS, MAX_NEURONS)\n",
    "# Tasa de aprendizaje (float)\n",
    "toolbox.register(\"attr_lr\", random.uniform, MIN_LR, MAX_LR)\n",
    "\n",
    "def create_individual():\n",
    "    # Crear un individuo con estructura mixta\n",
    "    layers = toolbox.attr_layers()\n",
    "    neurons = [toolbox.attr_neurons() for _ in range(layers)]\n",
    "    lr = toolbox.attr_lr()\n",
    "    return creator.Individual([layers, neurons, lr])\n",
    "\n",
    "toolbox.register(\"individual\", tools.initIterate, creator.Individual, create_individual)\n",
    "toolbox.register(\"population\", tools.initRepeat, list, toolbox.individual)"
   ],
   "id": "a40e8c9495095ae7",
   "outputs": [],
   "execution_count": 4
  },
  {
   "metadata": {},
   "cell_type": "markdown",
   "source": "## Función de Evaluación (Fitness)",
   "id": "beb6b25403a5644a"
  },
  {
   "metadata": {
    "ExecuteTime": {
     "end_time": "2025-05-20T21:20:33.376916Z",
     "start_time": "2025-05-20T21:20:33.367783Z"
    }
   },
   "cell_type": "code",
   "source": [
    "import warnings\n",
    "from sklearn.exceptions import ConvergenceWarning\n",
    "\n",
    "# Suprimir warnings de convergencia (opcional)\n",
    "warnings.filterwarnings(\"ignore\", category=ConvergenceWarning)\n",
    "\n",
    "# Modificar la función evaluate para usar parámetros más adecuados para pocas iteraciones\n",
    "def evaluate(individual):\n",
    "    layers, neurons, lr = individual\n",
    "\n",
    "    # Construir arquitectura, asegurando al menos 1 neurona por capa\n",
    "    neurons = [max(1, n) for n in neurons]  # Asegurar mínimo 1 neurona\n",
    "    hidden_layer_sizes = tuple(neurons[:layers])\n",
    "\n",
    "    try:\n",
    "        # Configurar MLP con parámetros para pocas iteraciones\n",
    "        mlp = MLPClassifier(\n",
    "            hidden_layer_sizes=hidden_layer_sizes,\n",
    "            learning_rate_init=lr,\n",
    "            max_iter=20,  # Exactamente como pide el ejercicio\n",
    "            solver='adam',  # Buen default\n",
    "            early_stopping=True,  # Para evitar sobreentrenamiento con pocas iteraciones\n",
    "            validation_fraction=0.2,  # 20% para validación temprana\n",
    "            random_state=42,\n",
    "            n_iter_no_change=5  # Detener si no mejora en 5 iteraciones\n",
    "        )\n",
    "\n",
    "        mlp.fit(X_train, y_train)\n",
    "        y_pred = mlp.predict(X_test)\n",
    "        accuracy = accuracy_score(y_test, y_pred)\n",
    "\n",
    "        return (accuracy,)\n",
    "    except Exception as e:\n",
    "        # En caso de error, retornar fitness mínimo\n",
    "        print(f\"Error con individuo {individual}: {str(e)}\")\n",
    "        return (0.0,)\n",
    "\n",
    "toolbox.register(\"evaluate\", evaluate)"
   ],
   "id": "e0b3e61bc70c1c06",
   "outputs": [],
   "execution_count": 5
  },
  {
   "metadata": {},
   "cell_type": "markdown",
   "source": "## Operadores Genéticos",
   "id": "8357f355d8008743"
  },
  {
   "metadata": {
    "ExecuteTime": {
     "end_time": "2025-05-20T21:20:34.669662Z",
     "start_time": "2025-05-20T21:20:34.656820Z"
    }
   },
   "cell_type": "code",
   "source": [
    "# Operador de cruce personalizado para estructura mixta\n",
    "def cxMixed(ind1, ind2):\n",
    "    # Cruce para el número de capas\n",
    "    if random.random() < 0.5:\n",
    "        ind1[0], ind2[0] = ind2[0], ind1[0]\n",
    "\n",
    "    # Cruce para las neuronas por capa\n",
    "    min_layers = min(ind1[0], ind2[0])\n",
    "    for i in range(min_layers):\n",
    "        if random.random() < 0.5:\n",
    "            ind1[1][i], ind2[1][i] = ind2[1][i], ind1[1][i]\n",
    "\n",
    "    # Cruce para la tasa de aprendizaje\n",
    "    if random.random() < 0.5:\n",
    "        ind1[2], ind2[2] = ind2[2], ind1[2]\n",
    "\n",
    "    return ind1, ind2\n",
    "\n",
    "# Operador de mutación personalizado\n",
    "def mutMixed(individual, indpb):\n",
    "    # Mutación del número de capas\n",
    "    if random.random() < indpb:\n",
    "        individual[0] = random.randint(MIN_LAYERS, MAX_LAYERS)\n",
    "\n",
    "    # Mutación del número de neuronas por capa\n",
    "    for i in range(len(individual[1])):\n",
    "        if random.random() < indpb:\n",
    "            individual[1][i] = random.randint(MIN_NEURONS, MAX_NEURONS)\n",
    "\n",
    "    # Mutación de la tasa de aprendizaje\n",
    "    if random.random() < indpb:\n",
    "        individual[2] = random.uniform(MIN_LR, MAX_LR)\n",
    "\n",
    "    return individual,\n",
    "\n",
    "# Operador de Hill Climbing local\n",
    "def hillClimbing(individual, max_tries=5):\n",
    "    best_ind = toolbox.clone(individual)\n",
    "    best_fit = toolbox.evaluate(best_ind)[0]\n",
    "\n",
    "    for _ in range(max_tries):\n",
    "        # Crear vecino con pequeñas modificaciones\n",
    "        neighbor = toolbox.clone(best_ind)\n",
    "\n",
    "        # Modificar número de capas (con límites)\n",
    "        if random.random() < 0.3:\n",
    "            neighbor[0] = min(MAX_LAYERS, max(MIN_LAYERS, neighbor[0] + random.choice([-1, 1])))\n",
    "\n",
    "        # Modificar neuronas en cada capa\n",
    "        for i in range(len(neighbor[1])):\n",
    "            if random.random() < 0.3:\n",
    "                neighbor[1][i] = min(MAX_NEURONS, max(MIN_NEURONS, neighbor[1][i] + random.choice([-5, -1, 1, 5])))\n",
    "\n",
    "        # Modificar tasa de aprendizaje\n",
    "        if random.random() < 0.3:\n",
    "            neighbor[2] = min(MAX_LR, max(MIN_LR, neighbor[2] * random.uniform(0.9, 1.1)))\n",
    "\n",
    "        # Evaluar vecino\n",
    "        neighbor_fit = toolbox.evaluate(neighbor)[0]\n",
    "\n",
    "        # Actualizar si es mejor\n",
    "        if neighbor_fit > best_fit:\n",
    "            best_ind, best_fit = neighbor, neighbor_fit\n",
    "\n",
    "    return best_ind\n",
    "\n",
    "toolbox.register(\"mate\", cxMixed)\n",
    "toolbox.register(\"mutate\", mutMixed, indpb=0.2)\n",
    "toolbox.register(\"hill_climb\", hillClimbing)\n",
    "toolbox.register(\"select\", tools.selTournament, tournsize=3)"
   ],
   "id": "83296e413b5bf445",
   "outputs": [],
   "execution_count": 6
  },
  {
   "metadata": {},
   "cell_type": "markdown",
   "source": "## Algoritmo Evolutivo con Hill Climbing",
   "id": "12d77611b48b9505"
  },
  {
   "metadata": {
    "ExecuteTime": {
     "end_time": "2025-05-20T21:20:35.805267Z",
     "start_time": "2025-05-20T21:20:35.792793Z"
    }
   },
   "cell_type": "code",
   "source": [
    "def evolutionary_algorithm(pop_size=20, n_gen=10, cx_prob=0.7, mut_prob=0.3):\n",
    "    # Crear población inicial\n",
    "    pop = toolbox.population(n=pop_size)\n",
    "\n",
    "    # Evaluar toda la población\n",
    "    fitnesses = list(map(toolbox.evaluate, pop))\n",
    "    for ind, fit in zip(pop, fitnesses):\n",
    "        ind.fitness.values = fit\n",
    "\n",
    "    # Registrar estadísticas\n",
    "    stats = tools.Statistics(lambda ind: ind.fitness.values[0])\n",
    "    stats.register(\"avg\", np.mean)\n",
    "    stats.register(\"min\", np.min)\n",
    "    stats.register(\"max\", np.max)\n",
    "\n",
    "    logbook = tools.Logbook()\n",
    "    logbook.header = [\"gen\", \"nevals\"] + stats.fields\n",
    "\n",
    "    # Bucle evolutivo\n",
    "    for gen in range(n_gen):\n",
    "        # Seleccionar la próxima generación\n",
    "        offspring = toolbox.select(pop, len(pop))\n",
    "        offspring = list(map(toolbox.clone, offspring))\n",
    "\n",
    "        # Aplicar operadores genéticos\n",
    "        for child1, child2 in zip(offspring[::2], offspring[1::2]):\n",
    "            if random.random() < cx_prob:\n",
    "                toolbox.mate(child1, child2)\n",
    "                del child1.fitness.values\n",
    "                del child2.fitness.values\n",
    "\n",
    "        for mutant in offspring:\n",
    "            if random.random() < mut_prob:\n",
    "                toolbox.mutate(mutant)\n",
    "                del mutant.fitness.values\n",
    "\n",
    "        # Aplicar Hill Climbing a algunos individuos\n",
    "        for i in range(len(offspring)):\n",
    "            if random.random() < 0.3:  # Probabilidad de aplicar HC\n",
    "                offspring[i] = toolbox.hill_climb(offspring[i])\n",
    "                del offspring[i].fitness.values\n",
    "\n",
    "        # Evaluar individuos con fitness inválido\n",
    "        invalid_ind = [ind for ind in offspring if not ind.fitness.valid]\n",
    "        fitnesses = map(toolbox.evaluate, invalid_ind)\n",
    "        for ind, fit in zip(invalid_ind, fitnesses):\n",
    "            ind.fitness.values = fit\n",
    "\n",
    "        # Reemplazar población\n",
    "        pop[:] = offspring\n",
    "\n",
    "        # Registrar estadísticas\n",
    "        record = stats.compile(pop)\n",
    "        logbook.record(gen=gen, nevals=len(invalid_ind), **record)\n",
    "        print(logbook.stream)\n",
    "\n",
    "    return pop, logbook"
   ],
   "id": "55c5365a84c22d28",
   "outputs": [],
   "execution_count": 7
  },
  {
   "metadata": {},
   "cell_type": "markdown",
   "source": "## Ejecución y Resultados",
   "id": "35e48569c0388509"
  },
  {
   "metadata": {
    "ExecuteTime": {
     "end_time": "2025-05-20T21:20:39.971819Z",
     "start_time": "2025-05-20T21:20:37.052717Z"
    }
   },
   "cell_type": "code",
   "source": [
    "# Ejecutar el algoritmo\n",
    "population, log = evolutionary_algorithm(pop_size=20, n_gen=10)\n",
    "\n",
    "# Obtener el mejor individuo\n",
    "best_ind = tools.selBest(population, k=1)[0]\n",
    "layers, neurons, lr = best_ind\n",
    "accuracy = best_ind.fitness.values[0]\n",
    "\n",
    "# Mostrar resultados\n",
    "print(\"\\nMejor arquitectura encontrada:\")\n",
    "print(f\"Número de capas ocultas: {layers}\")\n",
    "print(f\"Neuronas por capa: {neurons[:layers]}\")\n",
    "print(f\"Tasa de aprendizaje: {lr:.6f}\")\n",
    "print(f\"Precisión en prueba: {accuracy*100:.2f}%\")\n",
    "\n",
    "# Entrenar y mostrar el modelo final\n",
    "final_mlp = MLPClassifier(\n",
    "    hidden_layer_sizes=tuple(neurons[:layers]),\n",
    "    learning_rate_init=lr,\n",
    "    max_iter=20,\n",
    "    random_state=42\n",
    ")\n",
    "final_mlp.fit(X_train, y_train)\n",
    "\n",
    "# Precisión final\n",
    "y_pred = final_mlp.predict(X_test)\n",
    "final_accuracy = accuracy_score(y_test, y_pred)\n",
    "print(f\"\\nPrecisión final en conjunto de prueba: {final_accuracy*100:.2f}%\")"
   ],
   "id": "5ffa2f2b4e767b2b",
   "outputs": [
    {
     "name": "stdout",
     "output_type": "stream",
     "text": [
      "gen\tnevals\tavg     \tmin     \tmax     \n",
      "0  \t17    \t0.364583\t0.333333\t0.416667\n",
      "1  \t18    \t0.358333\t0.291667\t0.416667\n",
      "2  \t18    \t0.40625 \t0.333333\t0.416667\n",
      "3  \t14    \t0.4     \t0.291667\t0.416667\n",
      "4  \t18    \t0.404167\t0.333333\t0.458333\n",
      "5  \t17    \t0.416667\t0.333333\t0.458333\n",
      "6  \t16    \t0.439583\t0.416667\t0.458333\n",
      "7  \t15    \t0.45625 \t0.416667\t0.5     \n",
      "8  \t18    \t0.439583\t0.208333\t0.5     \n",
      "9  \t17    \t0.458333\t0.333333\t0.5     \n",
      "\n",
      "Mejor arquitectura encontrada:\n",
      "Número de capas ocultas: 1\n",
      "Neuronas por capa: [49]\n",
      "Tasa de aprendizaje: 0.007417\n",
      "Precisión en prueba: 50.00%\n",
      "\n",
      "Precisión final en conjunto de prueba: 25.00%\n"
     ]
    }
   ],
   "execution_count": 8
  },
  {
   "metadata": {},
   "cell_type": "markdown",
   "source": "## Visualización de la Convergencia",
   "id": "6cf83a448e451bb7"
  },
  {
   "metadata": {
    "ExecuteTime": {
     "end_time": "2025-05-20T21:20:41.818351Z",
     "start_time": "2025-05-20T21:20:41.358237Z"
    }
   },
   "cell_type": "code",
   "source": [
    "import matplotlib.pyplot as plt\n",
    "\n",
    "gen = log.select(\"gen\")\n",
    "avg = log.select(\"avg\")\n",
    "max_ = log.select(\"max\")\n",
    "\n",
    "plt.figure(figsize=(10, 6))\n",
    "plt.plot(gen, avg, label=\"Promedio\")\n",
    "plt.plot(gen, max_, label=\"Máximo\")\n",
    "plt.xlabel(\"Generación\")\n",
    "plt.ylabel(\"Fitness (Precisión)\")\n",
    "plt.title(\"Convergencia del Algoritmo Evolutivo\")\n",
    "plt.legend()\n",
    "plt.grid()\n",
    "plt.show()"
   ],
   "id": "747b23a3ee4aa29",
   "outputs": [
    {
     "data": {
      "text/plain": [
       "<Figure size 1000x600 with 1 Axes>"
      ],
      "image/png": "[encoded data removed]"
     },
     "metadata": {},
     "output_type": "display_data"
    }
   ],
   "execution_count": 9
  }
 ],
 "metadata": {
  "kernelspec": {
   "display_name": "Python 3",
   "language": "python",
   "name": "python3"
  },
  "language_info": {
   "codemirror_mode": {
    "name": "ipython",
    "version": 2
   },
   "file_extension": ".py",
   "mimetype": "text/x-python",
   "name": "python",
   "nbconvert_exporter": "python",
   "pygments_lexer": "ipython2",
   "version": "2.7.6"
  }
 },
 "nbformat": 4,
 "nbformat_minor": 5
}
