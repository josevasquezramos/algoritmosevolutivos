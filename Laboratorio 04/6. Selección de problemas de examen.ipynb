{
 "cells": [
  {
   "metadata": {},
   "cell_type": "markdown",
   "source": [
    "# Selección de problemas de examen\n",
    "\n",
    "**Alumno:** VASQUEZ RAMOS, Jose Manuel\n",
    "\n",
    "**Fecha:** 20/05/2025\n",
    "\n",
    "___"
   ],
   "id": "da3c08b37b294467"
  },
  {
   "metadata": {},
   "cell_type": "markdown",
   "source": [
    "## Contexto académico & objetivo\n",
    "\n",
    "Hay 30 preguntas con dificultad y tiempo estimado (min). El examen dura 90 min y debe tener dificultad total entre 180-200.\n",
    "\n",
    "## Indicaciones clave\n",
    "\n",
    "Hill climbing sobre subconjuntos (bitstring)."
   ],
   "id": "fc873687e92fffa1"
  },
  {
   "metadata": {},
   "cell_type": "markdown",
   "source": "## Librerías",
   "id": "a1b8b9a9ddeedaf4"
  },
  {
   "cell_type": "code",
   "id": "initial_id",
   "metadata": {
    "collapsed": true,
    "ExecuteTime": {
     "end_time": "2025-05-20T20:08:03.788061Z",
     "start_time": "2025-05-20T20:08:03.453621Z"
    }
   },
   "source": [
    "import numpy as np\n",
    "import pandas as pd\n",
    "import random"
   ],
   "outputs": [],
   "execution_count": 1
  },
  {
   "metadata": {},
   "cell_type": "markdown",
   "source": "## Dataset",
   "id": "7a4af2abcb5a4f2e"
  },
  {
   "metadata": {
    "ExecuteTime": {
     "end_time": "2025-05-20T20:08:04.451961Z",
     "start_time": "2025-05-20T20:08:04.433875Z"
    }
   },
   "cell_type": "code",
   "source": [
    "df = pd.read_csv(\"dataset/examQuestions.csv\")\n",
    "n_questions = len(df)\n",
    "\n",
    "df.head()"
   ],
   "id": "ccf769de21ea64a3",
   "outputs": [
    {
     "data": {
      "text/plain": [
       "  QuestionID  Difficulty  Time_min\n",
       "0         Q1          60        20\n",
       "1         Q2          40        15\n",
       "2         Q3          60        15\n",
       "3         Q4          70        15\n",
       "4         Q5          40        15"
      ],
      "text/html": [
       "<div>\n",
       "<style scoped>\n",
       "    .dataframe tbody tr th:only-of-type {\n",
       "        vertical-align: middle;\n",
       "    }\n",
       "\n",
       "    .dataframe tbody tr th {\n",
       "        vertical-align: top;\n",
       "    }\n",
       "\n",
       "    .dataframe thead th {\n",
       "        text-align: right;\n",
       "    }\n",
       "</style>\n",
       "<table border=\"1\" class=\"dataframe\">\n",
       "  <thead>\n",
       "    <tr style=\"text-align: right;\">\n",
       "      <th></th>\n",
       "      <th>QuestionID</th>\n",
       "      <th>Difficulty</th>\n",
       "      <th>Time_min</th>\n",
       "    </tr>\n",
       "  </thead>\n",
       "  <tbody>\n",
       "    <tr>\n",
       "      <th>0</th>\n",
       "      <td>Q1</td>\n",
       "      <td>60</td>\n",
       "      <td>20</td>\n",
       "    </tr>\n",
       "    <tr>\n",
       "      <th>1</th>\n",
       "      <td>Q2</td>\n",
       "      <td>40</td>\n",
       "      <td>15</td>\n",
       "    </tr>\n",
       "    <tr>\n",
       "      <th>2</th>\n",
       "      <td>Q3</td>\n",
       "      <td>60</td>\n",
       "      <td>15</td>\n",
       "    </tr>\n",
       "    <tr>\n",
       "      <th>3</th>\n",
       "      <td>Q4</td>\n",
       "      <td>70</td>\n",
       "      <td>15</td>\n",
       "    </tr>\n",
       "    <tr>\n",
       "      <th>4</th>\n",
       "      <td>Q5</td>\n",
       "      <td>40</td>\n",
       "      <td>15</td>\n",
       "    </tr>\n",
       "  </tbody>\n",
       "</table>\n",
       "</div>"
      ]
     },
     "execution_count": 2,
     "metadata": {},
     "output_type": "execute_result"
    }
   ],
   "execution_count": 2
  },
  {
   "metadata": {},
   "cell_type": "markdown",
   "source": "## Control de aleatoriedad",
   "id": "1581554d57bf134d"
  },
  {
   "metadata": {
    "ExecuteTime": {
     "end_time": "2025-05-20T20:08:05.104143Z",
     "start_time": "2025-05-20T20:08:05.093737Z"
    }
   },
   "cell_type": "code",
   "source": [
    "np.random.seed(42)\n",
    "random.seed(42)"
   ],
   "id": "e66cda5940e57e1c",
   "outputs": [],
   "execution_count": 3
  },
  {
   "metadata": {},
   "cell_type": "markdown",
   "source": "## Funciones",
   "id": "aa2f56df968e2810"
  },
  {
   "metadata": {},
   "cell_type": "markdown",
   "source": "Función de evaluación (fitness)",
   "id": "4ee8409b7a64e48f"
  },
  {
   "metadata": {
    "ExecuteTime": {
     "end_time": "2025-05-20T20:08:05.625067Z",
     "start_time": "2025-05-20T20:08:05.618026Z"
    }
   },
   "cell_type": "code",
   "source": [
    "def evaluate(solution, difficulty_range=(180, 200), time_limit=90):\n",
    "    total_difficulty = np.sum(df['Difficulty'][solution == 1])\n",
    "    total_time = np.sum(df['Time_min'][solution == 1])\n",
    "\n",
    "    if total_time > time_limit:\n",
    "        return -1  # Penalización fuerte por pasarse del tiempo\n",
    "    if not (difficulty_range[0] <= total_difficulty <= difficulty_range[1]):\n",
    "        return -1  # Penalización por no cumplir rango de dificultad\n",
    "\n",
    "    # Fitness puede ser simplemente el total_difficulty (cuanto más cerca de 200, mejor)\n",
    "    return total_difficulty"
   ],
   "id": "a414d2d3bbcfafb7",
   "outputs": [],
   "execution_count": 4
  },
  {
   "metadata": {},
   "cell_type": "markdown",
   "source": "Generar vecinos",
   "id": "8340b76824d0efb9"
  },
  {
   "metadata": {
    "ExecuteTime": {
     "end_time": "2025-05-20T20:08:06.057821Z",
     "start_time": "2025-05-20T20:08:06.053768Z"
    }
   },
   "cell_type": "code",
   "source": [
    "def get_neighbors(current):\n",
    "    neighbors = []\n",
    "    for i in range(len(current)):\n",
    "        neighbor = current.copy()\n",
    "        neighbor[i] = 1 - neighbor[i]  # flip bit\n",
    "        neighbors.append(neighbor)\n",
    "    return neighbors"
   ],
   "id": "60ee87582dcfd8d5",
   "outputs": [],
   "execution_count": 5
  },
  {
   "metadata": {},
   "cell_type": "markdown",
   "source": "Hill Climbing principal",
   "id": "19586d63cec0dd7a"
  },
  {
   "metadata": {
    "ExecuteTime": {
     "end_time": "2025-05-20T20:08:06.514469Z",
     "start_time": "2025-05-20T20:08:06.505824Z"
    }
   },
   "cell_type": "code",
   "source": [
    "def hill_climb(iterations=1000):\n",
    "    current = np.random.randint(0, 2, size=n_questions)\n",
    "    current_fitness = evaluate(current)\n",
    "    history = [current_fitness]\n",
    "\n",
    "    for _ in range(iterations):\n",
    "        neighbors = get_neighbors(current)\n",
    "        best_neighbor = current\n",
    "        best_fitness = current_fitness\n",
    "\n",
    "        for neighbor in neighbors:\n",
    "            fitness = evaluate(np.array(neighbor))\n",
    "            if fitness > best_fitness:\n",
    "                best_neighbor = np.array(neighbor)\n",
    "                best_fitness = fitness\n",
    "\n",
    "        if best_fitness == current_fitness:\n",
    "            break  # No mejora → alcanzamos óptimo local\n",
    "\n",
    "        current = best_neighbor\n",
    "        current_fitness = best_fitness\n",
    "        history.append(current_fitness)\n",
    "\n",
    "    return current, current_fitness, history"
   ],
   "id": "e1ce97b626e076bb",
   "outputs": [],
   "execution_count": 6
  },
  {
   "metadata": {},
   "cell_type": "markdown",
   "source": "## Ejecución",
   "id": "af9ac77e356a6a8f"
  },
  {
   "metadata": {
    "ExecuteTime": {
     "end_time": "2025-05-20T20:08:07.008604Z",
     "start_time": "2025-05-20T20:08:06.995291Z"
    }
   },
   "cell_type": "code",
   "source": [
    "solution, final_score, fitness_history = hill_climb(500)\n",
    "\n",
    "print(\"Mejor Fitness:\", final_score)\n",
    "print(\"Preguntas seleccionadas:\", np.where(solution == 1)[0])\n",
    "print(\"Tiempo total:\", np.sum(df['Time_min'][solution == 1]))\n",
    "print(\"Dificultad total:\", np.sum(df['Difficulty'][solution == 1]))"
   ],
   "id": "9bfee6f0af76e732",
   "outputs": [
    {
     "name": "stdout",
     "output_type": "stream",
     "text": [
      "Mejor Fitness: -1\n",
      "Preguntas seleccionadas: [ 1  5  9 14 16 17 18 20 22 23 24 25 26 27 28 29]\n",
      "Tiempo total: 325\n",
      "Dificultad total: 960\n"
     ]
    }
   ],
   "execution_count": 7
  }
 ],
 "metadata": {
  "kernelspec": {
   "display_name": "Python 3",
   "language": "python",
   "name": "python3"
  },
  "language_info": {
   "codemirror_mode": {
    "name": "ipython",
    "version": 2
   },
   "file_extension": ".py",
   "mimetype": "text/x-python",
   "name": "python",
   "nbconvert_exporter": "python",
   "pygments_lexer": "ipython2",
   "version": "2.7.6"
  }
 },
 "nbformat": 4,
 "nbformat_minor": 5
}
