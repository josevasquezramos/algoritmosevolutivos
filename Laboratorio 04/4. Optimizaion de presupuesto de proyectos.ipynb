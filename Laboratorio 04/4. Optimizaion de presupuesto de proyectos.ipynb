{
 "cells": [
  {
   "cell_type": "code",
   "id": "initial_id",
   "metadata": {
    "collapsed": true,
    "ExecuteTime": {
     "end_time": "2025-05-19T18:10:43.956308Z",
     "start_time": "2025-05-19T18:10:43.933154Z"
    }
   },
   "source": [
    "import pandas as pd\n",
    "import random\n",
    "\n",
    "# Leer datos desde el archivo CSV\n",
    "df = pd.read_csv('dataset/projects.csv')\n",
    "projects = df.to_dict('records')  # Convertir a lista de diccionarios\n",
    "budget = 10000\n",
    "\n",
    "def fitness(solution):\n",
    "    total_cost = 0\n",
    "    total_benefit = 0\n",
    "    for i in range(len(solution)):\n",
    "        if solution[i] == '1':\n",
    "            total_cost += projects[i][\"Cost_Soles\"]\n",
    "            total_benefit += projects[i][\"Benefit_Soles\"]\n",
    "\n",
    "    if total_cost <= budget:\n",
    "        return total_benefit\n",
    "    else:\n",
    "        return float('-inf')\n",
    "\n",
    "def get_neighbor(solution):\n",
    "    index = random.randint(0, len(solution)-1)\n",
    "    neighbor = list(solution)\n",
    "    neighbor[index] = '1' if neighbor[index] == '0' else '0'\n",
    "    return ''.join(neighbor)\n",
    "\n",
    "def hill_climbing(max_iter=1000):\n",
    "    # Generar solución inicial aleatoria\n",
    "    current_solution = ''.join(random.choice(['0', '1']) for _ in range(len(projects)))\n",
    "    current_fitness = fitness(current_solution)\n",
    "\n",
    "    for _ in range(max_iter):\n",
    "        neighbor = get_neighbor(current_solution)\n",
    "        neighbor_fitness = fitness(neighbor)\n",
    "\n",
    "        if neighbor_fitness > current_fitness:\n",
    "            current_solution = neighbor\n",
    "            current_fitness = neighbor_fitness\n",
    "\n",
    "    return current_solution, current_fitness\n",
    "\n",
    "# Ejecutar el algoritmo\n",
    "best_solution, best_benefit = hill_climbing()\n",
    "\n",
    "# Mostrar resultados\n",
    "selected_projects = []\n",
    "total_cost = 0\n",
    "for i in range(len(best_solution)):\n",
    "    if best_solution[i] == '1':\n",
    "        selected_projects.append(projects[i][\"ProjectID\"])\n",
    "        total_cost += projects[i][\"Cost_Soles\"]\n",
    "\n",
    "print(\"Proyectos seleccionados:\", selected_projects)\n",
    "print(\"Costo total:\", total_cost, \"soles\")\n",
    "print(\"Beneficio total:\", best_benefit, \"soles\")"
   ],
   "outputs": [
    {
     "name": "stdout",
     "output_type": "stream",
     "text": [
      "Proyectos seleccionados: ['P1', 'P4', 'P5', 'P7', 'P8']\n",
      "Costo total: 20660 soles\n",
      "Beneficio total: -inf soles\n"
     ]
    }
   ],
   "execution_count": 3
  },
  {
   "metadata": {},
   "cell_type": "code",
   "outputs": [],
   "execution_count": null,
   "source": "",
   "id": "6894fa9164745006"
  }
 ],
 "metadata": {
  "kernelspec": {
   "display_name": "Python 3",
   "language": "python",
   "name": "python3"
  },
  "language_info": {
   "codemirror_mode": {
    "name": "ipython",
    "version": 2
   },
   "file_extension": ".py",
   "mimetype": "text/x-python",
   "name": "python",
   "nbconvert_exporter": "python",
   "pygments_lexer": "ipython2",
   "version": "2.7.6"
  }
 },
 "nbformat": 4,
 "nbformat_minor": 5
}
