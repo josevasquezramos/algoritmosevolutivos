{
 "cells": [
  {
   "metadata": {},
   "cell_type": "markdown",
   "source": [
    "# Optimización de presupuestos de proyectos\n",
    "\n",
    "**Alumno:** VASQUEZ RAMOS, Jose Manuel\n",
    "\n",
    "**Fecha:** 20/05/2025\n",
    "\n",
    "___"
   ],
   "id": "2d04984052708ce3"
  },
  {
   "metadata": {},
   "cell_type": "markdown",
   "source": [
    "## Contexto académico & objetivo\n",
    "\n",
    "Optimización de presupuesto de proyectos: Tienes 8 proyectos estudiantiles con costo S/ y beneficio estimado. Con un máximo de S/ 10 000, busca el subconjunto con beneficio total máximo.\n",
    "\n",
    "## Indicaciones clave\n",
    "\n",
    "Usa bitstring de longitud 8. Función de aptitud: beneficio si costo ≤ presupuesto, –∞ si no. Vecino: voltear 1 bit. Entrega lista seleccionada y beneficio."
   ],
   "id": "b7d279bbd61ea2fe"
  },
  {
   "metadata": {},
   "cell_type": "markdown",
   "source": "## Librerías",
   "id": "49a52f54dfb2cbad"
  },
  {
   "metadata": {
    "ExecuteTime": {
     "end_time": "2025-05-20T19:47:25.000912Z",
     "start_time": "2025-05-20T19:47:24.444871Z"
    }
   },
   "cell_type": "code",
   "source": [
    "import pandas as pd\n",
    "import numpy as np\n",
    "import random"
   ],
   "id": "6894fa9164745006",
   "outputs": [],
   "execution_count": 1
  },
  {
   "metadata": {},
   "cell_type": "markdown",
   "source": "## Control de aleatoriedad",
   "id": "68020709a1d29030"
  },
  {
   "metadata": {
    "ExecuteTime": {
     "end_time": "2025-05-20T19:47:36.121110Z",
     "start_time": "2025-05-20T19:47:36.117151Z"
    }
   },
   "cell_type": "code",
   "source": [
    "random.seed(42)\n",
    "np.random.seed(42)"
   ],
   "id": "31a0e6a6dc820efa",
   "outputs": [],
   "execution_count": 2
  },
  {
   "metadata": {},
   "cell_type": "markdown",
   "source": "## Dataset",
   "id": "a0b00bb644a46b5a"
  },
  {
   "metadata": {
    "ExecuteTime": {
     "end_time": "2025-05-20T19:48:35.315373Z",
     "start_time": "2025-05-20T19:48:35.291136Z"
    }
   },
   "cell_type": "code",
   "source": [
    "df = pd.read_csv(\"dataset/projects.csv\")\n",
    "proyectos = df['ProjectID'].tolist()\n",
    "costos = df['Cost_Soles'].tolist()\n",
    "beneficios = df['Benefit_Soles'].tolist()\n",
    "\n",
    "df.head()"
   ],
   "id": "c579ffe5b4f4943",
   "outputs": [
    {
     "data": {
      "text/plain": [
       "  ProjectID  Cost_Soles  Benefit_Soles\n",
       "0        P1        4932          14535\n",
       "1        P2        2191          12995\n",
       "2        P3        3074          12862\n",
       "3        P4        2613          12176\n",
       "4        P5        4646          12598"
      ],
      "text/html": [
       "<div>\n",
       "<style scoped>\n",
       "    .dataframe tbody tr th:only-of-type {\n",
       "        vertical-align: middle;\n",
       "    }\n",
       "\n",
       "    .dataframe tbody tr th {\n",
       "        vertical-align: top;\n",
       "    }\n",
       "\n",
       "    .dataframe thead th {\n",
       "        text-align: right;\n",
       "    }\n",
       "</style>\n",
       "<table border=\"1\" class=\"dataframe\">\n",
       "  <thead>\n",
       "    <tr style=\"text-align: right;\">\n",
       "      <th></th>\n",
       "      <th>ProjectID</th>\n",
       "      <th>Cost_Soles</th>\n",
       "      <th>Benefit_Soles</th>\n",
       "    </tr>\n",
       "  </thead>\n",
       "  <tbody>\n",
       "    <tr>\n",
       "      <th>0</th>\n",
       "      <td>P1</td>\n",
       "      <td>4932</td>\n",
       "      <td>14535</td>\n",
       "    </tr>\n",
       "    <tr>\n",
       "      <th>1</th>\n",
       "      <td>P2</td>\n",
       "      <td>2191</td>\n",
       "      <td>12995</td>\n",
       "    </tr>\n",
       "    <tr>\n",
       "      <th>2</th>\n",
       "      <td>P3</td>\n",
       "      <td>3074</td>\n",
       "      <td>12862</td>\n",
       "    </tr>\n",
       "    <tr>\n",
       "      <th>3</th>\n",
       "      <td>P4</td>\n",
       "      <td>2613</td>\n",
       "      <td>12176</td>\n",
       "    </tr>\n",
       "    <tr>\n",
       "      <th>4</th>\n",
       "      <td>P5</td>\n",
       "      <td>4646</td>\n",
       "      <td>12598</td>\n",
       "    </tr>\n",
       "  </tbody>\n",
       "</table>\n",
       "</div>"
      ]
     },
     "execution_count": 5,
     "metadata": {},
     "output_type": "execute_result"
    }
   ],
   "execution_count": 5
  },
  {
   "metadata": {},
   "cell_type": "markdown",
   "source": "## Parámetros",
   "id": "de16e7f4538141b2"
  },
  {
   "metadata": {
    "ExecuteTime": {
     "end_time": "2025-05-20T19:48:26.127439Z",
     "start_time": "2025-05-20T19:48:26.120362Z"
    }
   },
   "cell_type": "code",
   "source": "PRESUPUESTO = 10000",
   "id": "fd07c687219f1c59",
   "outputs": [],
   "execution_count": 3
  },
  {
   "metadata": {},
   "cell_type": "markdown",
   "source": "## Funciones",
   "id": "955299660e49adfe"
  },
  {
   "metadata": {
    "ExecuteTime": {
     "end_time": "2025-05-20T19:48:57.027477Z",
     "start_time": "2025-05-20T19:48:57.015288Z"
    }
   },
   "cell_type": "code",
   "source": [
    "def fitness(bitstring):\n",
    "    \"\"\"Devuelve el beneficio total si respeta presupuesto, -inf si lo supera.\"\"\"\n",
    "    costo_total = sum(c for c, b in zip(costos, bitstring) if b)\n",
    "    beneficio_total = sum(b for b, s in zip(beneficios, bitstring) if s)\n",
    "    if costo_total <= PRESUPUESTO:\n",
    "        return beneficio_total\n",
    "    else:\n",
    "        return float('-inf')  # Penalización\n",
    "\n",
    "def get_neighbors(bitstring):\n",
    "    \"\"\"Genera vecinos cambiando un solo bit.\"\"\"\n",
    "    vecinos = []\n",
    "    for i in range(len(bitstring)):\n",
    "        vecino = bitstring.copy()\n",
    "        vecino[i] = 1 - vecino[i]  # voltear bit\n",
    "        vecinos.append(vecino)\n",
    "    return vecinos\n",
    "\n",
    "def hill_climb(max_iters=1000):\n",
    "    \"\"\"Algoritmo de Hill Climbing para selección de proyectos.\"\"\"\n",
    "    actual = [random.randint(0, 1) for _ in range(8)]\n",
    "    valor_actual = fitness(actual)\n",
    "\n",
    "    for _ in range(max_iters):\n",
    "        vecinos = get_neighbors(actual)\n",
    "        mejor = max(vecinos, key=fitness)\n",
    "        valor_mejor = fitness(mejor)\n",
    "\n",
    "        if valor_mejor > valor_actual:\n",
    "            actual, valor_actual = mejor, valor_mejor\n",
    "        else:\n",
    "            break  # óptimo local\n",
    "\n",
    "    return actual, valor_actual"
   ],
   "id": "ad72461eb8283b72",
   "outputs": [],
   "execution_count": 6
  },
  {
   "metadata": {},
   "cell_type": "markdown",
   "source": "## Ejecución",
   "id": "3aa63c1c5b497e22"
  },
  {
   "metadata": {
    "ExecuteTime": {
     "end_time": "2025-05-20T19:49:09.677893Z",
     "start_time": "2025-05-20T19:49:09.671349Z"
    }
   },
   "cell_type": "code",
   "source": [
    "solucion, beneficio_total = hill_climb()\n",
    "\n",
    "proyectos_seleccionados = [p for p, b in zip(proyectos, solucion) if b]\n",
    "costo_total = sum(c for c, b in zip(costos, solucion) if b)\n",
    "\n",
    "print(\"Proyectos seleccionados:\", proyectos_seleccionados)\n",
    "print(f\"Costo total: S/ {costo_total}\")\n",
    "print(f\"Beneficio total: S/ {beneficio_total}\")"
   ],
   "id": "71dea0dce959111",
   "outputs": [
    {
     "name": "stdout",
     "output_type": "stream",
     "text": [
      "Proyectos seleccionados: ['P1', 'P3']\n",
      "Costo total: S/ 8006\n",
      "Beneficio total: S/ 27397\n"
     ]
    }
   ],
   "execution_count": 7
  }
 ],
 "metadata": {
  "kernelspec": {
   "display_name": "Python 3",
   "language": "python",
   "name": "python3"
  },
  "language_info": {
   "codemirror_mode": {
    "name": "ipython",
    "version": 2
   },
   "file_extension": ".py",
   "mimetype": "text/x-python",
   "name": "python",
   "nbconvert_exporter": "python",
   "pygments_lexer": "ipython2",
   "version": "2.7.6"
  }
 },
 "nbformat": 4,
 "nbformat_minor": 5
}
