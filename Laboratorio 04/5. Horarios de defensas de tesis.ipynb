{
 "cells": [
  {
   "metadata": {},
   "cell_type": "markdown",
   "source": [
    "# Horarios de defensas de tesis\n",
    "\n",
    "**Alumno:** VASQUEZ RAMOS, Jose Manuel\n",
    "\n",
    "**Fecha:** 20/05/2025\n",
    "\n",
    "___"
   ],
   "id": "d4e2c3b658448eeb"
  },
  {
   "metadata": {},
   "cell_type": "markdown",
   "source": [
    "## Contexto académico & objetivo\n",
    "\n",
    "Con un DataFrame de 15 tesistas y 6 salas disponibles en diferentes franjas, minimiza solapamientos y huecos sin exceder 4 horas continuas de uso por sala.\n",
    "\n",
    "## Indicaciones clave\n",
    "\n",
    "Codifica solución como (tesista → sala,franja). Heurística inicial: asignación secuencial. Vecino: mover 1 tesista a otra franja/sala. Reporta calendario final y métricas de huecos."
   ],
   "id": "ad9d9c521ea8c2fc"
  },
  {
   "metadata": {},
   "cell_type": "markdown",
   "source": "## Librerías",
   "id": "df16b0dd5805c4b"
  },
  {
   "cell_type": "code",
   "id": "initial_id",
   "metadata": {
    "collapsed": true,
    "ExecuteTime": {
     "end_time": "2025-05-20T19:53:10.125400Z",
     "start_time": "2025-05-20T19:53:09.781054Z"
    }
   },
   "source": [
    "import pandas as pd\n",
    "import numpy as np\n",
    "import random\n",
    "from collections import defaultdict"
   ],
   "outputs": [],
   "execution_count": 1
  },
  {
   "metadata": {},
   "cell_type": "markdown",
   "source": "## Control de aleatoriedad",
   "id": "fdb6ec36d0a66af0"
  },
  {
   "metadata": {
    "ExecuteTime": {
     "end_time": "2025-05-20T19:53:15.354651Z",
     "start_time": "2025-05-20T19:53:15.347092Z"
    }
   },
   "cell_type": "code",
   "source": [
    "random.seed(42)\n",
    "np.random.seed(42)"
   ],
   "id": "6fd39ce5f821ce6e",
   "outputs": [],
   "execution_count": 2
  },
  {
   "metadata": {},
   "cell_type": "markdown",
   "source": "## Dataset",
   "id": "e53bd7c86b17e0a7"
  },
  {
   "metadata": {
    "ExecuteTime": {
     "end_time": "2025-05-20T19:53:36.939202Z",
     "start_time": "2025-05-20T19:53:36.923332Z"
    }
   },
   "cell_type": "code",
   "source": [
    "df = pd.read_csv(\"dataset/tesistas.csv\")\n",
    "tesistas = df['TesistaID'].tolist()\n",
    "franjas = ['F1', 'F2', 'F3', 'F4', 'F5', 'F6']\n",
    "salas = [f\"Sala{i}\" for i in range(1, 7)]\n",
    "\n",
    "df.head()"
   ],
   "id": "2829f0bf96eb3d9d",
   "outputs": [
    {
     "data": {
      "text/plain": [
       "  TesistaID  F1  F2  F3  F4  F5  F6\n",
       "0       T01   1   1   1   0   1   1\n",
       "1       T02   0   0   0   0   1   1\n",
       "2       T03   1   1   0   0   0   0\n",
       "3       T04   1   0   0   0   1   0\n",
       "4       T05   0   0   0   1   0   0"
      ],
      "text/html": [
       "<div>\n",
       "<style scoped>\n",
       "    .dataframe tbody tr th:only-of-type {\n",
       "        vertical-align: middle;\n",
       "    }\n",
       "\n",
       "    .dataframe tbody tr th {\n",
       "        vertical-align: top;\n",
       "    }\n",
       "\n",
       "    .dataframe thead th {\n",
       "        text-align: right;\n",
       "    }\n",
       "</style>\n",
       "<table border=\"1\" class=\"dataframe\">\n",
       "  <thead>\n",
       "    <tr style=\"text-align: right;\">\n",
       "      <th></th>\n",
       "      <th>TesistaID</th>\n",
       "      <th>F1</th>\n",
       "      <th>F2</th>\n",
       "      <th>F3</th>\n",
       "      <th>F4</th>\n",
       "      <th>F5</th>\n",
       "      <th>F6</th>\n",
       "    </tr>\n",
       "  </thead>\n",
       "  <tbody>\n",
       "    <tr>\n",
       "      <th>0</th>\n",
       "      <td>T01</td>\n",
       "      <td>1</td>\n",
       "      <td>1</td>\n",
       "      <td>1</td>\n",
       "      <td>0</td>\n",
       "      <td>1</td>\n",
       "      <td>1</td>\n",
       "    </tr>\n",
       "    <tr>\n",
       "      <th>1</th>\n",
       "      <td>T02</td>\n",
       "      <td>0</td>\n",
       "      <td>0</td>\n",
       "      <td>0</td>\n",
       "      <td>0</td>\n",
       "      <td>1</td>\n",
       "      <td>1</td>\n",
       "    </tr>\n",
       "    <tr>\n",
       "      <th>2</th>\n",
       "      <td>T03</td>\n",
       "      <td>1</td>\n",
       "      <td>1</td>\n",
       "      <td>0</td>\n",
       "      <td>0</td>\n",
       "      <td>0</td>\n",
       "      <td>0</td>\n",
       "    </tr>\n",
       "    <tr>\n",
       "      <th>3</th>\n",
       "      <td>T04</td>\n",
       "      <td>1</td>\n",
       "      <td>0</td>\n",
       "      <td>0</td>\n",
       "      <td>0</td>\n",
       "      <td>1</td>\n",
       "      <td>0</td>\n",
       "    </tr>\n",
       "    <tr>\n",
       "      <th>4</th>\n",
       "      <td>T05</td>\n",
       "      <td>0</td>\n",
       "      <td>0</td>\n",
       "      <td>0</td>\n",
       "      <td>1</td>\n",
       "      <td>0</td>\n",
       "      <td>0</td>\n",
       "    </tr>\n",
       "  </tbody>\n",
       "</table>\n",
       "</div>"
      ]
     },
     "execution_count": 3,
     "metadata": {},
     "output_type": "execute_result"
    }
   ],
   "execution_count": 3
  },
  {
   "metadata": {},
   "cell_type": "markdown",
   "source": "## Funciones",
   "id": "cccccb8b9744db75"
  },
  {
   "metadata": {
    "ExecuteTime": {
     "end_time": "2025-05-20T19:54:01.654969Z",
     "start_time": "2025-05-20T19:54:01.640243Z"
    }
   },
   "cell_type": "code",
   "source": [
    "def disponibilidad_tesista(tesista_row):\n",
    "    \"\"\"Devuelve franjas disponibles para un tesista.\"\"\"\n",
    "    return [franja for franja in franjas if tesista_row[franja] == 1]\n",
    "\n",
    "def asignacion_inicial(df):\n",
    "    \"\"\"Heurística inicial secuencial: asignar a la primera franja/sala disponible.\"\"\"\n",
    "    asignacion = {}\n",
    "    sala_idx = 0\n",
    "    franja_idx = 0\n",
    "\n",
    "    for idx, row in df.iterrows():\n",
    "        disponibles = disponibilidad_tesista(row)\n",
    "        if not disponibles:\n",
    "            asignacion[row['TesistaID']] = None  # Sin opción\n",
    "            continue\n",
    "        # Buscar la siguiente sala y franja disponible\n",
    "        franja = disponibles[franja_idx % len(disponibles)]\n",
    "        sala = salas[sala_idx % len(salas)]\n",
    "        asignacion[row['TesistaID']] = (sala, franja)\n",
    "        sala_idx += 1\n",
    "    return asignacion\n",
    "\n",
    "def evaluar(asignacion):\n",
    "    \"\"\"Calcula métricas: solapamientos, huecos, franjas continuas por sala.\"\"\"\n",
    "    uso_sala_franja = defaultdict(list)  # (sala, franja) → [tesistas]\n",
    "    franjas_sala = defaultdict(set)      # sala → set de franjas usadas\n",
    "\n",
    "    for tesista, asignado in asignacion.items():\n",
    "        if asignado:\n",
    "            sala, franja = asignado\n",
    "            uso_sala_franja[(sala, franja)].append(tesista)\n",
    "            franjas_sala[sala].add(franja)\n",
    "\n",
    "    solapamientos = sum(len(v) - 1 for v in uso_sala_franja.values() if len(v) > 1)\n",
    "\n",
    "    huecos = 0\n",
    "    exceso_horas = 0\n",
    "    franja_index = {f: i for i, f in enumerate(franjas)}\n",
    "\n",
    "    for sala in salas:\n",
    "        franjas_usadas = sorted([franja_index[f] for f in franjas_sala[sala]])\n",
    "        if franjas_usadas:\n",
    "            bloques = []\n",
    "            inicio = franjas_usadas[0]\n",
    "            for i in range(1, len(franjas_usadas)):\n",
    "                if franjas_usadas[i] != franjas_usadas[i - 1] + 1:\n",
    "                    bloques.append((inicio, franjas_usadas[i - 1]))\n",
    "                    inicio = franjas_usadas[i]\n",
    "            bloques.append((inicio, franjas_usadas[-1]))\n",
    "            # calcular huecos internos y duración de bloques\n",
    "            for start, end in bloques:\n",
    "                duracion = end - start + 1\n",
    "                if duracion > 4:\n",
    "                    exceso_horas += duracion - 4\n",
    "                huecos += duracion - len([i for i in range(start, end + 1) if i in franjas_usadas])\n",
    "\n",
    "    return solapamientos, huecos, exceso_horas\n",
    "\n",
    "def get_neighbors(asignacion, df):\n",
    "    \"\"\"Genera vecinos moviendo un tesista a otra sala/franja válida.\"\"\"\n",
    "    vecinos = []\n",
    "    for tesista in asignacion:\n",
    "        actual = asignacion[tesista]\n",
    "        row = df[df['TesistaID'] == tesista].iloc[0]\n",
    "        disponibles = disponibilidad_tesista(row)\n",
    "        for franja in disponibles:\n",
    "            for sala in salas:\n",
    "                nueva = asignacion.copy()\n",
    "                nueva[tesista] = (sala, franja)\n",
    "                vecinos.append(nueva)\n",
    "    return vecinos\n",
    "\n",
    "def hill_climb(df, max_iters=1000):\n",
    "    actual = asignacion_inicial(df)\n",
    "    score_actual = evaluar(actual)\n",
    "\n",
    "    for _ in range(max_iters):\n",
    "        vecinos = get_neighbors(actual, df)\n",
    "        mejor = min(vecinos, key=evaluar)\n",
    "        score_mejor = evaluar(mejor)\n",
    "\n",
    "        if score_mejor < score_actual:\n",
    "            actual, score_actual = mejor, score_mejor\n",
    "        else:\n",
    "            break\n",
    "\n",
    "    return actual, score_actual"
   ],
   "id": "131be2204cf2b155",
   "outputs": [],
   "execution_count": 4
  },
  {
   "metadata": {},
   "cell_type": "markdown",
   "source": "## Ejecución",
   "id": "fbb79f660d9ed231"
  },
  {
   "metadata": {
    "ExecuteTime": {
     "end_time": "2025-05-20T19:54:19.671132Z",
     "start_time": "2025-05-20T19:54:19.620410Z"
    }
   },
   "cell_type": "code",
   "source": [
    "asignacion_final, (solapamientos, huecos, exceso) = hill_climb(df)\n",
    "\n",
    "print(\"\\nCalendario Final de Defensas:\")\n",
    "for tesista, asignado in asignacion_final.items():\n",
    "    if asignado:\n",
    "        sala, franja = asignado\n",
    "        print(f\"{tesista}: {sala}, {franja}\")\n",
    "    else:\n",
    "        print(f\"{tesista}: ❌ No asignado\")\n",
    "\n",
    "print(f\"\\nMétricas:\")\n",
    "print(f\"Solapamientos: {solapamientos}\")\n",
    "print(f\"Huecos por sala: {huecos}\")\n",
    "print(f\"Exceso de uso continuo (>4h): {exceso} franjas\")"
   ],
   "id": "d5d9d802ef81e720",
   "outputs": [
    {
     "name": "stdout",
     "output_type": "stream",
     "text": [
      "\n",
      "Calendario Final de Defensas:\n",
      "T01: Sala5, F1\n",
      "T02: Sala2, F5\n",
      "T03: Sala1, F2\n",
      "T04: Sala1, F5\n",
      "T05: Sala5, F4\n",
      "T06: Sala6, F1\n",
      "T07: Sala1, F4\n",
      "T08: Sala2, F2\n",
      "T09: Sala2, F3\n",
      "T10: Sala4, F1\n",
      "T11: Sala5, F2\n",
      "T12: Sala6, F5\n",
      "T13: Sala1, F1\n",
      "T14: Sala2, F1\n",
      "T15: Sala3, F1\n",
      "\n",
      "Métricas:\n",
      "Solapamientos: 0\n",
      "Huecos por sala: 0\n",
      "Exceso de uso continuo (>4h): 0 franjas\n"
     ]
    }
   ],
   "execution_count": 5
  }
 ],
 "metadata": {
  "kernelspec": {
   "display_name": "Python 3",
   "language": "python",
   "name": "python3"
  },
  "language_info": {
   "codemirror_mode": {
    "name": "ipython",
    "version": 2
   },
   "file_extension": ".py",
   "mimetype": "text/x-python",
   "name": "python",
   "nbconvert_exporter": "python",
   "pygments_lexer": "ipython2",
   "version": "2.7.6"
  }
 },
 "nbformat": 4,
 "nbformat_minor": 5
}
