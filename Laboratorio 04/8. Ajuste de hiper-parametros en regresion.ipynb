{
 "cells": [
  {
   "metadata": {},
   "cell_type": "markdown",
   "source": [
    "# Ajuste de hiper-parámetros en regresión\n",
    "\n",
    "**Alumno:** VASQUEZ RAMOS, Jose Manuel\n",
    "\n",
    "**Fecha:** 20/05/2025\n",
    "\n",
    "___"
   ],
   "id": "82d33ce54b14261"
  },
  {
   "metadata": {},
   "cell_type": "markdown",
   "source": [
    "## Contexto académico & objetivo\n",
    "\n",
    "Ajuste de hiper-parámetros en regresión sobre dataset HousePricesUNS.csv (precio de alquiler universitario). Implementa hill climbing + población usando DEAP para optimizar (α,ridge) de un modelo Ridge. Métrica: RMSE.\n",
    "\n",
    "## Indicaciones clave\n",
    "\n",
    "1) Usa deap (creator, toolbox, algorithms) con población = 20.\n",
    "2) Operadores: mutación gaussiana pequeña, sin cruce.\n",
    "3) Selección greedily (mejor vecino).\n",
    "4) Reporta α óptimo y curva de convergencia."
   ],
   "id": "42e5e78c8bd7b1da"
  },
  {
   "metadata": {},
   "cell_type": "markdown",
   "source": "## Librerías",
   "id": "62983a2cd3c562e0"
  },
  {
   "cell_type": "code",
   "id": "initial_id",
   "metadata": {
    "collapsed": true,
    "ExecuteTime": {
     "end_time": "2025-05-20T20:32:47.359388Z",
     "start_time": "2025-05-20T20:32:46.429621Z"
    }
   },
   "source": [
    "import pandas as pd\n",
    "import numpy as np\n",
    "import random\n",
    "from sklearn.linear_model import Ridge\n",
    "from sklearn.metrics import mean_squared_error\n",
    "from sklearn.model_selection import train_test_split\n",
    "from deap import base, creator, tools"
   ],
   "outputs": [],
   "execution_count": 1
  },
  {
   "metadata": {},
   "cell_type": "markdown",
   "source": "## Control de aleatoriedad",
   "id": "1a05230e3724c49f"
  },
  {
   "metadata": {
    "ExecuteTime": {
     "end_time": "2025-05-20T20:32:47.954641Z",
     "start_time": "2025-05-20T20:32:47.950292Z"
    }
   },
   "cell_type": "code",
   "source": [
    "SEED = 42\n",
    "\n",
    "random.seed(SEED)\n",
    "np.random.seed(SEED)"
   ],
   "id": "8b787679df3e2580",
   "outputs": [],
   "execution_count": 2
  },
  {
   "metadata": {},
   "cell_type": "markdown",
   "source": "## Dataset",
   "id": "cf83bfb6672d976"
  },
  {
   "metadata": {
    "ExecuteTime": {
     "end_time": "2025-05-20T20:32:48.666362Z",
     "start_time": "2025-05-20T20:32:48.652314Z"
    }
   },
   "cell_type": "code",
   "source": [
    "df = pd.read_csv(\"dataset/housePrices.csv\")\n",
    "X = df[['Rooms', 'Area_m2']].values\n",
    "y = df['Price_Soles'].values\n",
    "\n",
    "df.head()"
   ],
   "id": "ae264869e4ad5f66",
   "outputs": [
    {
     "data": {
      "text/plain": [
       "   Rooms  Area_m2  Price_Soles\n",
       "0      3      105         6390\n",
       "1      1       26        10940\n",
       "2      4       68        10080\n",
       "3      4       60         7560\n",
       "4      1       46         9990"
      ],
      "text/html": [
       "<div>\n",
       "<style scoped>\n",
       "    .dataframe tbody tr th:only-of-type {\n",
       "        vertical-align: middle;\n",
       "    }\n",
       "\n",
       "    .dataframe tbody tr th {\n",
       "        vertical-align: top;\n",
       "    }\n",
       "\n",
       "    .dataframe thead th {\n",
       "        text-align: right;\n",
       "    }\n",
       "</style>\n",
       "<table border=\"1\" class=\"dataframe\">\n",
       "  <thead>\n",
       "    <tr style=\"text-align: right;\">\n",
       "      <th></th>\n",
       "      <th>Rooms</th>\n",
       "      <th>Area_m2</th>\n",
       "      <th>Price_Soles</th>\n",
       "    </tr>\n",
       "  </thead>\n",
       "  <tbody>\n",
       "    <tr>\n",
       "      <th>0</th>\n",
       "      <td>3</td>\n",
       "      <td>105</td>\n",
       "      <td>6390</td>\n",
       "    </tr>\n",
       "    <tr>\n",
       "      <th>1</th>\n",
       "      <td>1</td>\n",
       "      <td>26</td>\n",
       "      <td>10940</td>\n",
       "    </tr>\n",
       "    <tr>\n",
       "      <th>2</th>\n",
       "      <td>4</td>\n",
       "      <td>68</td>\n",
       "      <td>10080</td>\n",
       "    </tr>\n",
       "    <tr>\n",
       "      <th>3</th>\n",
       "      <td>4</td>\n",
       "      <td>60</td>\n",
       "      <td>7560</td>\n",
       "    </tr>\n",
       "    <tr>\n",
       "      <th>4</th>\n",
       "      <td>1</td>\n",
       "      <td>46</td>\n",
       "      <td>9990</td>\n",
       "    </tr>\n",
       "  </tbody>\n",
       "</table>\n",
       "</div>"
      ]
     },
     "execution_count": 3,
     "metadata": {},
     "output_type": "execute_result"
    }
   ],
   "execution_count": 3
  },
  {
   "metadata": {},
   "cell_type": "markdown",
   "source": "## Prepración de datos",
   "id": "386cfe896605c532"
  },
  {
   "metadata": {
    "ExecuteTime": {
     "end_time": "2025-05-20T20:32:49.396684Z",
     "start_time": "2025-05-20T20:32:49.392362Z"
    }
   },
   "cell_type": "code",
   "source": "X_train, X_test, y_train, y_test = train_test_split(X, y, test_size=0.2, random_state=SEED)",
   "id": "c8398d9b83000bcc",
   "outputs": [],
   "execution_count": 4
  },
  {
   "metadata": {},
   "cell_type": "markdown",
   "source": "## Función de fitness (minimizar RMSE)",
   "id": "b2c7e5efb7814df"
  },
  {
   "metadata": {
    "ExecuteTime": {
     "end_time": "2025-05-20T20:32:50.059450Z",
     "start_time": "2025-05-20T20:32:50.054045Z"
    }
   },
   "cell_type": "code",
   "source": [
    "def evaluate(individual):\n",
    "    alpha = individual[0]\n",
    "    model = Ridge(alpha=alpha)\n",
    "    model.fit(X_train, y_train)\n",
    "    preds = model.predict(X_test)\n",
    "    rmse = np.sqrt(mean_squared_error(y_test, preds))\n",
    "    return (rmse,)"
   ],
   "id": "97afba6c5186a820",
   "outputs": [],
   "execution_count": 5
  },
  {
   "metadata": {},
   "cell_type": "markdown",
   "source": "## Configuración de DEAP",
   "id": "bad039f00ffcbc20"
  },
  {
   "metadata": {
    "ExecuteTime": {
     "end_time": "2025-05-20T20:32:50.609067Z",
     "start_time": "2025-05-20T20:32:50.597309Z"
    }
   },
   "cell_type": "code",
   "source": [
    "creator.create(\"FitnessMin\", base.Fitness, weights=(-1.0,))\n",
    "creator.create(\"Individual\", list, fitness=creator.FitnessMin)\n",
    "\n",
    "toolbox = base.Toolbox()\n",
    "toolbox.register(\"attr_alpha\", random.uniform, 0.01, 100.0)\n",
    "toolbox.register(\"individual\", tools.initRepeat, creator.Individual, toolbox.attr_alpha, n=1)\n",
    "toolbox.register(\"population\", tools.initRepeat, list, toolbox.individual)\n",
    "\n",
    "toolbox.register(\"evaluate\", evaluate)\n",
    "toolbox.register(\"mutate\", tools.mutGaussian, mu=0, sigma=1.0, indpb=1.0)\n",
    "toolbox.register(\"select\", tools.selBest)"
   ],
   "id": "84afec04926418f8",
   "outputs": [],
   "execution_count": 6
  },
  {
   "metadata": {},
   "cell_type": "markdown",
   "source": "## Algoritmo de Hill Climbing con población",
   "id": "cd7520706a349809"
  },
  {
   "metadata": {
    "ExecuteTime": {
     "end_time": "2025-05-20T20:32:51.174582Z",
     "start_time": "2025-05-20T20:32:51.167020Z"
    }
   },
   "cell_type": "code",
   "source": [
    "def hill_climb(pop_size=20, n_generations=50):\n",
    "    population = toolbox.population(n=pop_size)\n",
    "    convergence = []\n",
    "\n",
    "    # Evaluar la población inicial\n",
    "    fitnesses = list(map(toolbox.evaluate, population))\n",
    "    for ind, fit in zip(population, fitnesses):\n",
    "        ind.fitness.values = fit\n",
    "\n",
    "    for gen in range(n_generations):\n",
    "        offspring = []\n",
    "\n",
    "        # Mutar cada individuo para obtener un vecino\n",
    "        for ind in population:\n",
    "            neighbor = toolbox.clone(ind)\n",
    "            toolbox.mutate(neighbor)\n",
    "            neighbor[0] = max(0.01, neighbor[0])  # Mantener en rango válido\n",
    "            neighbor.fitness.values = toolbox.evaluate(neighbor)\n",
    "\n",
    "            # Selección greedy: mejor entre actual y vecino\n",
    "            if neighbor.fitness.values[0] < ind.fitness.values[0]:\n",
    "                offspring.append(neighbor)\n",
    "            else:\n",
    "                offspring.append(ind)\n",
    "\n",
    "        population = offspring\n",
    "        best_rmse = tools.selBest(population, 1)[0].fitness.values[0]\n",
    "        convergence.append(best_rmse)\n",
    "        print(f\"Generación {gen}: RMSE = {best_rmse:.4f}\")\n",
    "\n",
    "    best_individual = tools.selBest(population, 1)[0]\n",
    "    return best_individual, convergence"
   ],
   "id": "d958538e24b64d4d",
   "outputs": [],
   "execution_count": 7
  },
  {
   "metadata": {},
   "cell_type": "markdown",
   "source": "## Ejecución",
   "id": "9986349b4b39b057"
  },
  {
   "metadata": {
    "ExecuteTime": {
     "end_time": "2025-05-20T20:32:52.415303Z",
     "start_time": "2025-05-20T20:32:51.752615Z"
    }
   },
   "cell_type": "code",
   "source": [
    "best, convergence = hill_climb()\n",
    "\n",
    "print(f\"\\nα óptimo encontrado: {best[0]:.4f}\")"
   ],
   "id": "d2f7ff17a8a485e8",
   "outputs": [
    {
     "name": "stdout",
     "output_type": "stream",
     "text": [
      "Generación 0: RMSE = 2214.0527\n",
      "Generación 1: RMSE = 2214.0470\n",
      "Generación 2: RMSE = 2214.0470\n",
      "Generación 3: RMSE = 2214.0470\n",
      "Generación 4: RMSE = 2214.0470\n",
      "Generación 5: RMSE = 2214.0470\n",
      "Generación 6: RMSE = 2214.0470\n",
      "Generación 7: RMSE = 2214.0470\n",
      "Generación 8: RMSE = 2214.0470\n",
      "Generación 9: RMSE = 2214.0470\n",
      "Generación 10: RMSE = 2214.0470\n",
      "Generación 11: RMSE = 2214.0470\n",
      "Generación 12: RMSE = 2214.0470\n",
      "Generación 13: RMSE = 2214.0470\n",
      "Generación 14: RMSE = 2214.0470\n",
      "Generación 15: RMSE = 2214.0470\n",
      "Generación 16: RMSE = 2214.0470\n",
      "Generación 17: RMSE = 2214.0470\n",
      "Generación 18: RMSE = 2214.0470\n",
      "Generación 19: RMSE = 2214.0470\n",
      "Generación 20: RMSE = 2214.0470\n",
      "Generación 21: RMSE = 2214.0470\n",
      "Generación 22: RMSE = 2214.0470\n",
      "Generación 23: RMSE = 2214.0470\n",
      "Generación 24: RMSE = 2214.0470\n",
      "Generación 25: RMSE = 2214.0470\n",
      "Generación 26: RMSE = 2214.0470\n",
      "Generación 27: RMSE = 2214.0470\n",
      "Generación 28: RMSE = 2214.0470\n",
      "Generación 29: RMSE = 2214.0470\n",
      "Generación 30: RMSE = 2214.0470\n",
      "Generación 31: RMSE = 2214.0470\n",
      "Generación 32: RMSE = 2214.0470\n",
      "Generación 33: RMSE = 2214.0470\n",
      "Generación 34: RMSE = 2214.0470\n",
      "Generación 35: RMSE = 2214.0470\n",
      "Generación 36: RMSE = 2214.0470\n",
      "Generación 37: RMSE = 2214.0470\n",
      "Generación 38: RMSE = 2214.0470\n",
      "Generación 39: RMSE = 2214.0470\n",
      "Generación 40: RMSE = 2214.0470\n",
      "Generación 41: RMSE = 2214.0470\n",
      "Generación 42: RMSE = 2214.0470\n",
      "Generación 43: RMSE = 2214.0470\n",
      "Generación 44: RMSE = 2214.0470\n",
      "Generación 45: RMSE = 2214.0470\n",
      "Generación 46: RMSE = 2214.0470\n",
      "Generación 47: RMSE = 2214.0470\n",
      "Generación 48: RMSE = 2214.0470\n",
      "Generación 49: RMSE = 2214.0470\n",
      "\n",
      "α óptimo encontrado: 0.0100\n"
     ]
    }
   ],
   "execution_count": 8
  }
 ],
 "metadata": {
  "kernelspec": {
   "display_name": "Python 3",
   "language": "python",
   "name": "python3"
  },
  "language_info": {
   "codemirror_mode": {
    "name": "ipython",
    "version": 2
   },
   "file_extension": ".py",
   "mimetype": "text/x-python",
   "name": "python",
   "nbconvert_exporter": "python",
   "pygments_lexer": "ipython2",
   "version": "2.7.6"
  }
 },
 "nbformat": 4,
 "nbformat_minor": 5
}
