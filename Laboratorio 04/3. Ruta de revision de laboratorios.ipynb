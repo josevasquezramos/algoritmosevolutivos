{
 "cells": [
  {
   "cell_type": "code",
   "id": "initial_id",
   "metadata": {
    "collapsed": true,
    "ExecuteTime": {
     "end_time": "2025-05-19T18:02:45.022334Z",
     "start_time": "2025-05-19T18:02:44.893518Z"
    }
   },
   "source": [
    "import pandas as pd\n",
    "import random\n",
    "\n",
    "# Cargar la matriz de distancias desde CSV\n",
    "df = pd.read_csv(\"dataset/labDistances.csv\", index_col=0)\n",
    "labs = df.columns.tolist()\n",
    "\n",
    "# Función para calcular la distancia total de una ruta\n",
    "def calcular_distancia_total(ruta):\n",
    "    distancia = 0\n",
    "    for i in range(len(ruta) - 1):\n",
    "        distancia += df.loc[ruta[i], ruta[i + 1]]\n",
    "    distancia += df.loc[ruta[-1], ruta[0]]  # regreso al inicio\n",
    "    return distancia\n",
    "\n",
    "# Función para generar vecinos intercambiando dos nodos\n",
    "def generar_vecino(ruta):\n",
    "    vecino = ruta.copy()\n",
    "    i, j = random.sample(range(len(vecino)), 2)\n",
    "    vecino[i], vecino[j] = vecino[j], vecino[i]\n",
    "    return vecino\n",
    "\n",
    "# Algoritmo de Hill Climbing\n",
    "def hill_climbing(ruta_inicial, iteraciones=1000):\n",
    "    mejor_ruta = ruta_inicial\n",
    "    mejor_distancia = calcular_distancia_total(mejor_ruta)\n",
    "\n",
    "    for _ in range(iteraciones):\n",
    "        vecino = generar_vecino(mejor_ruta)\n",
    "        distancia_vecino = calcular_distancia_total(vecino)\n",
    "\n",
    "        if distancia_vecino < mejor_distancia:\n",
    "            mejor_ruta = vecino\n",
    "            mejor_distancia = distancia_vecino\n",
    "\n",
    "    return mejor_ruta, mejor_distancia\n",
    "\n",
    "# Ruta inicial aleatoria\n",
    "ruta_inicial = labs.copy()\n",
    "random.shuffle(ruta_inicial)\n",
    "\n",
    "# Ejecutar el algoritmo\n",
    "ruta_optima, distancia_optima = hill_climbing(ruta_inicial, 1000)\n",
    "\n",
    "# Mostrar resultados\n",
    "print(\"Orden óptimo de visita:\")\n",
    "print(\" → \".join(ruta_optima + [ruta_optima[0]]))  # ruta circular\n",
    "print(f\"Distancia total: {distancia_optima:.2f} metros\")\n"
   ],
   "outputs": [
    {
     "name": "stdout",
     "output_type": "stream",
     "text": [
      "Orden óptimo de visita:\n",
      "Lab10 → Lab3 → Lab5 → Lab1 → Lab7 → Lab9 → Lab6 → Lab8 → Lab4 → Lab2 → Lab10\n",
      "Distancia total: 1380.00 metros\n"
     ]
    }
   ],
   "execution_count": 2
  },
  {
   "metadata": {},
   "cell_type": "code",
   "outputs": [],
   "execution_count": null,
   "source": "",
   "id": "6d7efd1c9327b9a8"
  }
 ],
 "metadata": {
  "kernelspec": {
   "display_name": "Python 3",
   "language": "python",
   "name": "python3"
  },
  "language_info": {
   "codemirror_mode": {
    "name": "ipython",
    "version": 2
   },
   "file_extension": ".py",
   "mimetype": "text/x-python",
   "name": "python",
   "nbconvert_exporter": "python",
   "pygments_lexer": "ipython2",
   "version": "2.7.6"
  }
 },
 "nbformat": 4,
 "nbformat_minor": 5
}
