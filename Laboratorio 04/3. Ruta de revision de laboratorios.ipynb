{
 "cells": [
  {
   "metadata": {},
   "cell_type": "markdown",
   "source": [
    "# Ruta de revisión de laboratorios\n",
    "\n",
    "**Alumno:** VASQUEZ RAMOS, Jose Manuel\n",
    "\n",
    "**Fecha:** 20/05/2025\n",
    "\n",
    "___"
   ],
   "id": "9ff043fa086fb6fb"
  },
  {
   "metadata": {},
   "cell_type": "markdown",
   "source": [
    "## Contexto académico & objetivo\n",
    "\n",
    "El docente debe visitar 10 laboratorios de la facultad en el menor tiempo caminando. Usa una matriz de distancias (en metros) 10×10.\n",
    "\n",
    "## Indicaciones clave\n",
    "\n",
    "1) Modela la ruta como permutación.\n",
    "2) Vecindad: intercambio de dos nodos.\n",
    "3) Ejecuta hill climbing 1 000 iteraciones.\n",
    "4) Entrega orden óptimo y distancia total."
   ],
   "id": "24da149a41e921d1"
  },
  {
   "metadata": {},
   "cell_type": "markdown",
   "source": "## Librerías",
   "id": "ce8255dbc0fbd6a0"
  },
  {
   "metadata": {
    "ExecuteTime": {
     "end_time": "2025-05-20T13:37:33.681998Z",
     "start_time": "2025-05-20T13:37:33.322881Z"
    }
   },
   "cell_type": "code",
   "source": [
    "import pandas as pd\n",
    "import numpy as np\n",
    "import random"
   ],
   "id": "c4df69e4305b1339",
   "outputs": [],
   "execution_count": 1
  },
  {
   "metadata": {},
   "cell_type": "markdown",
   "source": "## Control de aleatoriedad",
   "id": "e668656f01797aab"
  },
  {
   "metadata": {
    "ExecuteTime": {
     "end_time": "2025-05-20T13:37:33.807857Z",
     "start_time": "2025-05-20T13:37:33.798768Z"
    }
   },
   "cell_type": "code",
   "source": [
    "random.seed(42)\n",
    "np.random.seed(42)"
   ],
   "id": "365a2e68fb5ecd57",
   "outputs": [],
   "execution_count": 2
  },
  {
   "metadata": {
    "ExecuteTime": {
     "end_time": "2025-05-20T13:37:42.219392Z",
     "start_time": "2025-05-20T13:37:42.193158Z"
    }
   },
   "cell_type": "code",
   "source": [
    "df = pd.read_csv(\"dataset/labDistances.csv\", index_col=0)\n",
    "labs = list(df.columns)\n",
    "\n",
    "df.head()"
   ],
   "id": "bbb055671165b4e9",
   "outputs": [
    {
     "data": {
      "text/plain": [
       "       Lab1   Lab2   Lab3   Lab4   Lab5   Lab6   Lab7   Lab8   Lab9  Lab10\n",
       "Lab1    0.0  158.0  140.0  208.0   80.5  180.0  183.0  129.5  111.0  168.5\n",
       "Lab2  158.0    0.0  185.5  146.5  183.5  170.0  226.0  197.0  137.5  177.0\n",
       "Lab3  140.0  185.5    0.0  205.5  111.0  257.0  150.0  228.5  167.0   95.0\n",
       "Lab4  208.0  146.5  205.5    0.0  227.0  223.0  225.0  157.5  161.5  238.5\n",
       "Lab5   80.5  183.5  111.0  227.0    0.0  146.0  243.5  135.5  211.0  199.0"
      ],
      "text/html": [
       "<div>\n",
       "<style scoped>\n",
       "    .dataframe tbody tr th:only-of-type {\n",
       "        vertical-align: middle;\n",
       "    }\n",
       "\n",
       "    .dataframe tbody tr th {\n",
       "        vertical-align: top;\n",
       "    }\n",
       "\n",
       "    .dataframe thead th {\n",
       "        text-align: right;\n",
       "    }\n",
       "</style>\n",
       "<table border=\"1\" class=\"dataframe\">\n",
       "  <thead>\n",
       "    <tr style=\"text-align: right;\">\n",
       "      <th></th>\n",
       "      <th>Lab1</th>\n",
       "      <th>Lab2</th>\n",
       "      <th>Lab3</th>\n",
       "      <th>Lab4</th>\n",
       "      <th>Lab5</th>\n",
       "      <th>Lab6</th>\n",
       "      <th>Lab7</th>\n",
       "      <th>Lab8</th>\n",
       "      <th>Lab9</th>\n",
       "      <th>Lab10</th>\n",
       "    </tr>\n",
       "  </thead>\n",
       "  <tbody>\n",
       "    <tr>\n",
       "      <th>Lab1</th>\n",
       "      <td>0.0</td>\n",
       "      <td>158.0</td>\n",
       "      <td>140.0</td>\n",
       "      <td>208.0</td>\n",
       "      <td>80.5</td>\n",
       "      <td>180.0</td>\n",
       "      <td>183.0</td>\n",
       "      <td>129.5</td>\n",
       "      <td>111.0</td>\n",
       "      <td>168.5</td>\n",
       "    </tr>\n",
       "    <tr>\n",
       "      <th>Lab2</th>\n",
       "      <td>158.0</td>\n",
       "      <td>0.0</td>\n",
       "      <td>185.5</td>\n",
       "      <td>146.5</td>\n",
       "      <td>183.5</td>\n",
       "      <td>170.0</td>\n",
       "      <td>226.0</td>\n",
       "      <td>197.0</td>\n",
       "      <td>137.5</td>\n",
       "      <td>177.0</td>\n",
       "    </tr>\n",
       "    <tr>\n",
       "      <th>Lab3</th>\n",
       "      <td>140.0</td>\n",
       "      <td>185.5</td>\n",
       "      <td>0.0</td>\n",
       "      <td>205.5</td>\n",
       "      <td>111.0</td>\n",
       "      <td>257.0</td>\n",
       "      <td>150.0</td>\n",
       "      <td>228.5</td>\n",
       "      <td>167.0</td>\n",
       "      <td>95.0</td>\n",
       "    </tr>\n",
       "    <tr>\n",
       "      <th>Lab4</th>\n",
       "      <td>208.0</td>\n",
       "      <td>146.5</td>\n",
       "      <td>205.5</td>\n",
       "      <td>0.0</td>\n",
       "      <td>227.0</td>\n",
       "      <td>223.0</td>\n",
       "      <td>225.0</td>\n",
       "      <td>157.5</td>\n",
       "      <td>161.5</td>\n",
       "      <td>238.5</td>\n",
       "    </tr>\n",
       "    <tr>\n",
       "      <th>Lab5</th>\n",
       "      <td>80.5</td>\n",
       "      <td>183.5</td>\n",
       "      <td>111.0</td>\n",
       "      <td>227.0</td>\n",
       "      <td>0.0</td>\n",
       "      <td>146.0</td>\n",
       "      <td>243.5</td>\n",
       "      <td>135.5</td>\n",
       "      <td>211.0</td>\n",
       "      <td>199.0</td>\n",
       "    </tr>\n",
       "  </tbody>\n",
       "</table>\n",
       "</div>"
      ]
     },
     "execution_count": 3,
     "metadata": {},
     "output_type": "execute_result"
    }
   ],
   "execution_count": 3
  },
  {
   "metadata": {},
   "cell_type": "markdown",
   "source": "## Funciones principales",
   "id": "524fb7f0febd312c"
  },
  {
   "metadata": {
    "ExecuteTime": {
     "end_time": "2025-05-20T13:37:46.039660Z",
     "start_time": "2025-05-20T13:37:46.029994Z"
    }
   },
   "cell_type": "code",
   "source": [
    "def calcular_distancia(ruta, distancias):\n",
    "    \"\"\"Calcula la distancia total de una ruta.\"\"\"\n",
    "    total = 0\n",
    "    for i in range(len(ruta) - 1):\n",
    "        a, b = ruta[i], ruta[i + 1]\n",
    "        total += distancias.loc[a, b]\n",
    "    # Retorno opcional al punto de inicio (comentado si no se desea)\n",
    "    # total += distancias.loc[ruta[-1], ruta[0]]\n",
    "    return total\n",
    "\n",
    "def generar_vecinos(ruta):\n",
    "    \"\"\"Genera vecinos intercambiando dos nodos.\"\"\"\n",
    "    vecinos = []\n",
    "    for i in range(len(ruta)):\n",
    "        for j in range(i + 1, len(ruta)):\n",
    "            nueva = ruta.copy()\n",
    "            nueva[i], nueva[j] = nueva[j], nueva[i]\n",
    "            vecinos.append(nueva)\n",
    "    return vecinos\n",
    "\n",
    "def hill_climb(distancias, max_iters=1000):\n",
    "    \"\"\"Algoritmo de Hill Climbing para ruta mínima.\"\"\"\n",
    "    ruta_actual = labs.copy()\n",
    "    random.shuffle(ruta_actual)\n",
    "    costo_actual = calcular_distancia(ruta_actual, distancias)\n",
    "\n",
    "    for i in range(max_iters):\n",
    "        vecinos = generar_vecinos(ruta_actual)\n",
    "        mejor_vecino = min(vecinos, key=lambda r: calcular_distancia(r, distancias))\n",
    "        mejor_costo = calcular_distancia(mejor_vecino, distancias)\n",
    "\n",
    "        if mejor_costo < costo_actual:\n",
    "            ruta_actual, costo_actual = mejor_vecino, mejor_costo\n",
    "        else:\n",
    "            break  # Óptimo local alcanzado\n",
    "\n",
    "    return ruta_actual, costo_actual"
   ],
   "id": "da915ff3b082061d",
   "outputs": [],
   "execution_count": 4
  },
  {
   "metadata": {},
   "cell_type": "markdown",
   "source": "## Ejecutar y mostrar resultados",
   "id": "1ae660960c6b167e"
  },
  {
   "metadata": {
    "ExecuteTime": {
     "end_time": "2025-05-20T13:37:48.676486Z",
     "start_time": "2025-05-20T13:37:48.653609Z"
    }
   },
   "cell_type": "code",
   "source": [
    "ruta_optima, distancia_total = hill_climb(df)\n",
    "\n",
    "print(\"Orden óptimo de visita a los laboratorios:\")\n",
    "print(\" → \".join(ruta_optima))\n",
    "print(f\"Distancia total recorrida: {distancia_total:.2f} metros\")"
   ],
   "id": "9cdfed4d84979c24",
   "outputs": [
    {
     "name": "stdout",
     "output_type": "stream",
     "text": [
      "Orden óptimo de visita a los laboratorios:\n",
      "Lab2 → Lab4 → Lab8 → Lab6 → Lab9 → Lab7 → Lab10 → Lab3 → Lab5 → Lab1\n",
      "Distancia total recorrida: 1200.50 metros\n"
     ]
    }
   ],
   "execution_count": 5
  }
 ],
 "metadata": {
  "kernelspec": {
   "display_name": "Python 3",
   "language": "python",
   "name": "python3"
  },
  "language_info": {
   "codemirror_mode": {
    "name": "ipython",
    "version": 2
   },
   "file_extension": ".py",
   "mimetype": "text/x-python",
   "name": "python",
   "nbconvert_exporter": "python",
   "pygments_lexer": "ipython2",
   "version": "2.7.6"
  }
 },
 "nbformat": 4,
 "nbformat_minor": 5
}
